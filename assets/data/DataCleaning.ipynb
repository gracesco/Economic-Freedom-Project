{
 "cells": [
  {
   "cell_type": "code",
   "execution_count": 3,
   "metadata": {},
   "outputs": [],
   "source": [
    "# Import dependencies\n",
    "import pandas as pd\n",
    "import numpy\n",
    "# Create filepath\n",
    "filepath = \"./EFRdata.csv\""
   ]
  },
  {
   "cell_type": "code",
   "execution_count": 5,
   "metadata": {},
   "outputs": [],
   "source": [
    "# Import csv file as dataframe\n",
    "CSVdata_df = pd.read_csv(filepath, encoding=\"ISO-8859-1\")\n",
    "mainDF = CSVdata_df.copy()\n",
    "# mainDF.head()\n",
    "# mainDF.dtypes"
   ]
  },
  {
   "cell_type": "code",
   "execution_count": 37,
   "metadata": {
    "tags": []
   },
   "outputs": [
    {
     "output_type": "stream",
     "name": "stdout",
     "text": "CountryID\nCountry Name\nWEBNAME\nRegion\nWorld Rank\nRegion Rank\n2019 Score\nProperty Rights\nJudical Effectiveness\nGovernment Integrity\nTax Burden\nGov't Spending\nFiscal Health\nBusiness Freedom\nLabor Freedom\nMonetary Freedom\nTrade Freedom\nInvestment Freedom \nFinancial Freedom\nTariff Rate (%)\nIncome Tax Rate (%)\nCorporate Tax Rate (%)\nTax Burden % of GDP\nGov't Expenditure % of GDP \nCountry\nPopulation (Millions)\nGDP (Billions, PPP)\nGDP Growth Rate (%)\n5 Year GDP Growth Rate (%)\nGDP per Capita (PPP)\nUnemployment (%)\nInflation (%)\nFDI Inflow (Millions)\nPublic Debt (% of GDP)\n"
    }
   ],
   "source": [
    "for col in mainDF.columns:\n",
    "    print (col)"
   ]
  },
  {
   "cell_type": "code",
   "execution_count": 8,
   "metadata": {},
   "outputs": [
    {
     "output_type": "execute_result",
     "data": {
      "text/plain": "    Country Name                        Region World Rank Region Rank  \\\n0    Afghanistan                  Asia-Pacific        152          39   \n1        Albania                        Europe         52          27   \n2        Algeria  Middle East and North Africa        171          14   \n3         Angola            Sub-Saharan Africa        156          33   \n4      Argentina                      Americas        148          26   \n..           ...                           ...        ...         ...   \n180      Vanuatu                  Asia-Pacific        116          26   \n181    Venezuela                      Americas        179          32   \n182      Vietnam                  Asia-Pacific        128          30   \n184       Zambia            Sub-Saharan Africa        138          27   \n185     Zimbabwe            Sub-Saharan Africa        175          45   \n\n     2019 Score  Property Rights  Judical Effectiveness  Government Integrity  \\\n0          51.5             19.6                   29.6                  25.2   \n1          66.5             54.8                   30.6                  40.4   \n2          46.2             31.6                   36.2                  28.9   \n3          50.6             35.9                   26.6                  20.5   \n4          52.2             47.8                   44.5                  33.5   \n..          ...              ...                    ...                   ...   \n180        56.4             65.9                   36.4                  51.9   \n181        25.9              7.6                   13.1                   7.9   \n182        55.3             49.8                   40.3                  34.0   \n184        53.6             45.0                   35.6                  32.3   \n185        40.4             29.7                   24.8                  15.8   \n\n     Tax Burden  Gov't Spending  ...  Tax Burden % of GDP  \\\n0          91.7            80.3  ...                  5.0   \n1          86.3            73.9  ...                 24.9   \n2          76.4            48.7  ...                 24.5   \n3          83.9            80.7  ...                 20.6   \n4          69.3            49.5  ...                 30.8   \n..          ...             ...  ...                  ...   \n180        97.3            54.1  ...                 16.3   \n181        74.7            58.1  ...                 14.9   \n182        79.7            74.1  ...                 18.0   \n184        72.3            80.1  ...                 17.9   \n185        62.3            74.5  ...                 22.3   \n\n     Gov't Expenditure % of GDP   Population (Millions)  GDP (Billions, PPP)  \\\n0                           25.6                   35.5               $69.6    \n1                           29.5                    2.9               $36.0    \n2                           41.4                   41.5              $632.9    \n3                           25.3                   28.2              $190.3    \n4                           41.0                   44.1              $920.2    \n..                           ...                    ...                  ...   \n180                         39.1                    0.3                $0.8    \n181                         37.4                   31.4              $380.7    \n182                         29.4                   93.6              $647.4    \n184                         25.8                   17.2               $68.9    \n185                         29.2                   14.9               $34.0    \n\n     GDP Growth Rate (%)  5 Year GDP Growth Rate (%)  GDP per Capita (PPP)  \\\n0                    2.5                         2.9                $1,958   \n1                    3.9                         2.5               $12,507   \n2                    2.0                         3.1               $15,237   \n3                    0.7                         2.9                $6,753   \n4                    2.9                         0.7               $20,876   \n..                   ...                         ...                   ...   \n180                  4.2                         2.4                $2,739   \n181                -14.0                        -7.8               $12,114   \n182                  6.8                         6.2                $6,913   \n184                  3.6                         4.0                $3,996   \n185                  3.0                         2.6                $2,283   \n\n     Unemployment (%)  Inflation (%)  Public Debt (% of GDP)  \n0                 8.8            5.0                     7.3  \n1                13.9            2.0                    71.2  \n2                10.0            5.6                    25.8  \n3                 8.2           31.7                    65.3  \n4                 8.7           25.7                    52.6  \n..                ...            ...                     ...  \n180               5.2            3.1                    48.4  \n181               7.7         1087.5                    34.9  \n182               2.1            3.5                    58.2  \n184               7.8            6.6                    62.2  \n185               5.0            1.3                    78.4  \n\n[179 rows x 30 columns]",
      "text/html": "<div>\n<style scoped>\n    .dataframe tbody tr th:only-of-type {\n        vertical-align: middle;\n    }\n\n    .dataframe tbody tr th {\n        vertical-align: top;\n    }\n\n    .dataframe thead th {\n        text-align: right;\n    }\n</style>\n<table border=\"1\" class=\"dataframe\">\n  <thead>\n    <tr style=\"text-align: right;\">\n      <th></th>\n      <th>Country Name</th>\n      <th>Region</th>\n      <th>World Rank</th>\n      <th>Region Rank</th>\n      <th>2019 Score</th>\n      <th>Property Rights</th>\n      <th>Judical Effectiveness</th>\n      <th>Government Integrity</th>\n      <th>Tax Burden</th>\n      <th>Gov't Spending</th>\n      <th>...</th>\n      <th>Tax Burden % of GDP</th>\n      <th>Gov't Expenditure % of GDP</th>\n      <th>Population (Millions)</th>\n      <th>GDP (Billions, PPP)</th>\n      <th>GDP Growth Rate (%)</th>\n      <th>5 Year GDP Growth Rate (%)</th>\n      <th>GDP per Capita (PPP)</th>\n      <th>Unemployment (%)</th>\n      <th>Inflation (%)</th>\n      <th>Public Debt (% of GDP)</th>\n    </tr>\n  </thead>\n  <tbody>\n    <tr>\n      <th>0</th>\n      <td>Afghanistan</td>\n      <td>Asia-Pacific</td>\n      <td>152</td>\n      <td>39</td>\n      <td>51.5</td>\n      <td>19.6</td>\n      <td>29.6</td>\n      <td>25.2</td>\n      <td>91.7</td>\n      <td>80.3</td>\n      <td>...</td>\n      <td>5.0</td>\n      <td>25.6</td>\n      <td>35.5</td>\n      <td>$69.6</td>\n      <td>2.5</td>\n      <td>2.9</td>\n      <td>$1,958</td>\n      <td>8.8</td>\n      <td>5.0</td>\n      <td>7.3</td>\n    </tr>\n    <tr>\n      <th>1</th>\n      <td>Albania</td>\n      <td>Europe</td>\n      <td>52</td>\n      <td>27</td>\n      <td>66.5</td>\n      <td>54.8</td>\n      <td>30.6</td>\n      <td>40.4</td>\n      <td>86.3</td>\n      <td>73.9</td>\n      <td>...</td>\n      <td>24.9</td>\n      <td>29.5</td>\n      <td>2.9</td>\n      <td>$36.0</td>\n      <td>3.9</td>\n      <td>2.5</td>\n      <td>$12,507</td>\n      <td>13.9</td>\n      <td>2.0</td>\n      <td>71.2</td>\n    </tr>\n    <tr>\n      <th>2</th>\n      <td>Algeria</td>\n      <td>Middle East and North Africa</td>\n      <td>171</td>\n      <td>14</td>\n      <td>46.2</td>\n      <td>31.6</td>\n      <td>36.2</td>\n      <td>28.9</td>\n      <td>76.4</td>\n      <td>48.7</td>\n      <td>...</td>\n      <td>24.5</td>\n      <td>41.4</td>\n      <td>41.5</td>\n      <td>$632.9</td>\n      <td>2.0</td>\n      <td>3.1</td>\n      <td>$15,237</td>\n      <td>10.0</td>\n      <td>5.6</td>\n      <td>25.8</td>\n    </tr>\n    <tr>\n      <th>3</th>\n      <td>Angola</td>\n      <td>Sub-Saharan Africa</td>\n      <td>156</td>\n      <td>33</td>\n      <td>50.6</td>\n      <td>35.9</td>\n      <td>26.6</td>\n      <td>20.5</td>\n      <td>83.9</td>\n      <td>80.7</td>\n      <td>...</td>\n      <td>20.6</td>\n      <td>25.3</td>\n      <td>28.2</td>\n      <td>$190.3</td>\n      <td>0.7</td>\n      <td>2.9</td>\n      <td>$6,753</td>\n      <td>8.2</td>\n      <td>31.7</td>\n      <td>65.3</td>\n    </tr>\n    <tr>\n      <th>4</th>\n      <td>Argentina</td>\n      <td>Americas</td>\n      <td>148</td>\n      <td>26</td>\n      <td>52.2</td>\n      <td>47.8</td>\n      <td>44.5</td>\n      <td>33.5</td>\n      <td>69.3</td>\n      <td>49.5</td>\n      <td>...</td>\n      <td>30.8</td>\n      <td>41.0</td>\n      <td>44.1</td>\n      <td>$920.2</td>\n      <td>2.9</td>\n      <td>0.7</td>\n      <td>$20,876</td>\n      <td>8.7</td>\n      <td>25.7</td>\n      <td>52.6</td>\n    </tr>\n    <tr>\n      <th>...</th>\n      <td>...</td>\n      <td>...</td>\n      <td>...</td>\n      <td>...</td>\n      <td>...</td>\n      <td>...</td>\n      <td>...</td>\n      <td>...</td>\n      <td>...</td>\n      <td>...</td>\n      <td>...</td>\n      <td>...</td>\n      <td>...</td>\n      <td>...</td>\n      <td>...</td>\n      <td>...</td>\n      <td>...</td>\n      <td>...</td>\n      <td>...</td>\n      <td>...</td>\n      <td>...</td>\n    </tr>\n    <tr>\n      <th>180</th>\n      <td>Vanuatu</td>\n      <td>Asia-Pacific</td>\n      <td>116</td>\n      <td>26</td>\n      <td>56.4</td>\n      <td>65.9</td>\n      <td>36.4</td>\n      <td>51.9</td>\n      <td>97.3</td>\n      <td>54.1</td>\n      <td>...</td>\n      <td>16.3</td>\n      <td>39.1</td>\n      <td>0.3</td>\n      <td>$0.8</td>\n      <td>4.2</td>\n      <td>2.4</td>\n      <td>$2,739</td>\n      <td>5.2</td>\n      <td>3.1</td>\n      <td>48.4</td>\n    </tr>\n    <tr>\n      <th>181</th>\n      <td>Venezuela</td>\n      <td>Americas</td>\n      <td>179</td>\n      <td>32</td>\n      <td>25.9</td>\n      <td>7.6</td>\n      <td>13.1</td>\n      <td>7.9</td>\n      <td>74.7</td>\n      <td>58.1</td>\n      <td>...</td>\n      <td>14.9</td>\n      <td>37.4</td>\n      <td>31.4</td>\n      <td>$380.7</td>\n      <td>-14.0</td>\n      <td>-7.8</td>\n      <td>$12,114</td>\n      <td>7.7</td>\n      <td>1087.5</td>\n      <td>34.9</td>\n    </tr>\n    <tr>\n      <th>182</th>\n      <td>Vietnam</td>\n      <td>Asia-Pacific</td>\n      <td>128</td>\n      <td>30</td>\n      <td>55.3</td>\n      <td>49.8</td>\n      <td>40.3</td>\n      <td>34.0</td>\n      <td>79.7</td>\n      <td>74.1</td>\n      <td>...</td>\n      <td>18.0</td>\n      <td>29.4</td>\n      <td>93.6</td>\n      <td>$647.4</td>\n      <td>6.8</td>\n      <td>6.2</td>\n      <td>$6,913</td>\n      <td>2.1</td>\n      <td>3.5</td>\n      <td>58.2</td>\n    </tr>\n    <tr>\n      <th>184</th>\n      <td>Zambia</td>\n      <td>Sub-Saharan Africa</td>\n      <td>138</td>\n      <td>27</td>\n      <td>53.6</td>\n      <td>45.0</td>\n      <td>35.6</td>\n      <td>32.3</td>\n      <td>72.3</td>\n      <td>80.1</td>\n      <td>...</td>\n      <td>17.9</td>\n      <td>25.8</td>\n      <td>17.2</td>\n      <td>$68.9</td>\n      <td>3.6</td>\n      <td>4.0</td>\n      <td>$3,996</td>\n      <td>7.8</td>\n      <td>6.6</td>\n      <td>62.2</td>\n    </tr>\n    <tr>\n      <th>185</th>\n      <td>Zimbabwe</td>\n      <td>Sub-Saharan Africa</td>\n      <td>175</td>\n      <td>45</td>\n      <td>40.4</td>\n      <td>29.7</td>\n      <td>24.8</td>\n      <td>15.8</td>\n      <td>62.3</td>\n      <td>74.5</td>\n      <td>...</td>\n      <td>22.3</td>\n      <td>29.2</td>\n      <td>14.9</td>\n      <td>$34.0</td>\n      <td>3.0</td>\n      <td>2.6</td>\n      <td>$2,283</td>\n      <td>5.0</td>\n      <td>1.3</td>\n      <td>78.4</td>\n    </tr>\n  </tbody>\n</table>\n<p>179 rows × 30 columns</p>\n</div>"
     },
     "metadata": {},
     "execution_count": 8
    }
   ],
   "source": [
    "# Remove redundant columns and countries with no data\n",
    "\n",
    "clean_DF = mainDF.drop(columns=['CountryID', 'WEBNAME', 'Country', \"FDI Inflow (Millions)\"]).dropna(subset=['World Rank']).drop(mainDF.index[88])\n",
    "# Map formatting to each column\n",
    "format_mapping={'World Rank': '{:,.0f}', 'Region Rank': '{:,.0f}'}\n",
    "for key, value in format_mapping.items():\n",
    "    clean_DF[key] = clean_DF[key].apply(value.format)\n",
    "\n",
    "# Fill missing Unemployment Data\n",
    "clean_DF.loc[clean_DF[\"Country Name\"] == \"Dominica\", \"Unemployment (%)\"] = 1.7\n",
    "clean_DF.loc[clean_DF[\"Country Name\"] == \"Cuba\", \"Unemployment (%)\"] = 11\n",
    "clean_DF.loc[clean_DF[\"Country Name\"] == \"Kiribati\", \"Unemployment (%)\"] = 0\n",
    "clean_DF.loc[clean_DF[\"Country Name\"] == \"Kosovo\", \"Unemployment (%)\"] = 25.4\n",
    "clean_DF.loc[clean_DF[\"Country Name\"] == \"Seychelles\", \"Unemployment (%)\"] = 3.0\n",
    "\n",
    "clean_DF"
   ]
  },
  {
   "cell_type": "code",
   "execution_count": 9,
   "metadata": {},
   "outputs": [],
   "source": [
    "# Output cleaned dataset to csv and to json\n",
    "clean_DF.to_csv(\"cleanData.csv\", index=False, header=True)\n",
    "clean_DF.to_json(\"cleanData.json\")"
   ]
  },
  {
   "cell_type": "code",
   "execution_count": 6,
   "metadata": {
    "tags": []
   },
   "outputs": [
    {
     "output_type": "execute_result",
     "data": {
      "text/plain": "array(['Asia-Pacific', 'Europe', 'Middle East and North Africa',\n       'Sub-Saharan Africa', 'Americas'], dtype=object)"
     },
     "metadata": {},
     "execution_count": 6
    }
   ],
   "source": [
    "#Groupby Regions\n",
    "Regions = clean_DF[\"Region\"].unique()\n",
    "Regions"
   ]
  },
  {
   "cell_type": "code",
   "execution_count": 7,
   "metadata": {
    "tags": []
   },
   "outputs": [],
   "source": [
    "grouped = clean_DF.groupby(\"Region\")\n",
    "ADF = grouped.get_group(\"Americas\")\n",
    "EUDF = grouped.get_group(\"Europe\")\n",
    "MENADF = grouped.get_group(\"Middle East and North Africa\")\n",
    "SSADF = grouped.get_group(\"Sub-Saharan Africa\")\n",
    "APDF = grouped.get_group(\"Asia-Pacific\") "
   ]
  },
  {
   "cell_type": "code",
   "execution_count": 8,
   "metadata": {},
   "outputs": [],
   "source": [
    "# Show summary stats for each World Region\n",
    "Asummary = ADF.describe(include=numpy.number)\n",
    "EUsummary = EUDF.describe(include=numpy.number)\n",
    "APsummary  = APDF.describe(include=numpy.number)\n",
    "SSAsummary = SSADF.describe(include=numpy.number)\n",
    "MENAsummary = MENADF.describe(include=numpy.number)"
   ]
  }
 ],
 "metadata": {
  "language_info": {
   "codemirror_mode": {
    "name": "ipython",
    "version": 3
   },
   "file_extension": ".py",
   "mimetype": "text/x-python",
   "name": "python",
   "nbconvert_exporter": "python",
   "pygments_lexer": "ipython3",
   "version": "3.7.4-final"
  },
  "orig_nbformat": 2,
  "kernelspec": {
   "name": "python3",
   "display_name": "Python 3"
  }
 },
 "nbformat": 4,
 "nbformat_minor": 2
}