{
 "cells": [
  {
   "cell_type": "code",
   "execution_count": 15,
   "metadata": {},
   "outputs": [],
   "source": [
    "import numpy as np\n",
    "import pandas as pd\n",
    "import plotly.express as px\n",
    "import plotly.graph_objects as go\n"
   ]
  },
  {
   "cell_type": "code",
   "execution_count": 16,
   "metadata": {},
   "outputs": [
    {
     "data": {
      "text/html": [
       "<div>\n",
       "<style scoped>\n",
       "    .dataframe tbody tr th:only-of-type {\n",
       "        vertical-align: middle;\n",
       "    }\n",
       "\n",
       "    .dataframe tbody tr th {\n",
       "        vertical-align: top;\n",
       "    }\n",
       "\n",
       "    .dataframe thead th {\n",
       "        text-align: right;\n",
       "    }\n",
       "</style>\n",
       "<table border=\"1\" class=\"dataframe\">\n",
       "  <thead>\n",
       "    <tr style=\"text-align: right;\">\n",
       "      <th></th>\n",
       "      <th>ID</th>\n",
       "      <th>Country_Name</th>\n",
       "      <th>Region</th>\n",
       "      <th>World_Rank</th>\n",
       "      <th>Region_Name</th>\n",
       "      <th>Score2019</th>\n",
       "      <th>Business_Freedom</th>\n",
       "      <th>Labor_Freedom</th>\n",
       "      <th>Monetary_Freedom</th>\n",
       "      <th>Trade_Freedom</th>\n",
       "      <th>Investment_Freedom</th>\n",
       "      <th>Financial_Freedom</th>\n",
       "    </tr>\n",
       "  </thead>\n",
       "  <tbody>\n",
       "    <tr>\n",
       "      <th>0</th>\n",
       "      <td>0</td>\n",
       "      <td>Venezuela</td>\n",
       "      <td>Americas</td>\n",
       "      <td>179</td>\n",
       "      <td>32</td>\n",
       "      <td>25.9</td>\n",
       "      <td>33.9</td>\n",
       "      <td>28.0</td>\n",
       "      <td>0.0</td>\n",
       "      <td>60.0</td>\n",
       "      <td>0</td>\n",
       "      <td>10</td>\n",
       "    </tr>\n",
       "    <tr>\n",
       "      <th>1</th>\n",
       "      <td>1</td>\n",
       "      <td>Cuba</td>\n",
       "      <td>Americas</td>\n",
       "      <td>178</td>\n",
       "      <td>31</td>\n",
       "      <td>27.8</td>\n",
       "      <td>20.0</td>\n",
       "      <td>20.0</td>\n",
       "      <td>65.6</td>\n",
       "      <td>64.0</td>\n",
       "      <td>10</td>\n",
       "      <td>10</td>\n",
       "    </tr>\n",
       "    <tr>\n",
       "      <th>2</th>\n",
       "      <td>2</td>\n",
       "      <td>Bolivia</td>\n",
       "      <td>Americas</td>\n",
       "      <td>173</td>\n",
       "      <td>30</td>\n",
       "      <td>42.3</td>\n",
       "      <td>58.8</td>\n",
       "      <td>52.9</td>\n",
       "      <td>68.8</td>\n",
       "      <td>70.4</td>\n",
       "      <td>15</td>\n",
       "      <td>40</td>\n",
       "    </tr>\n",
       "    <tr>\n",
       "      <th>3</th>\n",
       "      <td>3</td>\n",
       "      <td>Ecuador</td>\n",
       "      <td>Americas</td>\n",
       "      <td>170</td>\n",
       "      <td>29</td>\n",
       "      <td>46.9</td>\n",
       "      <td>54.1</td>\n",
       "      <td>48.2</td>\n",
       "      <td>73.5</td>\n",
       "      <td>66.4</td>\n",
       "      <td>35</td>\n",
       "      <td>40</td>\n",
       "    </tr>\n",
       "    <tr>\n",
       "      <th>4</th>\n",
       "      <td>4</td>\n",
       "      <td>Suriname</td>\n",
       "      <td>Americas</td>\n",
       "      <td>165</td>\n",
       "      <td>28</td>\n",
       "      <td>48.1</td>\n",
       "      <td>48.3</td>\n",
       "      <td>73.5</td>\n",
       "      <td>56.0</td>\n",
       "      <td>64.6</td>\n",
       "      <td>40</td>\n",
       "      <td>30</td>\n",
       "    </tr>\n",
       "  </tbody>\n",
       "</table>\n",
       "</div>"
      ],
      "text/plain": [
       "   ID Country_Name    Region  World_Rank  Region_Name  Score2019  \\\n",
       "0   0    Venezuela  Americas         179           32       25.9   \n",
       "1   1         Cuba  Americas         178           31       27.8   \n",
       "2   2      Bolivia  Americas         173           30       42.3   \n",
       "3   3      Ecuador  Americas         170           29       46.9   \n",
       "4   4     Suriname  Americas         165           28       48.1   \n",
       "\n",
       "   Business_Freedom  Labor_Freedom  Monetary_Freedom  Trade_Freedom  \\\n",
       "0              33.9           28.0               0.0           60.0   \n",
       "1              20.0           20.0              65.6           64.0   \n",
       "2              58.8           52.9              68.8           70.4   \n",
       "3              54.1           48.2              73.5           66.4   \n",
       "4              48.3           73.5              56.0           64.6   \n",
       "\n",
       "   Investment_Freedom  Financial_Freedom  \n",
       "0                   0                 10  \n",
       "1                  10                 10  \n",
       "2                  15                 40  \n",
       "3                  35                 40  \n",
       "4                  40                 30  "
      ]
     },
     "execution_count": 16,
     "metadata": {},
     "output_type": "execute_result"
    }
   ],
   "source": [
    "# Create a reference the CSV file desired\n",
    "csv_path = \"Freedoms.csv\"\n",
    "\n",
    "# Read the CSV into a Pandas DataFrame\n",
    "freedoms_df = pd.read_csv(csv_path)\n",
    "\n",
    "# Print the first five rows of data to the screenfreedoms_df.head()\n",
    "freedoms_df.head()"
   ]
  },
  {
   "cell_type": "code",
   "execution_count": 25,
   "metadata": {
    "scrolled": false
   },
   "outputs": [
    {
     "data": {
      "application/vnd.plotly.v1+json": {
       "config": {
        "plotlyServerURL": "https://plot.ly"
       },
       "data": [
        {
         "branchvalues": "total",
         "customdata": [
          [
           "Sudan",
           166
          ],
          [
           "Chad",
           159
          ],
          [
           "Bahamas",
           76
          ],
          [
           "Equatorial Guinea",
           174
          ],
          [
           "Djibouti",
           169
          ],
          [
           "Central African Republic",
           161
          ],
          [
           "Gabon",
           118
          ],
          [
           "Kiribati",
           168
          ],
          [
           "Cameroon",
           145
          ],
          [
           "Iran",
           155
          ],
          [
           "Guinea-Bissau",
           135
          ],
          [
           "Barbados",
           67
          ],
          [
           "Congo, Republic of",
           176
          ],
          [
           "Solomon Islands",
           133
          ],
          [
           "Venezuela",
           179
          ],
          [
           "Liberia",
           160
          ],
          [
           "Nepal",
           136
          ],
          [
           "Kenya",
           130
          ],
          [
           "Ethiopia",
           137
          ],
          [
           "Angola",
           156
          ],
          [
           "Gambia",
           146
          ],
          [
           "Benin",
           127
          ],
          [
           "Nigeria",
           110.99999999999999
          ],
          [
           "Congo, Democratic Republic of the Congo",
           157
          ],
          [
           "Uzbekistan",
           140
          ],
          [
           "Maldives",
           141
          ],
          [
           "Mauritania",
           119
          ],
          [
           "Fiji",
           81
          ],
          [
           "Guinea",
           120
          ],
          [
           "Ghana",
           109
          ],
          [
           "Bangladesh",
           121
          ],
          [
           "Samoa",
           82
          ],
          [
           "Cuba",
           178.00000000000003
          ],
          [
           "Belize",
           123
          ],
          [
           "São Tomé and Príncipe",
           134
          ],
          [
           "Vanuatu",
           116
          ],
          [
           "Suriname",
           165
          ],
          [
           "Pakistan",
           131
          ],
          [
           "Burkina Faso",
           96
          ],
          [
           "Cambodia",
           105
          ],
          [
           "Niger",
           151
          ],
          [
           "Afghanistan",
           152
          ],
          [
           "Ecuador",
           170
          ],
          [
           "Saint Vincent and the Grenadines",
           55
          ],
          [
           "Guyana",
           113
          ],
          [
           "Algeria",
           171
          ],
          [
           "Tanzania",
           94
          ],
          [
           "Burundi",
           162
          ],
          [
           "Cabo Verde",
           73
          ],
          [
           "Dominica",
           72
          ],
          [
           "Trinidad and Tobago",
           112
          ],
          [
           "Jamaica",
           39
          ],
          [
           "Brazil",
           150
          ],
          [
           "Eritrea",
           177
          ],
          [
           "Madagascar",
           114
          ],
          [
           "Sierra Leone",
           167
          ],
          [
           "Togo",
           158
          ],
          [
           "Mali",
           103
          ],
          [
           "Argentina",
           148
          ],
          [
           "Zimbabwe",
           175
          ],
          [
           "Comoros",
           124
          ],
          [
           "Bolivia",
           173
          ],
          [
           "Rwanda",
           32
          ],
          [
           "Burma",
           139
          ],
          [
           "Kosovo",
           51
          ],
          [
           "Tunisia",
           125
          ],
          [
           "Egypt",
           144
          ],
          [
           "Haiti",
           143
          ],
          [
           "Senegal",
           117
          ],
          [
           "India",
           129
          ],
          [
           "Zambia",
           138
          ],
          [
           "China",
           100
          ],
          [
           "Saint Lucia",
           38
          ],
          [
           "Tajikistan",
           122
          ],
          [
           "Tonga",
           108
          ],
          [
           "Côte d'Ivoire",
           78
          ],
          [
           "Azerbaijan",
           60
          ],
          [
           "Ukraine",
           147
          ],
          [
           "Timor-Leste",
           172
          ],
          [
           "Malawi",
           153
          ],
          [
           "Uganda",
           95
          ],
          [
           "Mongolia",
           126
          ],
          [
           "Dominican Republic",
           89
          ],
          [
           "Nicaragua",
           107
          ],
          [
           "Turkmenistan",
           164
          ],
          [
           "South Africa",
           102
          ],
          [
           "Colombia",
           49
          ],
          [
           "Saudi Arabia",
           90.99999999999999
          ],
          [
           "Sri Lanka",
           115
          ],
          [
           "Belarus",
           104
          ],
          [
           "Paraguay",
           85
          ],
          [
           "Serbia",
           69
          ],
          [
           "Morocco",
           75
          ],
          [
           "Russia",
           98
          ],
          [
           "Mozambique",
           163
          ],
          [
           "Moldova",
           97
          ],
          [
           "Philippines",
           70
          ],
          [
           "Uruguay",
           40
          ],
          [
           "Kyrgyz Republic",
           79
          ],
          [
           "Kuwait",
           90
          ],
          [
           "Lebanon",
           154
          ],
          [
           "Vietnam",
           128
          ],
          [
           "Panama",
           50
          ],
          [
           "Bhutan",
           74
          ],
          [
           "Honduras",
           93
          ],
          [
           "Turkey",
           68
          ],
          [
           "Indonesia",
           56
          ],
          [
           "Kazakhstan",
           59
          ],
          [
           "Japan",
           30.000000000000004
          ],
          [
           "Korea, South",
           29
          ],
          [
           "Micronesia",
           149
          ],
          [
           "Armenia",
           47
          ],
          [
           "Papua New Guinea",
           101
          ],
          [
           "Lesotho",
           142
          ],
          [
           "France",
           71
          ],
          [
           "Greece",
           106.00000000000001
          ],
          [
           "Mexico",
           66
          ],
          [
           "El Salvador",
           84
          ],
          [
           "Seychelles",
           87
          ],
          [
           "Costa Rica",
           61
          ],
          [
           "Jordan",
           53
          ],
          [
           "Laos",
           110
          ],
          [
           "Malaysia",
           22
          ],
          [
           "Macedonia",
           33
          ],
          [
           "Guatemala",
           77
          ],
          [
           "Bosnia and Herzegovina",
           83
          ],
          [
           "Namibia",
           99
          ],
          [
           "Thailand",
           43
          ],
          [
           "Norway",
           26
          ],
          [
           "Qatar",
           28
          ],
          [
           "Botswana",
           36
          ],
          [
           "Bahrain",
           54
          ],
          [
           "Brunei Darussalam",
           62.99999999999999
          ],
          [
           "United Arab Emirates",
           9
          ],
          [
           "Israel",
           27
          ],
          [
           "Montenegro",
           92
          ],
          [
           "Belgium",
           48
          ],
          [
           "Germany",
           24
          ],
          [
           "Malta",
           41
          ],
          [
           "Croatia",
           86
          ],
          [
           "Slovakia",
           65
          ],
          [
           "Estonia",
           15.000000000000002
          ],
          [
           "Latvia",
           35
          ],
          [
           "United Kingdom",
           7
          ],
          [
           "Austria",
           31
          ],
          [
           "Czech Republic",
           23
          ],
          [
           "Hungary",
           64
          ],
          [
           "Sweden",
           19
          ],
          [
           "Poland",
           46
          ],
          [
           "Luxembourg",
           17
          ],
          [
           "Romania",
           42
          ],
          [
           "Portugal",
           62
          ],
          [
           "Slovenia",
           58
          ],
          [
           "Italy",
           80
          ],
          [
           "Cyprus",
           44
          ],
          [
           "Netherlands",
           13
          ],
          [
           "Denmark",
           13.999999999999998
          ],
          [
           "Lithuania",
           21
          ],
          [
           "Finland",
           20
          ],
          [
           "Ireland",
           6
          ],
          [
           "Spain",
           57
          ],
          [
           "Bulgaria",
           37
          ],
          [
           "Peru",
           45
          ],
          [
           "United States",
           12
          ],
          [
           "Canada",
           8
          ],
          [
           "Oman",
           88
          ],
          [
           "Iceland",
           11
          ],
          [
           "Taiwan ",
           10
          ],
          [
           "Switzerland",
           4
          ],
          [
           "Eswatini",
           132
          ],
          [
           "Australia",
           5
          ],
          [
           "Albania",
           52
          ],
          [
           "Mauritius",
           25
          ],
          [
           "Georgia",
           16
          ],
          [
           "Chile",
           18
          ],
          [
           "Macau",
           34
          ],
          [
           "New Zealand",
           3
          ],
          [
           "Singapore",
           2
          ],
          [
           "Hong Kong",
           1
          ],
          [
           "Venezuela",
           179
          ],
          [
           "Congo, Democratic Republic of the Congo",
           157
          ],
          [
           "Angola",
           156
          ],
          [
           "Suriname",
           165
          ],
          [
           "Sudan",
           166
          ],
          [
           "Ukraine",
           147
          ],
          [
           "Uzbekistan",
           140
          ],
          [
           "Iran",
           155
          ],
          [
           "Argentina",
           148
          ],
          [
           "Ethiopia",
           137
          ],
          [
           "Eritrea",
           177
          ],
          [
           "Burundi",
           162
          ],
          [
           "Egypt",
           144
          ],
          [
           "Gambia",
           146
          ],
          [
           "Azerbaijan",
           60
          ],
          [
           "Sierra Leone",
           167
          ],
          [
           "Nigeria",
           110.99999999999999
          ],
          [
           "Russia",
           98
          ],
          [
           "Mozambique",
           163
          ],
          [
           "Malawi",
           153
          ],
          [
           "Cuba",
           178.00000000000003
          ],
          [
           "Ghana",
           109
          ],
          [
           "Guinea",
           120
          ],
          [
           "Haiti",
           143
          ],
          [
           "Belarus",
           104
          ],
          [
           "Tajikistan",
           122
          ],
          [
           "Bolivia",
           173
          ],
          [
           "Liberia",
           160
          ],
          [
           "Vietnam",
           128
          ],
          [
           "Nepal",
           136
          ],
          [
           "Tonga",
           108
          ],
          [
           "Philippines",
           70
          ],
          [
           "Burma",
           139
          ],
          [
           "Bangladesh",
           121
          ],
          [
           "Turkey",
           68
          ],
          [
           "Papua New Guinea",
           101
          ],
          [
           "Sri Lanka",
           115
          ],
          [
           "Zambia",
           138
          ],
          [
           "Tanzania",
           94
          ],
          [
           "São Tomé and Príncipe",
           134
          ],
          [
           "Kuwait",
           90
          ],
          [
           "Kazakhstan",
           59
          ],
          [
           "China",
           100
          ],
          [
           "Central African Republic",
           161
          ],
          [
           "India",
           129
          ],
          [
           "Zimbabwe",
           175
          ],
          [
           "Madagascar",
           114
          ],
          [
           "Pakistan",
           131
          ],
          [
           "Bhutan",
           74
          ],
          [
           "Nicaragua",
           107
          ],
          [
           "Djibouti",
           169
          ],
          [
           "Kenya",
           130
          ],
          [
           "Paraguay",
           85
          ],
          [
           "Uruguay",
           40
          ],
          [
           "Honduras",
           93
          ],
          [
           "Turkmenistan",
           164
          ],
          [
           "Moldova",
           97
          ],
          [
           "Ecuador",
           170
          ],
          [
           "Fiji",
           81
          ],
          [
           "Eswatini",
           132
          ],
          [
           "Côte d'Ivoire",
           78
          ],
          [
           "Kyrgyz Republic",
           79
          ],
          [
           "Namibia",
           99
          ],
          [
           "Algeria",
           171
          ],
          [
           "Vanuatu",
           116
          ],
          [
           "Lesotho",
           142
          ],
          [
           "Trinidad and Tobago",
           112
          ],
          [
           "South Africa",
           102
          ],
          [
           "Thailand",
           43
          ],
          [
           "Norway",
           26
          ],
          [
           "Brazil",
           150
          ],
          [
           "Colombia",
           49
          ],
          [
           "Mexico",
           66
          ],
          [
           "Tunisia",
           125
          ],
          [
           "Georgia",
           16
          ],
          [
           "Belgium",
           48
          ],
          [
           "Rwanda",
           32
          ],
          [
           "Macau",
           34
          ],
          [
           "Brunei Darussalam",
           62.99999999999999
          ],
          [
           "United States",
           12
          ],
          [
           "Niger",
           151
          ],
          [
           "Afghanistan",
           152
          ],
          [
           "Guyana",
           113
          ],
          [
           "Guatemala",
           77
          ],
          [
           "Canada",
           8
          ],
          [
           "Indonesia",
           56
          ],
          [
           "Oman",
           88
          ],
          [
           "Armenia",
           47
          ],
          [
           "Mongolia",
           126
          ],
          [
           "Germany",
           24
          ],
          [
           "Lebanon",
           154
          ],
          [
           "Guinea-Bissau",
           135
          ],
          [
           "Saudi Arabia",
           90.99999999999999
          ],
          [
           "Bahamas",
           76
          ],
          [
           "Senegal",
           117
          ],
          [
           "Malta",
           41
          ],
          [
           "Barbados",
           67
          ],
          [
           "Kosovo",
           51
          ],
          [
           "Qatar",
           28
          ],
          [
           "Croatia",
           86
          ],
          [
           "Laos",
           110
          ],
          [
           "Slovakia",
           65
          ],
          [
           "Malaysia",
           22
          ],
          [
           "Belize",
           123
          ],
          [
           "Macedonia",
           33
          ],
          [
           "Botswana",
           36
          ],
          [
           "El Salvador",
           84
          ],
          [
           "France",
           71
          ],
          [
           "Togo",
           158
          ],
          [
           "Greece",
           106.00000000000001
          ],
          [
           "Panama",
           50
          ],
          [
           "Mauritius",
           25
          ],
          [
           "Cambodia",
           105
          ],
          [
           "Timor-Leste",
           172
          ],
          [
           "Estonia",
           15.000000000000002
          ],
          [
           "Dominican Republic",
           89
          ],
          [
           "Gabon",
           118
          ],
          [
           "Seychelles",
           87
          ],
          [
           "Serbia",
           69
          ],
          [
           "Uganda",
           95
          ],
          [
           "United Arab Emirates",
           9
          ],
          [
           "Maldives",
           141
          ],
          [
           "Kiribati",
           168
          ],
          [
           "Latvia",
           35
          ],
          [
           "Mauritania",
           119
          ],
          [
           "United Kingdom",
           7
          ],
          [
           "Albania",
           52
          ],
          [
           "Austria",
           31
          ],
          [
           "Czech Republic",
           23
          ],
          [
           "Mali",
           103
          ],
          [
           "Bahrain",
           54
          ],
          [
           "Montenegro",
           92
          ],
          [
           "Iceland",
           11
          ],
          [
           "Hungary",
           64
          ],
          [
           "Sweden",
           19
          ],
          [
           "Korea, South",
           29
          ],
          [
           "Poland",
           46
          ],
          [
           "Saint Vincent and the Grenadines",
           55
          ],
          [
           "Chad",
           159
          ],
          [
           "Congo, Republic of",
           176
          ],
          [
           "Luxembourg",
           17
          ],
          [
           "Jamaica",
           39
          ],
          [
           "Romania",
           42
          ],
          [
           "Comoros",
           124
          ],
          [
           "Portugal",
           62
          ],
          [
           "Bosnia and Herzegovina",
           83
          ],
          [
           "Costa Rica",
           61
          ],
          [
           "Morocco",
           75
          ],
          [
           "Samoa",
           82
          ],
          [
           "Slovenia",
           58
          ],
          [
           "Equatorial Guinea",
           174
          ],
          [
           "Peru",
           45
          ],
          [
           "Saint Lucia",
           38
          ],
          [
           "Cameroon",
           145
          ],
          [
           "Italy",
           80
          ],
          [
           "Cyprus",
           44
          ],
          [
           "Netherlands",
           13
          ],
          [
           "Cabo Verde",
           73
          ],
          [
           "Denmark",
           13.999999999999998
          ],
          [
           "Taiwan ",
           10
          ],
          [
           "Chile",
           18
          ],
          [
           "Lithuania",
           21
          ],
          [
           "Finland",
           20
          ],
          [
           "Jordan",
           53
          ],
          [
           "Switzerland",
           4
          ],
          [
           "Singapore",
           2
          ],
          [
           "Dominica",
           72
          ],
          [
           "Micronesia",
           149
          ],
          [
           "Japan",
           30.000000000000004
          ],
          [
           "Solomon Islands",
           133
          ],
          [
           "Burkina Faso",
           96
          ],
          [
           "Israel",
           27
          ],
          [
           "Benin",
           127
          ],
          [
           "Hong Kong",
           1
          ],
          [
           "Australia",
           5
          ],
          [
           "Ireland",
           6
          ],
          [
           "Spain",
           57
          ],
          [
           "New Zealand",
           3
          ],
          [
           "Bulgaria",
           37
          ],
          [
           "Cuba",
           178.00000000000003
          ],
          [
           "Turkmenistan",
           164
          ],
          [
           "Venezuela",
           179
          ],
          [
           "Paraguay",
           85
          ],
          [
           "Sierra Leone",
           167
          ],
          [
           "Honduras",
           93
          ],
          [
           "Equatorial Guinea",
           174
          ],
          [
           "Morocco",
           75
          ],
          [
           "Congo, Republic of",
           176
          ],
          [
           "Liberia",
           160
          ],
          [
           "Moldova",
           97
          ],
          [
           "Senegal",
           117
          ],
          [
           "Central African Republic",
           161
          ],
          [
           "Pakistan",
           131
          ],
          [
           "India",
           129
          ],
          [
           "Congo, Democratic Republic of the Congo",
           157
          ],
          [
           "Mozambique",
           163
          ],
          [
           "São Tomé and Príncipe",
           134
          ],
          [
           "Chad",
           159
          ],
          [
           "Zimbabwe",
           175
          ],
          [
           "Panama",
           50
          ],
          [
           "Croatia",
           86
          ],
          [
           "Portugal",
           62
          ],
          [
           "Madagascar",
           114
          ],
          [
           "France",
           71
          ],
          [
           "Luxembourg",
           17
          ],
          [
           "Zambia",
           138
          ],
          [
           "Lebanon",
           154
          ],
          [
           "Togo",
           158
          ],
          [
           "Ukraine",
           147
          ],
          [
           "Argentina",
           148
          ],
          [
           "Cameroon",
           145
          ],
          [
           "Nepal",
           136
          ],
          [
           "Ecuador",
           170
          ],
          [
           "Niger",
           151
          ],
          [
           "Guatemala",
           77
          ],
          [
           "Turkey",
           68
          ],
          [
           "Tajikistan",
           122
          ],
          [
           "Indonesia",
           56
          ],
          [
           "Algeria",
           171
          ],
          [
           "Macau",
           34
          ],
          [
           "Tunisia",
           125
          ],
          [
           "Finland",
           20
          ],
          [
           "Kiribati",
           168
          ],
          [
           "Iran",
           155
          ],
          [
           "Italy",
           80
          ],
          [
           "Mauritania",
           119
          ],
          [
           "Egypt",
           144
          ],
          [
           "Brazil",
           150
          ],
          [
           "Mali",
           103
          ],
          [
           "Burkina Faso",
           96
          ],
          [
           "Côte d'Ivoire",
           78
          ],
          [
           "Greece",
           106.00000000000001
          ],
          [
           "Russia",
           98
          ],
          [
           "Jordan",
           53
          ],
          [
           "Albania",
           52
          ],
          [
           "Germany",
           24
          ],
          [
           "Bolivia",
           173
          ],
          [
           "Gabon",
           118
          ],
          [
           "El Salvador",
           84
          ],
          [
           "Slovakia",
           65
          ],
          [
           "Norway",
           26
          ],
          [
           "Benin",
           127
          ],
          [
           "Sweden",
           19
          ],
          [
           "Belize",
           123
          ],
          [
           "Guinea",
           120
          ],
          [
           "Costa Rica",
           61
          ],
          [
           "Cabo Verde",
           73
          ],
          [
           "Nicaragua",
           107
          ],
          [
           "Estonia",
           15.000000000000002
          ],
          [
           "Oman",
           88
          ],
          [
           "Korea, South",
           29
          ],
          [
           "Dominican Republic",
           89
          ],
          [
           "Spain",
           57
          ],
          [
           "Philippines",
           70
          ],
          [
           "Ethiopia",
           137
          ],
          [
           "Mexico",
           66
          ],
          [
           "Uzbekistan",
           140
          ],
          [
           "Vanuatu",
           116
          ],
          [
           "Lesotho",
           142
          ],
          [
           "Angola",
           156
          ],
          [
           "Timor-Leste",
           172
          ],
          [
           "Sri Lanka",
           115
          ],
          [
           "Sudan",
           166
          ],
          [
           "South Africa",
           102
          ],
          [
           "Cyprus",
           44
          ],
          [
           "Ghana",
           109
          ],
          [
           "Barbados",
           67
          ],
          [
           "Laos",
           110
          ],
          [
           "Comoros",
           124
          ],
          [
           "Netherlands",
           13
          ],
          [
           "Afghanistan",
           152
          ],
          [
           "Djibouti",
           169
          ],
          [
           "Dominica",
           72
          ],
          [
           "Mauritius",
           25
          ],
          [
           "Taiwan ",
           10
          ],
          [
           "Belgium",
           48
          ],
          [
           "Guinea-Bissau",
           135
          ],
          [
           "Slovenia",
           58
          ],
          [
           "Malta",
           41
          ],
          [
           "Kuwait",
           90
          ],
          [
           "Guyana",
           113
          ],
          [
           "Haiti",
           143
          ],
          [
           "Vietnam",
           128
          ],
          [
           "Cambodia",
           105
          ],
          [
           "Seychelles",
           87
          ],
          [
           "Saudi Arabia",
           90.99999999999999
          ],
          [
           "Kenya",
           130
          ],
          [
           "Peru",
           45
          ],
          [
           "Lithuania",
           21
          ],
          [
           "Poland",
           46
          ],
          [
           "Azerbaijan",
           60
          ],
          [
           "Thailand",
           43
          ],
          [
           "Malawi",
           153
          ],
          [
           "Iceland",
           11
          ],
          [
           "China",
           100
          ],
          [
           "Romania",
           42
          ],
          [
           "Hungary",
           64
          ],
          [
           "Kosovo",
           51
          ],
          [
           "Chile",
           18
          ],
          [
           "Israel",
           27
          ],
          [
           "Burma",
           139
          ],
          [
           "Qatar",
           28
          ],
          [
           "Tanzania",
           94
          ],
          [
           "Bosnia and Herzegovina",
           83
          ],
          [
           "Gambia",
           146
          ],
          [
           "Serbia",
           69
          ],
          [
           "Burundi",
           162
          ],
          [
           "Eswatini",
           132
          ],
          [
           "Bahamas",
           76
          ],
          [
           "Bangladesh",
           121
          ],
          [
           "Botswana",
           36
          ],
          [
           "Bulgaria",
           37
          ],
          [
           "Austria",
           31
          ],
          [
           "Saint Lucia",
           38
          ],
          [
           "Tonga",
           108
          ],
          [
           "Eritrea",
           177
          ],
          [
           "Maldives",
           141
          ],
          [
           "Bahrain",
           54
          ],
          [
           "Armenia",
           47
          ],
          [
           "Macedonia",
           33
          ],
          [
           "Micronesia",
           149
          ],
          [
           "Uruguay",
           40
          ],
          [
           "Solomon Islands",
           133
          ],
          [
           "Switzerland",
           4
          ],
          [
           "Papua New Guinea",
           101
          ],
          [
           "Fiji",
           81
          ],
          [
           "Latvia",
           35
          ],
          [
           "Montenegro",
           92
          ],
          [
           "Suriname",
           165
          ],
          [
           "Saint Vincent and the Grenadines",
           55
          ],
          [
           "United Kingdom",
           7
          ],
          [
           "Jamaica",
           39
          ],
          [
           "Canada",
           8
          ],
          [
           "Malaysia",
           22
          ],
          [
           "Mongolia",
           126
          ],
          [
           "Belarus",
           104
          ],
          [
           "Ireland",
           6
          ],
          [
           "Trinidad and Tobago",
           112
          ],
          [
           "Georgia",
           16
          ],
          [
           "Czech Republic",
           23
          ],
          [
           "Samoa",
           82
          ],
          [
           "Colombia",
           49
          ],
          [
           "Japan",
           30.000000000000004
          ],
          [
           "Bhutan",
           74
          ],
          [
           "Kyrgyz Republic",
           79
          ],
          [
           "United Arab Emirates",
           9
          ],
          [
           "Rwanda",
           32
          ],
          [
           "Uganda",
           95
          ],
          [
           "Nigeria",
           110.99999999999999
          ],
          [
           "Australia",
           5
          ],
          [
           "Namibia",
           99
          ],
          [
           "Kazakhstan",
           59
          ],
          [
           "Denmark",
           13.999999999999998
          ],
          [
           "New Zealand",
           3
          ],
          [
           "Hong Kong",
           1
          ],
          [
           "United States",
           12
          ],
          [
           "Brunei Darussalam",
           62.99999999999999
          ],
          [
           "Singapore",
           2
          ],
          [
           "Eritrea",
           177
          ],
          [
           "Cuba",
           178.00000000000003
          ],
          [
           "Central African Republic",
           161
          ],
          [
           "Chad",
           159
          ],
          [
           "Cambodia",
           105
          ],
          [
           "Turkmenistan",
           164
          ],
          [
           "Zimbabwe",
           175
          ],
          [
           "Venezuela",
           179
          ],
          [
           "Guinea-Bissau",
           135
          ],
          [
           "Haiti",
           143
          ],
          [
           "Equatorial Guinea",
           174
          ],
          [
           "Congo, Republic of",
           176
          ],
          [
           "Malawi",
           153
          ],
          [
           "Kiribati",
           168
          ],
          [
           "Cameroon",
           145
          ],
          [
           "Sierra Leone",
           167
          ],
          [
           "Uganda",
           95
          ],
          [
           "Tanzania",
           94
          ],
          [
           "Madagascar",
           114
          ],
          [
           "Lebanon",
           154
          ],
          [
           "Suriname",
           165
          ],
          [
           "Ethiopia",
           137
          ],
          [
           "Afghanistan",
           152
          ],
          [
           "Bosnia and Herzegovina",
           83
          ],
          [
           "Burundi",
           162
          ],
          [
           "Togo",
           158
          ],
          [
           "Liberia",
           160
          ],
          [
           "Bangladesh",
           121
          ],
          [
           "Nigeria",
           110.99999999999999
          ],
          [
           "Burkina Faso",
           96
          ],
          [
           "Dominican Republic",
           89
          ],
          [
           "Gabon",
           118
          ],
          [
           "Sudan",
           166
          ],
          [
           "Vanuatu",
           116
          ],
          [
           "Burma",
           139
          ],
          [
           "Congo, Democratic Republic of the Congo",
           157
          ],
          [
           "Lesotho",
           142
          ],
          [
           "Senegal",
           117
          ],
          [
           "Guatemala",
           77
          ],
          [
           "Mali",
           103
          ],
          [
           "Gambia",
           146
          ],
          [
           "Ecuador",
           170
          ],
          [
           "Guinea",
           120
          ],
          [
           "Djibouti",
           169
          ],
          [
           "Angola",
           156
          ],
          [
           "Kenya",
           130
          ],
          [
           "Nicaragua",
           107
          ],
          [
           "Pakistan",
           131
          ],
          [
           "China",
           100
          ],
          [
           "Rwanda",
           32
          ],
          [
           "Niger",
           151
          ],
          [
           "Argentina",
           148
          ],
          [
           "Ghana",
           109
          ],
          [
           "Honduras",
           93
          ],
          [
           "India",
           129
          ],
          [
           "Mozambique",
           163
          ],
          [
           "Comoros",
           124
          ],
          [
           "El Salvador",
           84
          ],
          [
           "Kuwait",
           90
          ],
          [
           "Micronesia",
           149
          ],
          [
           "Brazil",
           150
          ],
          [
           "Bolivia",
           173
          ],
          [
           "Eswatini",
           132
          ],
          [
           "Guyana",
           113
          ],
          [
           "Macau",
           34
          ],
          [
           "Laos",
           110
          ],
          [
           "Timor-Leste",
           172
          ],
          [
           "Croatia",
           86
          ],
          [
           "Côte d'Ivoire",
           78
          ],
          [
           "Hungary",
           64
          ],
          [
           "Philippines",
           70
          ],
          [
           "Slovakia",
           65
          ],
          [
           "Paraguay",
           85
          ],
          [
           "Algeria",
           171
          ],
          [
           "Belize",
           123
          ],
          [
           "Jordan",
           53
          ],
          [
           "Nepal",
           136
          ],
          [
           "Mauritania",
           119
          ],
          [
           "Iran",
           155
          ],
          [
           "Papua New Guinea",
           101
          ],
          [
           "Benin",
           127
          ],
          [
           "Bulgaria",
           37
          ],
          [
           "Fiji",
           81
          ],
          [
           "Romania",
           42
          ],
          [
           "Seychelles",
           87
          ],
          [
           "Vietnam",
           128
          ],
          [
           "South Africa",
           102
          ],
          [
           "São Tomé and Príncipe",
           134
          ],
          [
           "Cabo Verde",
           73
          ],
          [
           "Poland",
           46
          ],
          [
           "Namibia",
           99
          ],
          [
           "Egypt",
           144
          ],
          [
           "Mongolia",
           126
          ],
          [
           "Turkey",
           68
          ],
          [
           "Ukraine",
           147
          ],
          [
           "Spain",
           57
          ],
          [
           "Moldova",
           97
          ],
          [
           "Malta",
           41
          ],
          [
           "Costa Rica",
           61
          ],
          [
           "Tajikistan",
           122
          ],
          [
           "Mexico",
           66
          ],
          [
           "Peru",
           45
          ],
          [
           "Trinidad and Tobago",
           112
          ],
          [
           "Bahamas",
           76
          ],
          [
           "Solomon Islands",
           133
          ],
          [
           "Bhutan",
           74
          ],
          [
           "Botswana",
           36
          ],
          [
           "Luxembourg",
           17
          ],
          [
           "Albania",
           52
          ],
          [
           "Indonesia",
           56
          ],
          [
           "Azerbaijan",
           60
          ],
          [
           "Barbados",
           67
          ],
          [
           "Morocco",
           75
          ],
          [
           "Dominica",
           72
          ],
          [
           "Zambia",
           138
          ],
          [
           "Qatar",
           28
          ],
          [
           "Bahrain",
           54
          ],
          [
           "Colombia",
           49
          ],
          [
           "Israel",
           27
          ],
          [
           "Italy",
           80
          ],
          [
           "Saudi Arabia",
           90.99999999999999
          ],
          [
           "Czech Republic",
           23
          ],
          [
           "Uzbekistan",
           140
          ],
          [
           "Serbia",
           69
          ],
          [
           "Montenegro",
           92
          ],
          [
           "Kyrgyz Republic",
           79
          ],
          [
           "Panama",
           50
          ],
          [
           "Kosovo",
           51
          ],
          [
           "Kazakhstan",
           59
          ],
          [
           "Greece",
           106.00000000000001
          ],
          [
           "Uruguay",
           40
          ],
          [
           "Austria",
           31
          ],
          [
           "Belarus",
           104
          ],
          [
           "Sri Lanka",
           115
          ],
          [
           "Lithuania",
           21
          ],
          [
           "Oman",
           88
          ],
          [
           "Estonia",
           15.000000000000002
          ],
          [
           "Tonga",
           108
          ],
          [
           "Switzerland",
           4
          ],
          [
           "Saint Lucia",
           38
          ],
          [
           "Saint Vincent and the Grenadines",
           55
          ],
          [
           "Chile",
           18
          ],
          [
           "Tunisia",
           125
          ],
          [
           "Cyprus",
           44
          ],
          [
           "Samoa",
           82
          ],
          [
           "Latvia",
           35
          ],
          [
           "Jamaica",
           39
          ],
          [
           "Belgium",
           48
          ],
          [
           "Armenia",
           47
          ],
          [
           "Maldives",
           141
          ],
          [
           "Russia",
           98
          ],
          [
           "Slovenia",
           58
          ],
          [
           "Portugal",
           62
          ],
          [
           "Mauritius",
           25
          ],
          [
           "United Arab Emirates",
           9
          ],
          [
           "Brunei Darussalam",
           62.99999999999999
          ],
          [
           "Macedonia",
           33
          ],
          [
           "Japan",
           30.000000000000004
          ],
          [
           "France",
           71
          ],
          [
           "Netherlands",
           13
          ],
          [
           "Canada",
           8
          ],
          [
           "Thailand",
           43
          ],
          [
           "Ireland",
           6
          ],
          [
           "Germany",
           24
          ],
          [
           "United States",
           12
          ],
          [
           "Malaysia",
           22
          ],
          [
           "Georgia",
           16
          ],
          [
           "Sweden",
           19
          ],
          [
           "Australia",
           5
          ],
          [
           "Iceland",
           11
          ],
          [
           "Finland",
           20
          ],
          [
           "Norway",
           26
          ],
          [
           "Denmark",
           13.999999999999998
          ],
          [
           "Singapore",
           2
          ],
          [
           "New Zealand",
           3
          ],
          [
           "Korea, South",
           29
          ],
          [
           "United Kingdom",
           7
          ],
          [
           "Taiwan ",
           10
          ],
          [
           "Hong Kong",
           1
          ],
          [
           "Afghanistan",
           152
          ],
          [
           "Albania",
           52
          ],
          [
           "Algeria",
           171
          ],
          [
           "Angola",
           156
          ],
          [
           "Argentina",
           148
          ],
          [
           "Armenia",
           47
          ],
          [
           "Australia",
           5
          ],
          [
           "Austria",
           31
          ],
          [
           "Azerbaijan",
           60
          ],
          [
           "Bahamas",
           76
          ],
          [
           "Bahrain",
           54
          ],
          [
           "Bangladesh",
           121
          ],
          [
           "Barbados",
           67
          ],
          [
           "Belarus",
           104
          ],
          [
           "Belgium",
           48
          ],
          [
           "Belize",
           123
          ],
          [
           "Benin",
           127
          ],
          [
           "Bhutan",
           74
          ],
          [
           "Bolivia",
           173
          ],
          [
           "Bosnia and Herzegovina",
           83
          ],
          [
           "Botswana",
           36
          ],
          [
           "Brazil",
           150
          ],
          [
           "Brunei Darussalam",
           62.99999999999999
          ],
          [
           "Bulgaria",
           37
          ],
          [
           "Burkina Faso",
           96
          ],
          [
           "Burma",
           139
          ],
          [
           "Burundi",
           162
          ],
          [
           "Cabo Verde",
           73
          ],
          [
           "Cambodia",
           105
          ],
          [
           "Cameroon",
           145
          ],
          [
           "Canada",
           8
          ],
          [
           "Central African Republic",
           161
          ],
          [
           "Chad",
           159
          ],
          [
           "Chile",
           18
          ],
          [
           "China",
           100
          ],
          [
           "Colombia",
           49
          ],
          [
           "Comoros",
           124
          ],
          [
           "Congo, Democratic Republic of the Congo",
           157
          ],
          [
           "Congo, Republic of",
           176
          ],
          [
           "Costa Rica",
           61
          ],
          [
           "Croatia",
           86
          ],
          [
           "Cuba",
           178.00000000000003
          ],
          [
           "Cyprus",
           44
          ],
          [
           "Czech Republic",
           23
          ],
          [
           "Côte d'Ivoire",
           78
          ],
          [
           "Denmark",
           13.999999999999998
          ],
          [
           "Djibouti",
           169
          ],
          [
           "Dominica",
           72
          ],
          [
           "Dominican Republic",
           89
          ],
          [
           "Ecuador",
           170
          ],
          [
           "Egypt",
           144
          ],
          [
           "El Salvador",
           84
          ],
          [
           "Equatorial Guinea",
           174
          ],
          [
           "Eritrea",
           177
          ],
          [
           "Estonia",
           15.000000000000002
          ],
          [
           "Eswatini",
           132
          ],
          [
           "Ethiopia",
           137
          ],
          [
           "Fiji",
           81
          ],
          [
           "Finland",
           20
          ],
          [
           "France",
           71
          ],
          [
           "Gabon",
           118
          ],
          [
           "Gambia",
           146
          ],
          [
           "Georgia",
           16
          ],
          [
           "Germany",
           24
          ],
          [
           "Ghana",
           109
          ],
          [
           "Greece",
           106.00000000000001
          ],
          [
           "Guatemala",
           77
          ],
          [
           "Guinea",
           120
          ],
          [
           "Guinea-Bissau",
           135
          ],
          [
           "Guyana",
           113
          ],
          [
           "Haiti",
           143
          ],
          [
           "Honduras",
           93
          ],
          [
           "Hong Kong",
           1
          ],
          [
           "Hungary",
           64
          ],
          [
           "Iceland",
           11
          ],
          [
           "India",
           129
          ],
          [
           "Indonesia",
           56
          ],
          [
           "Iran",
           155
          ],
          [
           "Ireland",
           6
          ],
          [
           "Israel",
           27
          ],
          [
           "Italy",
           80
          ],
          [
           "Jamaica",
           39
          ],
          [
           "Japan",
           30.000000000000004
          ],
          [
           "Jordan",
           53
          ],
          [
           "Kazakhstan",
           59
          ],
          [
           "Kenya",
           130
          ],
          [
           "Kiribati",
           168
          ],
          [
           "Korea, South",
           29
          ],
          [
           "Kosovo",
           51
          ],
          [
           "Kuwait",
           90
          ],
          [
           "Kyrgyz Republic",
           79
          ],
          [
           "Laos",
           110
          ],
          [
           "Latvia",
           35
          ],
          [
           "Lebanon",
           154
          ],
          [
           "Lesotho",
           142
          ],
          [
           "Liberia",
           160
          ],
          [
           "Lithuania",
           21
          ],
          [
           "Luxembourg",
           17
          ],
          [
           "Macau",
           34
          ],
          [
           "Macedonia",
           33
          ],
          [
           "Madagascar",
           114
          ],
          [
           "Malawi",
           153
          ],
          [
           "Malaysia",
           22
          ],
          [
           "Maldives",
           141
          ],
          [
           "Mali",
           103
          ],
          [
           "Malta",
           41
          ],
          [
           "Mauritania",
           119
          ],
          [
           "Mauritius",
           25
          ],
          [
           "Mexico",
           66
          ],
          [
           "Micronesia",
           149
          ],
          [
           "Moldova",
           97
          ],
          [
           "Mongolia",
           126
          ],
          [
           "Montenegro",
           92
          ],
          [
           "Morocco",
           75
          ],
          [
           "Mozambique",
           163
          ],
          [
           "Namibia",
           99
          ],
          [
           "Nepal",
           136
          ],
          [
           "Netherlands",
           13
          ],
          [
           "New Zealand",
           3
          ],
          [
           "Nicaragua",
           107
          ],
          [
           "Niger",
           151
          ],
          [
           "Nigeria",
           110.99999999999999
          ],
          [
           "Norway",
           26
          ],
          [
           "Oman",
           88
          ],
          [
           "Pakistan",
           131
          ],
          [
           "Panama",
           50
          ],
          [
           "Papua New Guinea",
           101
          ],
          [
           "Paraguay",
           85
          ],
          [
           "Peru",
           45
          ],
          [
           "Philippines",
           70
          ],
          [
           "Poland",
           46
          ],
          [
           "Portugal",
           62
          ],
          [
           "Qatar",
           28
          ],
          [
           "Romania",
           42
          ],
          [
           "Russia",
           98
          ],
          [
           "Rwanda",
           32
          ],
          [
           "Saint Lucia",
           38
          ],
          [
           "Saint Vincent and the Grenadines",
           55
          ],
          [
           "Samoa",
           82
          ],
          [
           "Saudi Arabia",
           90.99999999999999
          ],
          [
           "Senegal",
           117
          ],
          [
           "Serbia",
           69
          ],
          [
           "Seychelles",
           87
          ],
          [
           "Sierra Leone",
           167
          ],
          [
           "Singapore",
           2
          ],
          [
           "Slovakia",
           65
          ],
          [
           "Slovenia",
           58
          ],
          [
           "Solomon Islands",
           133
          ],
          [
           "South Africa",
           102
          ],
          [
           "Spain",
           57
          ],
          [
           "Sri Lanka",
           115
          ],
          [
           "Sudan",
           166
          ],
          [
           "Suriname",
           165
          ],
          [
           "Sweden",
           19
          ],
          [
           "Switzerland",
           4
          ],
          [
           "São Tomé and Príncipe",
           134
          ],
          [
           "Taiwan ",
           10
          ],
          [
           "Tajikistan",
           122
          ],
          [
           "Tanzania",
           94
          ],
          [
           "Thailand",
           43
          ],
          [
           "Timor-Leste",
           172
          ],
          [
           "Togo",
           158
          ],
          [
           "Tonga",
           108
          ],
          [
           "Trinidad and Tobago",
           112
          ],
          [
           "Tunisia",
           125
          ],
          [
           "Turkey",
           68
          ],
          [
           "Turkmenistan",
           164
          ],
          [
           "Uganda",
           95
          ],
          [
           "Ukraine",
           147
          ],
          [
           "United Arab Emirates",
           9
          ],
          [
           "United Kingdom",
           7
          ],
          [
           "United States",
           12
          ],
          [
           "Uruguay",
           40
          ],
          [
           "Uzbekistan",
           140
          ],
          [
           "Vanuatu",
           116
          ],
          [
           "Venezuela",
           179
          ],
          [
           "Vietnam",
           128
          ],
          [
           "Zambia",
           138
          ],
          [
           "Zimbabwe",
           175
          ],
          [
           "(?)",
           80.82382550335572
          ],
          [
           "(?)",
           82.26508802952257
          ],
          [
           "(?)",
           45.72483110345742
          ],
          [
           "(?)",
           82.86287313432837
          ],
          [
           "(?)",
           122.93328359381135
          ]
         ],
         "domain": {
          "x": [
           0,
           1
          ],
          "y": [
           0,
           1
          ]
         },
         "hovertemplate": "labels=%{label}<br>Score2019=%{value}<br>parent=%{parent}<br>id=%{id}<br>Country_Name=%{customdata[0]}<br>World_Rank=%{color}<extra></extra>",
         "ids": [
          "Sub-Saharan Africa/Sudan/52.1/59.0/56.9/45.0",
          "Sub-Saharan Africa/Chad/28.1/43.2/82.3/47.2",
          "Americas/Bahamas/68.5/67.5/78.1/47.8",
          "Sub-Saharan Africa/Equatorial Guinea/37.6/32.7/83.7/48.8",
          "Sub-Saharan Africa/Djibouti/54.7/60.4/72.7/50.4",
          "Sub-Saharan Africa/Central African Republic/24.2/40.1/72.3/51.0",
          "Sub-Saharan Africa/Gabon/52.1/53.0/80.0/51.2",
          "Asia-Pacific/Kiribati/41.9/50.7/81.1/53.2",
          "Sub-Saharan Africa/Cameroon/44.4/47.8/84.0/53.4",
          "Middle East and North Africa/Iran/62.2/50.7/60.1/54.6",
          "Sub-Saharan Africa/Guinea-Bissau/35.9/61.2/78.1/55.6",
          "Americas/Barbados/69.8/59.9/78.3/56.6",
          "Sub-Saharan Africa/Congo, Republic of/38.2/35.8/82.6/56.8",
          "Asia-Pacific/Solomon Islands/68.6/72.0/86.0/56.8",
          "Americas/Venezuela/33.9/28.0/0.0/60.0",
          "Sub-Saharan Africa/Liberia/50.6/38.3/68.9/60.1",
          "Asia-Pacific/Nepal/61.8/47.9/69.4/60.4",
          "Sub-Saharan Africa/Kenya/55.8/63.4/72.7/60.4",
          "Sub-Saharan Africa/Ethiopia/48.6/58.0/60.8/60.8",
          "Sub-Saharan Africa/Angola/55.7/58.8/55.4/61.2",
          "Sub-Saharan Africa/Gambia/54.0/67.4/62.4/61.6",
          "Sub-Saharan Africa/Benin/62.4/53.8/86.4/61.8",
          "Sub-Saharan Africa/Nigeria/51.2/83.3/65.0/62.4",
          "Sub-Saharan Africa/Congo, Democratic Republic of the Congo/53.2/41.9/49.1/62.6",
          "Asia-Pacific/Uzbekistan/72.5/58.7/58.9/62.6",
          "Asia-Pacific/Maldives/78.3/70.8/81.0/62.6",
          "Sub-Saharan Africa/Mauritania/61.9/51.5/81.2/62.6",
          "Asia-Pacific/Fiji/63.0/72.9/73.5/62.8",
          "Sub-Saharan Africa/Guinea/54.6/54.9/66.4/63.2",
          "Sub-Saharan Africa/Ghana/56.5/59.9/66.3/63.4",
          "Asia-Pacific/Bangladesh/50.9/68.2/69.9/63.6",
          "Asia-Pacific/Samoa/77.0/78.2/83.5/63.8",
          "Americas/Cuba/20.0/20.0/65.6/64.0",
          "Americas/Belize/61.8/54.8/78.7/64.0",
          "Sub-Saharan Africa/São Tomé and Príncipe/65.1/42.7/70.5/64.2",
          "Asia-Pacific/Vanuatu/52.4/58.8/75.0/64.4",
          "Americas/Suriname/48.3/73.5/56.0/64.6",
          "Asia-Pacific/Pakistan/56.1/41.8/72.6/64.8",
          "Sub-Saharan Africa/Burkina Faso/51.6/52.3/86.2/65.2",
          "Asia-Pacific/Cambodia/29.9/63.0/79.4/65.4",
          "Sub-Saharan Africa/Niger/56.3/48.2/76.7/65.8",
          "Asia-Pacific/Afghanistan/49.2/60.4/76.7/66.0",
          "Americas/Ecuador/54.1/48.2/73.5/66.4",
          "Americas/Saint Vincent and the Grenadines/76.5/73.5/82.2/66.6",
          "Americas/Guyana/59.3/62.0/76.9/66.8",
          "Middle East and North Africa/Algeria/61.6/49.9/74.9/67.4",
          "Sub-Saharan Africa/Tanzania/46.6/66.2/70.4/67.8",
          "Sub-Saharan Africa/Burundi/50.3/67.5/62.2/68.2",
          "Sub-Saharan Africa/Cabo Verde/65.2/55.7/84.1/68.2",
          "Americas/Dominica/70.7/60.4/85.7/68.2",
          "Americas/Trinidad and Tobago/67.8/75.6/75.1/68.4",
          "Americas/Jamaica/78.0/73.6/82.6/68.4",
          "Americas/Brazil/57.9/51.9/75.5/69.0",
          "Sub-Saharan Africa/Eritrea/17.7/70.0/61.0/69.2",
          "Sub-Saharan Africa/Madagascar/47.3/44.6/72.4/69.2",
          "Sub-Saharan Africa/Sierra Leone/44.9/29.3/65.0/69.4",
          "Sub-Saharan Africa/Togo/50.4/46.7/79.1/69.4",
          "Sub-Saharan Africa/Mali/53.8/52.2/81.6/69.8",
          "Americas/Argentina/56.4/46.9/60.2/70.0",
          "Sub-Saharan Africa/Zimbabwe/33.4/43.3/72.4/70.0",
          "Sub-Saharan Africa/Comoros/57.2/60.3/82.8/70.0",
          "Americas/Bolivia/58.8/52.9/68.8/70.4",
          "Sub-Saharan Africa/Rwanda/56.2/82.2/76.1/70.4",
          "Asia-Pacific/Burma/52.8/65.7/69.6/70.8",
          "Europe/Kosovo/73.8/64.9/78.3/70.8",
          "Middle East and North Africa/Tunisia/76.7/50.3/76.0/71.4",
          "Middle East and North Africa/Egypt/65.9/51.6/62.3/71.8",
          "Americas/Haiti/36.2/62.6/66.5/72.0",
          "Sub-Saharan Africa/Senegal/53.3/39.4/78.2/72.0",
          "Asia-Pacific/India/57.1/41.8/72.4/72.4",
          "Sub-Saharan Africa/Zambia/71.1/46.0/70.3/72.6",
          "Asia-Pacific/China/56.2/64.2/71.9/73.0",
          "Americas/Saint Lucia/76.3/69.2/83.9/73.2",
          "Asia-Pacific/Tajikistan/67.3/49.2/68.5/73.6",
          "Asia-Pacific/Tonga/75.3/69.9/69.4/73.6",
          "Sub-Saharan Africa/Côte d'Ivoire/61.0/52.5/74.2/73.6",
          "Asia-Pacific/Azerbaijan/69.5/63.9/63.0/74.6",
          "Europe/Ukraine/66.1/46.7/58.6/75.0",
          "Asia-Pacific/Timor-Leste/60.5/58.8/79.5/75.0",
          "Sub-Saharan Africa/Malawi/41.7/64.0/65.5/75.4",
          "Sub-Saharan Africa/Uganda/46.3/83.2/80.1/75.4",
          "Asia-Pacific/Mongolia/66.0/75.0/77.8/75.8",
          "Americas/Dominican Republic/51.9/57.6/79.7/75.8",
          "Americas/Nicaragua/56.0/55.8/72.7/76.0",
          "Asia-Pacific/Turkmenistan/30.0/20.0/73.4/76.0",
          "Sub-Saharan Africa/South Africa/64.3/59.1/75.2/76.0",
          "Americas/Colombia/71.4/78.5/75.6/76.0",
          "Middle East and North Africa/Saudi Arabia/72.3/63.3/78.1/76.0",
          "Asia-Pacific/Sri Lanka/75.1/58.8/70.1/76.2",
          "Europe/Belarus/75.0/75.3/67.0/76.4",
          "Americas/Paraguay/61.5/29.2/72.8/76.6",
          "Europe/Serbia/72.9/67.4/80.0/77.0",
          "Middle East and North Africa/Morocco/70.3/33.1/83.5/77.4",
          "Europe/Russia/78.4/52.5/65.1/77.8",
          "Sub-Saharan Africa/Mozambique/57.1/42.0/65.4/78.0",
          "Europe/Moldova/67.0/39.0/73.5/78.0",
          "Asia-Pacific/Philippines/61.3/57.9/69.6/78.2",
          "Americas/Uruguay/74.3/71.9/72.9/78.6",
          "Asia-Pacific/Kyrgyz Republic/73.4/79.8/74.4/78.6",
          "Middle East and North Africa/Kuwait/57.4/61.7/70.6/79.0",
          "Middle East and North Africa/Lebanon/47.9/46.5/78.1/79.0",
          "Asia-Pacific/Vietnam/63.5/62.8/68.9/79.2",
          "Americas/Panama/73.6/43.4/79.4/79.2",
          "Asia-Pacific/Bhutan/68.7/79.5/72.6/79.4",
          "Americas/Honduras/56.9/32.0/73.0/79.4",
          "Europe/Turkey/66.0/49.2/70.0/79.6",
          "Asia-Pacific/Indonesia/69.3/49.3/77.4/79.8",
          "Asia-Pacific/Kazakhstan/73.9/86.2/70.9/80.0",
          "Asia-Pacific/Japan/80.5/79.0/85.9/80.0",
          "Asia-Pacific/Korea, South/91.3/57.4/82.0/80.4",
          "Asia-Pacific/Micronesia/57.4/71.9/85.8/80.6",
          "Europe/Armenia/78.3/71.4/77.8/80.8",
          "Asia-Pacific/Papua New Guinea/62.2/72.6/70.0/80.9",
          "Sub-Saharan Africa/Lesotho/53.3/58.8/75.0/81.0",
          "Europe/France/81.2/45.2/79.1/81.0",
          "Europe/Greece/74.1/52.5/79.1/81.0",
          "Americas/Mexico/67.8/58.6/75.9/81.4",
          "Americas/El Salvador/57.2/53.1/79.0/81.4",
          "Sub-Saharan Africa/Seychelles/63.3/63.2/80.0/81.4",
          "Americas/Costa Rica/67.2/55.2/83.2/81.4",
          "Middle East and North Africa/Jordan/61.8/52.7/85.0/81.4",
          "Asia-Pacific/Laos/60.1/60.1/78.5/81.8",
          "Asia-Pacific/Malaysia/83.9/74.4/78.6/82.0",
          "Europe/Macedonia/80.2/71.5/78.7/82.0",
          "Americas/Guatemala/53.6/48.7/77.0/82.2",
          "Europe/Bosnia and Herzegovina/49.7/67.0/83.1/82.6",
          "Sub-Saharan Africa/Namibia/65.8/85.1/74.4/83.0",
          "Asia-Pacific/Thailand/82.5/63.9/75.2/83.0",
          "Europe/Norway/89.4/53.7/75.4/83.2",
          "Middle East and North Africa/Qatar/71.2/65.9/78.4/83.2",
          "Sub-Saharan Africa/Botswana/68.7/68.2/78.8/83.8",
          "Middle East and North Africa/Bahrain/71.4/71.1/81.6/83.8",
          "Asia-Pacific/Brunei Darussalam/80.2/90.8/76.5/84.0",
          "Middle East and North Africa/United Arab Emirates/79.9/81.1/80.9/84.4",
          "Middle East and North Africa/Israel/71.4/65.1/86.2/84.4",
          "Europe/Montenegro/73.3/73.4/81.6/84.7",
          "Europe/Belgium/78.1/61.0/76.1/86.0",
          "Europe/Germany/83.3/52.8/77.9/86.0",
          "Europe/Malta/67.1/61.3/78.2/86.0",
          "Europe/Croatia/60.7/44.0/78.5/86.0",
          "Europe/Slovakia/61.3/53.4/78.6/86.0",
          "Europe/Estonia/75.3/57.2/79.6/86.0",
          "Europe/Latvia/77.5/73.3/81.1/86.0",
          "Europe/United Kingdom/92.9/73.5/81.2/86.0",
          "Europe/Austria/74.9/68.7/81.5/86.0",
          "Europe/Czech Republic/72.4/78.1/81.5/86.0",
          "Europe/Hungary/61.1/64.7/81.8/86.0",
          "Europe/Sweden/88.0/53.9/82.0/86.0",
          "Europe/Poland/65.4/63.9/82.1/86.0",
          "Europe/Luxembourg/68.8/45.9/82.6/86.0",
          "Europe/Romania/63.1/64.5/82.7/86.0",
          "Europe/Portugal/79.7/44.3/83.0/86.0",
          "Europe/Slovenia/79.3/61.2/83.6/86.0",
          "Europe/Italy/71.7/51.1/84.0/86.0",
          "Europe/Cyprus/76.9/59.5/84.0/86.0",
          "Europe/Netherlands/81.4/60.3/84.0/86.0",
          "Europe/Denmark/90.7/86.4/84.1/86.0",
          "Europe/Lithuania/75.2/63.6/84.6/86.0",
          "Europe/Finland/89.4/50.3/84.8/86.0",
          "Europe/Ireland/83.1/75.3/87.0/86.0",
          "Europe/Spain/66.8/57.8/87.5/86.0",
          "Europe/Bulgaria/62.7/68.4/88.0/86.0",
          "Americas/Peru/67.8/63.5/83.9/86.4",
          "Americas/United States/83.8/89.4/76.6/86.6",
          "Americas/Canada/81.9/73.7/77.2/86.8",
          "Middle East and North Africa/Oman/75.2/57.3/77.7/87.0",
          "Europe/Iceland/88.4/64.1/81.7/87.0",
          "Asia-Pacific/Taiwan /93.2/60.9/84.4/87.0",
          "Europe/Switzerland/75.4/72.5/85.2/87.4",
          "Sub-Saharan Africa/Eswatini/59.2/67.5/73.7/87.6",
          "Asia-Pacific/Australia/88.3/84.1/86.6/87.6",
          "Europe/Albania/69.3/52.7/81.5/87.8",
          "Sub-Saharan Africa/Mauritius/79.8/60.8/79.4/88.4",
          "Europe/Georgia/85.8/76.6/76.0/88.6",
          "Americas/Chile/76.6/65.0/84.5/88.8",
          "Asia-Pacific/Macau/60.0/50.0/76.5/90.0",
          "Asia-Pacific/New Zealand/91.0/86.7/87.5/92.4",
          "Asia-Pacific/Singapore/90.8/91.0/85.3/94.8",
          "Asia-Pacific/Hong Kong/96.4/89.2/86.4/95.0",
          "Americas/Venezuela/33.9/28.0/0.0",
          "Sub-Saharan Africa/Congo, Democratic Republic of the Congo/53.2/41.9/49.1",
          "Sub-Saharan Africa/Angola/55.7/58.8/55.4",
          "Americas/Suriname/48.3/73.5/56.0",
          "Sub-Saharan Africa/Sudan/52.1/59.0/56.9",
          "Europe/Ukraine/66.1/46.7/58.6",
          "Asia-Pacific/Uzbekistan/72.5/58.7/58.9",
          "Middle East and North Africa/Iran/62.2/50.7/60.1",
          "Americas/Argentina/56.4/46.9/60.2",
          "Sub-Saharan Africa/Ethiopia/48.6/58.0/60.8",
          "Sub-Saharan Africa/Eritrea/17.7/70.0/61.0",
          "Sub-Saharan Africa/Burundi/50.3/67.5/62.2",
          "Middle East and North Africa/Egypt/65.9/51.6/62.3",
          "Sub-Saharan Africa/Gambia/54.0/67.4/62.4",
          "Asia-Pacific/Azerbaijan/69.5/63.9/63.0",
          "Sub-Saharan Africa/Sierra Leone/44.9/29.3/65.0",
          "Sub-Saharan Africa/Nigeria/51.2/83.3/65.0",
          "Europe/Russia/78.4/52.5/65.1",
          "Sub-Saharan Africa/Mozambique/57.1/42.0/65.4",
          "Sub-Saharan Africa/Malawi/41.7/64.0/65.5",
          "Americas/Cuba/20.0/20.0/65.6",
          "Sub-Saharan Africa/Ghana/56.5/59.9/66.3",
          "Sub-Saharan Africa/Guinea/54.6/54.9/66.4",
          "Americas/Haiti/36.2/62.6/66.5",
          "Europe/Belarus/75.0/75.3/67.0",
          "Asia-Pacific/Tajikistan/67.3/49.2/68.5",
          "Americas/Bolivia/58.8/52.9/68.8",
          "Sub-Saharan Africa/Liberia/50.6/38.3/68.9",
          "Asia-Pacific/Vietnam/63.5/62.8/68.9",
          "Asia-Pacific/Nepal/61.8/47.9/69.4",
          "Asia-Pacific/Tonga/75.3/69.9/69.4",
          "Asia-Pacific/Philippines/61.3/57.9/69.6",
          "Asia-Pacific/Burma/52.8/65.7/69.6",
          "Asia-Pacific/Bangladesh/50.9/68.2/69.9",
          "Europe/Turkey/66.0/49.2/70.0",
          "Asia-Pacific/Papua New Guinea/62.2/72.6/70.0",
          "Asia-Pacific/Sri Lanka/75.1/58.8/70.1",
          "Sub-Saharan Africa/Zambia/71.1/46.0/70.3",
          "Sub-Saharan Africa/Tanzania/46.6/66.2/70.4",
          "Sub-Saharan Africa/São Tomé and Príncipe/65.1/42.7/70.5",
          "Middle East and North Africa/Kuwait/57.4/61.7/70.6",
          "Asia-Pacific/Kazakhstan/73.9/86.2/70.9",
          "Asia-Pacific/China/56.2/64.2/71.9",
          "Sub-Saharan Africa/Central African Republic/24.2/40.1/72.3",
          "Asia-Pacific/India/57.1/41.8/72.4",
          "Sub-Saharan Africa/Zimbabwe/33.4/43.3/72.4",
          "Sub-Saharan Africa/Madagascar/47.3/44.6/72.4",
          "Asia-Pacific/Pakistan/56.1/41.8/72.6",
          "Asia-Pacific/Bhutan/68.7/79.5/72.6",
          "Americas/Nicaragua/56.0/55.8/72.7",
          "Sub-Saharan Africa/Djibouti/54.7/60.4/72.7",
          "Sub-Saharan Africa/Kenya/55.8/63.4/72.7",
          "Americas/Paraguay/61.5/29.2/72.8",
          "Americas/Uruguay/74.3/71.9/72.9",
          "Americas/Honduras/56.9/32.0/73.0",
          "Asia-Pacific/Turkmenistan/30.0/20.0/73.4",
          "Europe/Moldova/67.0/39.0/73.5",
          "Americas/Ecuador/54.1/48.2/73.5",
          "Asia-Pacific/Fiji/63.0/72.9/73.5",
          "Sub-Saharan Africa/Eswatini/59.2/67.5/73.7",
          "Sub-Saharan Africa/Côte d'Ivoire/61.0/52.5/74.2",
          "Asia-Pacific/Kyrgyz Republic/73.4/79.8/74.4",
          "Sub-Saharan Africa/Namibia/65.8/85.1/74.4",
          "Middle East and North Africa/Algeria/61.6/49.9/74.9",
          "Asia-Pacific/Vanuatu/52.4/58.8/75.0",
          "Sub-Saharan Africa/Lesotho/53.3/58.8/75.0",
          "Americas/Trinidad and Tobago/67.8/75.6/75.1",
          "Sub-Saharan Africa/South Africa/64.3/59.1/75.2",
          "Asia-Pacific/Thailand/82.5/63.9/75.2",
          "Europe/Norway/89.4/53.7/75.4",
          "Americas/Brazil/57.9/51.9/75.5",
          "Americas/Colombia/71.4/78.5/75.6",
          "Americas/Mexico/67.8/58.6/75.9",
          "Middle East and North Africa/Tunisia/76.7/50.3/76.0",
          "Europe/Georgia/85.8/76.6/76.0",
          "Europe/Belgium/78.1/61.0/76.1",
          "Sub-Saharan Africa/Rwanda/56.2/82.2/76.1",
          "Asia-Pacific/Macau/60.0/50.0/76.5",
          "Asia-Pacific/Brunei Darussalam/80.2/90.8/76.5",
          "Americas/United States/83.8/89.4/76.6",
          "Sub-Saharan Africa/Niger/56.3/48.2/76.7",
          "Asia-Pacific/Afghanistan/49.2/60.4/76.7",
          "Americas/Guyana/59.3/62.0/76.9",
          "Americas/Guatemala/53.6/48.7/77.0",
          "Americas/Canada/81.9/73.7/77.2",
          "Asia-Pacific/Indonesia/69.3/49.3/77.4",
          "Middle East and North Africa/Oman/75.2/57.3/77.7",
          "Europe/Armenia/78.3/71.4/77.8",
          "Asia-Pacific/Mongolia/66.0/75.0/77.8",
          "Europe/Germany/83.3/52.8/77.9",
          "Middle East and North Africa/Lebanon/47.9/46.5/78.1",
          "Sub-Saharan Africa/Guinea-Bissau/35.9/61.2/78.1",
          "Middle East and North Africa/Saudi Arabia/72.3/63.3/78.1",
          "Americas/Bahamas/68.5/67.5/78.1",
          "Sub-Saharan Africa/Senegal/53.3/39.4/78.2",
          "Europe/Malta/67.1/61.3/78.2",
          "Americas/Barbados/69.8/59.9/78.3",
          "Europe/Kosovo/73.8/64.9/78.3",
          "Middle East and North Africa/Qatar/71.2/65.9/78.4",
          "Europe/Croatia/60.7/44.0/78.5",
          "Asia-Pacific/Laos/60.1/60.1/78.5",
          "Europe/Slovakia/61.3/53.4/78.6",
          "Asia-Pacific/Malaysia/83.9/74.4/78.6",
          "Americas/Belize/61.8/54.8/78.7",
          "Europe/Macedonia/80.2/71.5/78.7",
          "Sub-Saharan Africa/Botswana/68.7/68.2/78.8",
          "Americas/El Salvador/57.2/53.1/79.0",
          "Europe/France/81.2/45.2/79.1",
          "Sub-Saharan Africa/Togo/50.4/46.7/79.1",
          "Europe/Greece/74.1/52.5/79.1",
          "Americas/Panama/73.6/43.4/79.4",
          "Sub-Saharan Africa/Mauritius/79.8/60.8/79.4",
          "Asia-Pacific/Cambodia/29.9/63.0/79.4",
          "Asia-Pacific/Timor-Leste/60.5/58.8/79.5",
          "Europe/Estonia/75.3/57.2/79.6",
          "Americas/Dominican Republic/51.9/57.6/79.7",
          "Sub-Saharan Africa/Gabon/52.1/53.0/80.0",
          "Sub-Saharan Africa/Seychelles/63.3/63.2/80.0",
          "Europe/Serbia/72.9/67.4/80.0",
          "Sub-Saharan Africa/Uganda/46.3/83.2/80.1",
          "Middle East and North Africa/United Arab Emirates/79.9/81.1/80.9",
          "Asia-Pacific/Maldives/78.3/70.8/81.0",
          "Asia-Pacific/Kiribati/41.9/50.7/81.1",
          "Europe/Latvia/77.5/73.3/81.1",
          "Sub-Saharan Africa/Mauritania/61.9/51.5/81.2",
          "Europe/United Kingdom/92.9/73.5/81.2",
          "Europe/Albania/69.3/52.7/81.5",
          "Europe/Austria/74.9/68.7/81.5",
          "Europe/Czech Republic/72.4/78.1/81.5",
          "Sub-Saharan Africa/Mali/53.8/52.2/81.6",
          "Middle East and North Africa/Bahrain/71.4/71.1/81.6",
          "Europe/Montenegro/73.3/73.4/81.6",
          "Europe/Iceland/88.4/64.1/81.7",
          "Europe/Hungary/61.1/64.7/81.8",
          "Europe/Sweden/88.0/53.9/82.0",
          "Asia-Pacific/Korea, South/91.3/57.4/82.0",
          "Europe/Poland/65.4/63.9/82.1",
          "Americas/Saint Vincent and the Grenadines/76.5/73.5/82.2",
          "Sub-Saharan Africa/Chad/28.1/43.2/82.3",
          "Sub-Saharan Africa/Congo, Republic of/38.2/35.8/82.6",
          "Europe/Luxembourg/68.8/45.9/82.6",
          "Americas/Jamaica/78.0/73.6/82.6",
          "Europe/Romania/63.1/64.5/82.7",
          "Sub-Saharan Africa/Comoros/57.2/60.3/82.8",
          "Europe/Portugal/79.7/44.3/83.0",
          "Europe/Bosnia and Herzegovina/49.7/67.0/83.1",
          "Americas/Costa Rica/67.2/55.2/83.2",
          "Middle East and North Africa/Morocco/70.3/33.1/83.5",
          "Asia-Pacific/Samoa/77.0/78.2/83.5",
          "Europe/Slovenia/79.3/61.2/83.6",
          "Sub-Saharan Africa/Equatorial Guinea/37.6/32.7/83.7",
          "Americas/Peru/67.8/63.5/83.9",
          "Americas/Saint Lucia/76.3/69.2/83.9",
          "Sub-Saharan Africa/Cameroon/44.4/47.8/84.0",
          "Europe/Italy/71.7/51.1/84.0",
          "Europe/Cyprus/76.9/59.5/84.0",
          "Europe/Netherlands/81.4/60.3/84.0",
          "Sub-Saharan Africa/Cabo Verde/65.2/55.7/84.1",
          "Europe/Denmark/90.7/86.4/84.1",
          "Asia-Pacific/Taiwan /93.2/60.9/84.4",
          "Americas/Chile/76.6/65.0/84.5",
          "Europe/Lithuania/75.2/63.6/84.6",
          "Europe/Finland/89.4/50.3/84.8",
          "Middle East and North Africa/Jordan/61.8/52.7/85.0",
          "Europe/Switzerland/75.4/72.5/85.2",
          "Asia-Pacific/Singapore/90.8/91.0/85.3",
          "Americas/Dominica/70.7/60.4/85.7",
          "Asia-Pacific/Micronesia/57.4/71.9/85.8",
          "Asia-Pacific/Japan/80.5/79.0/85.9",
          "Asia-Pacific/Solomon Islands/68.6/72.0/86.0",
          "Sub-Saharan Africa/Burkina Faso/51.6/52.3/86.2",
          "Middle East and North Africa/Israel/71.4/65.1/86.2",
          "Sub-Saharan Africa/Benin/62.4/53.8/86.4",
          "Asia-Pacific/Hong Kong/96.4/89.2/86.4",
          "Asia-Pacific/Australia/88.3/84.1/86.6",
          "Europe/Ireland/83.1/75.3/87.0",
          "Europe/Spain/66.8/57.8/87.5",
          "Asia-Pacific/New Zealand/91.0/86.7/87.5",
          "Europe/Bulgaria/62.7/68.4/88.0",
          "Americas/Cuba/20.0/20.0",
          "Asia-Pacific/Turkmenistan/30.0/20.0",
          "Americas/Venezuela/33.9/28.0",
          "Americas/Paraguay/61.5/29.2",
          "Sub-Saharan Africa/Sierra Leone/44.9/29.3",
          "Americas/Honduras/56.9/32.0",
          "Sub-Saharan Africa/Equatorial Guinea/37.6/32.7",
          "Middle East and North Africa/Morocco/70.3/33.1",
          "Sub-Saharan Africa/Congo, Republic of/38.2/35.8",
          "Sub-Saharan Africa/Liberia/50.6/38.3",
          "Europe/Moldova/67.0/39.0",
          "Sub-Saharan Africa/Senegal/53.3/39.4",
          "Sub-Saharan Africa/Central African Republic/24.2/40.1",
          "Asia-Pacific/Pakistan/56.1/41.8",
          "Asia-Pacific/India/57.1/41.8",
          "Sub-Saharan Africa/Congo, Democratic Republic of the Congo/53.2/41.9",
          "Sub-Saharan Africa/Mozambique/57.1/42.0",
          "Sub-Saharan Africa/São Tomé and Príncipe/65.1/42.7",
          "Sub-Saharan Africa/Chad/28.1/43.2",
          "Sub-Saharan Africa/Zimbabwe/33.4/43.3",
          "Americas/Panama/73.6/43.4",
          "Europe/Croatia/60.7/44.0",
          "Europe/Portugal/79.7/44.3",
          "Sub-Saharan Africa/Madagascar/47.3/44.6",
          "Europe/France/81.2/45.2",
          "Europe/Luxembourg/68.8/45.9",
          "Sub-Saharan Africa/Zambia/71.1/46.0",
          "Middle East and North Africa/Lebanon/47.9/46.5",
          "Sub-Saharan Africa/Togo/50.4/46.7",
          "Europe/Ukraine/66.1/46.7",
          "Americas/Argentina/56.4/46.9",
          "Sub-Saharan Africa/Cameroon/44.4/47.8",
          "Asia-Pacific/Nepal/61.8/47.9",
          "Americas/Ecuador/54.1/48.2",
          "Sub-Saharan Africa/Niger/56.3/48.2",
          "Americas/Guatemala/53.6/48.7",
          "Europe/Turkey/66.0/49.2",
          "Asia-Pacific/Tajikistan/67.3/49.2",
          "Asia-Pacific/Indonesia/69.3/49.3",
          "Middle East and North Africa/Algeria/61.6/49.9",
          "Asia-Pacific/Macau/60.0/50.0",
          "Middle East and North Africa/Tunisia/76.7/50.3",
          "Europe/Finland/89.4/50.3",
          "Asia-Pacific/Kiribati/41.9/50.7",
          "Middle East and North Africa/Iran/62.2/50.7",
          "Europe/Italy/71.7/51.1",
          "Sub-Saharan Africa/Mauritania/61.9/51.5",
          "Middle East and North Africa/Egypt/65.9/51.6",
          "Americas/Brazil/57.9/51.9",
          "Sub-Saharan Africa/Mali/53.8/52.2",
          "Sub-Saharan Africa/Burkina Faso/51.6/52.3",
          "Sub-Saharan Africa/Côte d'Ivoire/61.0/52.5",
          "Europe/Greece/74.1/52.5",
          "Europe/Russia/78.4/52.5",
          "Middle East and North Africa/Jordan/61.8/52.7",
          "Europe/Albania/69.3/52.7",
          "Europe/Germany/83.3/52.8",
          "Americas/Bolivia/58.8/52.9",
          "Sub-Saharan Africa/Gabon/52.1/53.0",
          "Americas/El Salvador/57.2/53.1",
          "Europe/Slovakia/61.3/53.4",
          "Europe/Norway/89.4/53.7",
          "Sub-Saharan Africa/Benin/62.4/53.8",
          "Europe/Sweden/88.0/53.9",
          "Americas/Belize/61.8/54.8",
          "Sub-Saharan Africa/Guinea/54.6/54.9",
          "Americas/Costa Rica/67.2/55.2",
          "Sub-Saharan Africa/Cabo Verde/65.2/55.7",
          "Americas/Nicaragua/56.0/55.8",
          "Europe/Estonia/75.3/57.2",
          "Middle East and North Africa/Oman/75.2/57.3",
          "Asia-Pacific/Korea, South/91.3/57.4",
          "Americas/Dominican Republic/51.9/57.6",
          "Europe/Spain/66.8/57.8",
          "Asia-Pacific/Philippines/61.3/57.9",
          "Sub-Saharan Africa/Ethiopia/48.6/58.0",
          "Americas/Mexico/67.8/58.6",
          "Asia-Pacific/Uzbekistan/72.5/58.7",
          "Asia-Pacific/Vanuatu/52.4/58.8",
          "Sub-Saharan Africa/Lesotho/53.3/58.8",
          "Sub-Saharan Africa/Angola/55.7/58.8",
          "Asia-Pacific/Timor-Leste/60.5/58.8",
          "Asia-Pacific/Sri Lanka/75.1/58.8",
          "Sub-Saharan Africa/Sudan/52.1/59.0",
          "Sub-Saharan Africa/South Africa/64.3/59.1",
          "Europe/Cyprus/76.9/59.5",
          "Sub-Saharan Africa/Ghana/56.5/59.9",
          "Americas/Barbados/69.8/59.9",
          "Asia-Pacific/Laos/60.1/60.1",
          "Sub-Saharan Africa/Comoros/57.2/60.3",
          "Europe/Netherlands/81.4/60.3",
          "Asia-Pacific/Afghanistan/49.2/60.4",
          "Sub-Saharan Africa/Djibouti/54.7/60.4",
          "Americas/Dominica/70.7/60.4",
          "Sub-Saharan Africa/Mauritius/79.8/60.8",
          "Asia-Pacific/Taiwan /93.2/60.9",
          "Europe/Belgium/78.1/61.0",
          "Sub-Saharan Africa/Guinea-Bissau/35.9/61.2",
          "Europe/Slovenia/79.3/61.2",
          "Europe/Malta/67.1/61.3",
          "Middle East and North Africa/Kuwait/57.4/61.7",
          "Americas/Guyana/59.3/62.0",
          "Americas/Haiti/36.2/62.6",
          "Asia-Pacific/Vietnam/63.5/62.8",
          "Asia-Pacific/Cambodia/29.9/63.0",
          "Sub-Saharan Africa/Seychelles/63.3/63.2",
          "Middle East and North Africa/Saudi Arabia/72.3/63.3",
          "Sub-Saharan Africa/Kenya/55.8/63.4",
          "Americas/Peru/67.8/63.5",
          "Europe/Lithuania/75.2/63.6",
          "Europe/Poland/65.4/63.9",
          "Asia-Pacific/Azerbaijan/69.5/63.9",
          "Asia-Pacific/Thailand/82.5/63.9",
          "Sub-Saharan Africa/Malawi/41.7/64.0",
          "Europe/Iceland/88.4/64.1",
          "Asia-Pacific/China/56.2/64.2",
          "Europe/Romania/63.1/64.5",
          "Europe/Hungary/61.1/64.7",
          "Europe/Kosovo/73.8/64.9",
          "Americas/Chile/76.6/65.0",
          "Middle East and North Africa/Israel/71.4/65.1",
          "Asia-Pacific/Burma/52.8/65.7",
          "Middle East and North Africa/Qatar/71.2/65.9",
          "Sub-Saharan Africa/Tanzania/46.6/66.2",
          "Europe/Bosnia and Herzegovina/49.7/67.0",
          "Sub-Saharan Africa/Gambia/54.0/67.4",
          "Europe/Serbia/72.9/67.4",
          "Sub-Saharan Africa/Burundi/50.3/67.5",
          "Sub-Saharan Africa/Eswatini/59.2/67.5",
          "Americas/Bahamas/68.5/67.5",
          "Asia-Pacific/Bangladesh/50.9/68.2",
          "Sub-Saharan Africa/Botswana/68.7/68.2",
          "Europe/Bulgaria/62.7/68.4",
          "Europe/Austria/74.9/68.7",
          "Americas/Saint Lucia/76.3/69.2",
          "Asia-Pacific/Tonga/75.3/69.9",
          "Sub-Saharan Africa/Eritrea/17.7/70.0",
          "Asia-Pacific/Maldives/78.3/70.8",
          "Middle East and North Africa/Bahrain/71.4/71.1",
          "Europe/Armenia/78.3/71.4",
          "Europe/Macedonia/80.2/71.5",
          "Asia-Pacific/Micronesia/57.4/71.9",
          "Americas/Uruguay/74.3/71.9",
          "Asia-Pacific/Solomon Islands/68.6/72.0",
          "Europe/Switzerland/75.4/72.5",
          "Asia-Pacific/Papua New Guinea/62.2/72.6",
          "Asia-Pacific/Fiji/63.0/72.9",
          "Europe/Latvia/77.5/73.3",
          "Europe/Montenegro/73.3/73.4",
          "Americas/Suriname/48.3/73.5",
          "Americas/Saint Vincent and the Grenadines/76.5/73.5",
          "Europe/United Kingdom/92.9/73.5",
          "Americas/Jamaica/78.0/73.6",
          "Americas/Canada/81.9/73.7",
          "Asia-Pacific/Malaysia/83.9/74.4",
          "Asia-Pacific/Mongolia/66.0/75.0",
          "Europe/Belarus/75.0/75.3",
          "Europe/Ireland/83.1/75.3",
          "Americas/Trinidad and Tobago/67.8/75.6",
          "Europe/Georgia/85.8/76.6",
          "Europe/Czech Republic/72.4/78.1",
          "Asia-Pacific/Samoa/77.0/78.2",
          "Americas/Colombia/71.4/78.5",
          "Asia-Pacific/Japan/80.5/79.0",
          "Asia-Pacific/Bhutan/68.7/79.5",
          "Asia-Pacific/Kyrgyz Republic/73.4/79.8",
          "Middle East and North Africa/United Arab Emirates/79.9/81.1",
          "Sub-Saharan Africa/Rwanda/56.2/82.2",
          "Sub-Saharan Africa/Uganda/46.3/83.2",
          "Sub-Saharan Africa/Nigeria/51.2/83.3",
          "Asia-Pacific/Australia/88.3/84.1",
          "Sub-Saharan Africa/Namibia/65.8/85.1",
          "Asia-Pacific/Kazakhstan/73.9/86.2",
          "Europe/Denmark/90.7/86.4",
          "Asia-Pacific/New Zealand/91.0/86.7",
          "Asia-Pacific/Hong Kong/96.4/89.2",
          "Americas/United States/83.8/89.4",
          "Asia-Pacific/Brunei Darussalam/80.2/90.8",
          "Asia-Pacific/Singapore/90.8/91.0",
          "Sub-Saharan Africa/Eritrea/17.7",
          "Americas/Cuba/20.0",
          "Sub-Saharan Africa/Central African Republic/24.2",
          "Sub-Saharan Africa/Chad/28.1",
          "Asia-Pacific/Cambodia/29.9",
          "Asia-Pacific/Turkmenistan/30.0",
          "Sub-Saharan Africa/Zimbabwe/33.4",
          "Americas/Venezuela/33.9",
          "Sub-Saharan Africa/Guinea-Bissau/35.9",
          "Americas/Haiti/36.2",
          "Sub-Saharan Africa/Equatorial Guinea/37.6",
          "Sub-Saharan Africa/Congo, Republic of/38.2",
          "Sub-Saharan Africa/Malawi/41.7",
          "Asia-Pacific/Kiribati/41.9",
          "Sub-Saharan Africa/Cameroon/44.4",
          "Sub-Saharan Africa/Sierra Leone/44.9",
          "Sub-Saharan Africa/Uganda/46.3",
          "Sub-Saharan Africa/Tanzania/46.6",
          "Sub-Saharan Africa/Madagascar/47.3",
          "Middle East and North Africa/Lebanon/47.9",
          "Americas/Suriname/48.3",
          "Sub-Saharan Africa/Ethiopia/48.6",
          "Asia-Pacific/Afghanistan/49.2",
          "Europe/Bosnia and Herzegovina/49.7",
          "Sub-Saharan Africa/Burundi/50.3",
          "Sub-Saharan Africa/Togo/50.4",
          "Sub-Saharan Africa/Liberia/50.6",
          "Asia-Pacific/Bangladesh/50.9",
          "Sub-Saharan Africa/Nigeria/51.2",
          "Sub-Saharan Africa/Burkina Faso/51.6",
          "Americas/Dominican Republic/51.9",
          "Sub-Saharan Africa/Gabon/52.1",
          "Sub-Saharan Africa/Sudan/52.1",
          "Asia-Pacific/Vanuatu/52.4",
          "Asia-Pacific/Burma/52.8",
          "Sub-Saharan Africa/Congo, Democratic Republic of the Congo/53.2",
          "Sub-Saharan Africa/Lesotho/53.3",
          "Sub-Saharan Africa/Senegal/53.3",
          "Americas/Guatemala/53.6",
          "Sub-Saharan Africa/Mali/53.8",
          "Sub-Saharan Africa/Gambia/54.0",
          "Americas/Ecuador/54.1",
          "Sub-Saharan Africa/Guinea/54.6",
          "Sub-Saharan Africa/Djibouti/54.7",
          "Sub-Saharan Africa/Angola/55.7",
          "Sub-Saharan Africa/Kenya/55.8",
          "Americas/Nicaragua/56.0",
          "Asia-Pacific/Pakistan/56.1",
          "Asia-Pacific/China/56.2",
          "Sub-Saharan Africa/Rwanda/56.2",
          "Sub-Saharan Africa/Niger/56.3",
          "Americas/Argentina/56.4",
          "Sub-Saharan Africa/Ghana/56.5",
          "Americas/Honduras/56.9",
          "Asia-Pacific/India/57.1",
          "Sub-Saharan Africa/Mozambique/57.1",
          "Sub-Saharan Africa/Comoros/57.2",
          "Americas/El Salvador/57.2",
          "Middle East and North Africa/Kuwait/57.4",
          "Asia-Pacific/Micronesia/57.4",
          "Americas/Brazil/57.9",
          "Americas/Bolivia/58.8",
          "Sub-Saharan Africa/Eswatini/59.2",
          "Americas/Guyana/59.3",
          "Asia-Pacific/Macau/60.0",
          "Asia-Pacific/Laos/60.1",
          "Asia-Pacific/Timor-Leste/60.5",
          "Europe/Croatia/60.7",
          "Sub-Saharan Africa/Côte d'Ivoire/61.0",
          "Europe/Hungary/61.1",
          "Asia-Pacific/Philippines/61.3",
          "Europe/Slovakia/61.3",
          "Americas/Paraguay/61.5",
          "Middle East and North Africa/Algeria/61.6",
          "Americas/Belize/61.8",
          "Middle East and North Africa/Jordan/61.8",
          "Asia-Pacific/Nepal/61.8",
          "Sub-Saharan Africa/Mauritania/61.9",
          "Middle East and North Africa/Iran/62.2",
          "Asia-Pacific/Papua New Guinea/62.2",
          "Sub-Saharan Africa/Benin/62.4",
          "Europe/Bulgaria/62.7",
          "Asia-Pacific/Fiji/63.0",
          "Europe/Romania/63.1",
          "Sub-Saharan Africa/Seychelles/63.3",
          "Asia-Pacific/Vietnam/63.5",
          "Sub-Saharan Africa/South Africa/64.3",
          "Sub-Saharan Africa/São Tomé and Príncipe/65.1",
          "Sub-Saharan Africa/Cabo Verde/65.2",
          "Europe/Poland/65.4",
          "Sub-Saharan Africa/Namibia/65.8",
          "Middle East and North Africa/Egypt/65.9",
          "Asia-Pacific/Mongolia/66.0",
          "Europe/Turkey/66.0",
          "Europe/Ukraine/66.1",
          "Europe/Spain/66.8",
          "Europe/Moldova/67.0",
          "Europe/Malta/67.1",
          "Americas/Costa Rica/67.2",
          "Asia-Pacific/Tajikistan/67.3",
          "Americas/Mexico/67.8",
          "Americas/Peru/67.8",
          "Americas/Trinidad and Tobago/67.8",
          "Americas/Bahamas/68.5",
          "Asia-Pacific/Solomon Islands/68.6",
          "Asia-Pacific/Bhutan/68.7",
          "Sub-Saharan Africa/Botswana/68.7",
          "Europe/Luxembourg/68.8",
          "Europe/Albania/69.3",
          "Asia-Pacific/Indonesia/69.3",
          "Asia-Pacific/Azerbaijan/69.5",
          "Americas/Barbados/69.8",
          "Middle East and North Africa/Morocco/70.3",
          "Americas/Dominica/70.7",
          "Sub-Saharan Africa/Zambia/71.1",
          "Middle East and North Africa/Qatar/71.2",
          "Middle East and North Africa/Bahrain/71.4",
          "Americas/Colombia/71.4",
          "Middle East and North Africa/Israel/71.4",
          "Europe/Italy/71.7",
          "Middle East and North Africa/Saudi Arabia/72.3",
          "Europe/Czech Republic/72.4",
          "Asia-Pacific/Uzbekistan/72.5",
          "Europe/Serbia/72.9",
          "Europe/Montenegro/73.3",
          "Asia-Pacific/Kyrgyz Republic/73.4",
          "Americas/Panama/73.6",
          "Europe/Kosovo/73.8",
          "Asia-Pacific/Kazakhstan/73.9",
          "Europe/Greece/74.1",
          "Americas/Uruguay/74.3",
          "Europe/Austria/74.9",
          "Europe/Belarus/75.0",
          "Asia-Pacific/Sri Lanka/75.1",
          "Europe/Lithuania/75.2",
          "Middle East and North Africa/Oman/75.2",
          "Europe/Estonia/75.3",
          "Asia-Pacific/Tonga/75.3",
          "Europe/Switzerland/75.4",
          "Americas/Saint Lucia/76.3",
          "Americas/Saint Vincent and the Grenadines/76.5",
          "Americas/Chile/76.6",
          "Middle East and North Africa/Tunisia/76.7",
          "Europe/Cyprus/76.9",
          "Asia-Pacific/Samoa/77.0",
          "Europe/Latvia/77.5",
          "Americas/Jamaica/78.0",
          "Europe/Belgium/78.1",
          "Europe/Armenia/78.3",
          "Asia-Pacific/Maldives/78.3",
          "Europe/Russia/78.4",
          "Europe/Slovenia/79.3",
          "Europe/Portugal/79.7",
          "Sub-Saharan Africa/Mauritius/79.8",
          "Middle East and North Africa/United Arab Emirates/79.9",
          "Asia-Pacific/Brunei Darussalam/80.2",
          "Europe/Macedonia/80.2",
          "Asia-Pacific/Japan/80.5",
          "Europe/France/81.2",
          "Europe/Netherlands/81.4",
          "Americas/Canada/81.9",
          "Asia-Pacific/Thailand/82.5",
          "Europe/Ireland/83.1",
          "Europe/Germany/83.3",
          "Americas/United States/83.8",
          "Asia-Pacific/Malaysia/83.9",
          "Europe/Georgia/85.8",
          "Europe/Sweden/88.0",
          "Asia-Pacific/Australia/88.3",
          "Europe/Iceland/88.4",
          "Europe/Finland/89.4",
          "Europe/Norway/89.4",
          "Europe/Denmark/90.7",
          "Asia-Pacific/Singapore/90.8",
          "Asia-Pacific/New Zealand/91.0",
          "Asia-Pacific/Korea, South/91.3",
          "Europe/United Kingdom/92.9",
          "Asia-Pacific/Taiwan /93.2",
          "Asia-Pacific/Hong Kong/96.4",
          "Asia-Pacific/Afghanistan",
          "Europe/Albania",
          "Middle East and North Africa/Algeria",
          "Sub-Saharan Africa/Angola",
          "Americas/Argentina",
          "Europe/Armenia",
          "Asia-Pacific/Australia",
          "Europe/Austria",
          "Asia-Pacific/Azerbaijan",
          "Americas/Bahamas",
          "Middle East and North Africa/Bahrain",
          "Asia-Pacific/Bangladesh",
          "Americas/Barbados",
          "Europe/Belarus",
          "Europe/Belgium",
          "Americas/Belize",
          "Sub-Saharan Africa/Benin",
          "Asia-Pacific/Bhutan",
          "Americas/Bolivia",
          "Europe/Bosnia and Herzegovina",
          "Sub-Saharan Africa/Botswana",
          "Americas/Brazil",
          "Asia-Pacific/Brunei Darussalam",
          "Europe/Bulgaria",
          "Sub-Saharan Africa/Burkina Faso",
          "Asia-Pacific/Burma",
          "Sub-Saharan Africa/Burundi",
          "Sub-Saharan Africa/Cabo Verde",
          "Asia-Pacific/Cambodia",
          "Sub-Saharan Africa/Cameroon",
          "Americas/Canada",
          "Sub-Saharan Africa/Central African Republic",
          "Sub-Saharan Africa/Chad",
          "Americas/Chile",
          "Asia-Pacific/China",
          "Americas/Colombia",
          "Sub-Saharan Africa/Comoros",
          "Sub-Saharan Africa/Congo, Democratic Republic of the Congo",
          "Sub-Saharan Africa/Congo, Republic of",
          "Americas/Costa Rica",
          "Europe/Croatia",
          "Americas/Cuba",
          "Europe/Cyprus",
          "Europe/Czech Republic",
          "Sub-Saharan Africa/Côte d'Ivoire",
          "Europe/Denmark",
          "Sub-Saharan Africa/Djibouti",
          "Americas/Dominica",
          "Americas/Dominican Republic",
          "Americas/Ecuador",
          "Middle East and North Africa/Egypt",
          "Americas/El Salvador",
          "Sub-Saharan Africa/Equatorial Guinea",
          "Sub-Saharan Africa/Eritrea",
          "Europe/Estonia",
          "Sub-Saharan Africa/Eswatini",
          "Sub-Saharan Africa/Ethiopia",
          "Asia-Pacific/Fiji",
          "Europe/Finland",
          "Europe/France",
          "Sub-Saharan Africa/Gabon",
          "Sub-Saharan Africa/Gambia",
          "Europe/Georgia",
          "Europe/Germany",
          "Sub-Saharan Africa/Ghana",
          "Europe/Greece",
          "Americas/Guatemala",
          "Sub-Saharan Africa/Guinea",
          "Sub-Saharan Africa/Guinea-Bissau",
          "Americas/Guyana",
          "Americas/Haiti",
          "Americas/Honduras",
          "Asia-Pacific/Hong Kong",
          "Europe/Hungary",
          "Europe/Iceland",
          "Asia-Pacific/India",
          "Asia-Pacific/Indonesia",
          "Middle East and North Africa/Iran",
          "Europe/Ireland",
          "Middle East and North Africa/Israel",
          "Europe/Italy",
          "Americas/Jamaica",
          "Asia-Pacific/Japan",
          "Middle East and North Africa/Jordan",
          "Asia-Pacific/Kazakhstan",
          "Sub-Saharan Africa/Kenya",
          "Asia-Pacific/Kiribati",
          "Asia-Pacific/Korea, South",
          "Europe/Kosovo",
          "Middle East and North Africa/Kuwait",
          "Asia-Pacific/Kyrgyz Republic",
          "Asia-Pacific/Laos",
          "Europe/Latvia",
          "Middle East and North Africa/Lebanon",
          "Sub-Saharan Africa/Lesotho",
          "Sub-Saharan Africa/Liberia",
          "Europe/Lithuania",
          "Europe/Luxembourg",
          "Asia-Pacific/Macau",
          "Europe/Macedonia",
          "Sub-Saharan Africa/Madagascar",
          "Sub-Saharan Africa/Malawi",
          "Asia-Pacific/Malaysia",
          "Asia-Pacific/Maldives",
          "Sub-Saharan Africa/Mali",
          "Europe/Malta",
          "Sub-Saharan Africa/Mauritania",
          "Sub-Saharan Africa/Mauritius",
          "Americas/Mexico",
          "Asia-Pacific/Micronesia",
          "Europe/Moldova",
          "Asia-Pacific/Mongolia",
          "Europe/Montenegro",
          "Middle East and North Africa/Morocco",
          "Sub-Saharan Africa/Mozambique",
          "Sub-Saharan Africa/Namibia",
          "Asia-Pacific/Nepal",
          "Europe/Netherlands",
          "Asia-Pacific/New Zealand",
          "Americas/Nicaragua",
          "Sub-Saharan Africa/Niger",
          "Sub-Saharan Africa/Nigeria",
          "Europe/Norway",
          "Middle East and North Africa/Oman",
          "Asia-Pacific/Pakistan",
          "Americas/Panama",
          "Asia-Pacific/Papua New Guinea",
          "Americas/Paraguay",
          "Americas/Peru",
          "Asia-Pacific/Philippines",
          "Europe/Poland",
          "Europe/Portugal",
          "Middle East and North Africa/Qatar",
          "Europe/Romania",
          "Europe/Russia",
          "Sub-Saharan Africa/Rwanda",
          "Americas/Saint Lucia",
          "Americas/Saint Vincent and the Grenadines",
          "Asia-Pacific/Samoa",
          "Middle East and North Africa/Saudi Arabia",
          "Sub-Saharan Africa/Senegal",
          "Europe/Serbia",
          "Sub-Saharan Africa/Seychelles",
          "Sub-Saharan Africa/Sierra Leone",
          "Asia-Pacific/Singapore",
          "Europe/Slovakia",
          "Europe/Slovenia",
          "Asia-Pacific/Solomon Islands",
          "Sub-Saharan Africa/South Africa",
          "Europe/Spain",
          "Asia-Pacific/Sri Lanka",
          "Sub-Saharan Africa/Sudan",
          "Americas/Suriname",
          "Europe/Sweden",
          "Europe/Switzerland",
          "Sub-Saharan Africa/São Tomé and Príncipe",
          "Asia-Pacific/Taiwan ",
          "Asia-Pacific/Tajikistan",
          "Sub-Saharan Africa/Tanzania",
          "Asia-Pacific/Thailand",
          "Asia-Pacific/Timor-Leste",
          "Sub-Saharan Africa/Togo",
          "Asia-Pacific/Tonga",
          "Americas/Trinidad and Tobago",
          "Middle East and North Africa/Tunisia",
          "Europe/Turkey",
          "Asia-Pacific/Turkmenistan",
          "Sub-Saharan Africa/Uganda",
          "Europe/Ukraine",
          "Middle East and North Africa/United Arab Emirates",
          "Europe/United Kingdom",
          "Americas/United States",
          "Americas/Uruguay",
          "Asia-Pacific/Uzbekistan",
          "Asia-Pacific/Vanuatu",
          "Americas/Venezuela",
          "Asia-Pacific/Vietnam",
          "Sub-Saharan Africa/Zambia",
          "Sub-Saharan Africa/Zimbabwe",
          "Americas",
          "Asia-Pacific",
          "Europe",
          "Middle East and North Africa",
          "Sub-Saharan Africa"
         ],
         "labels": [
          "45.0",
          "47.2",
          "47.8",
          "48.8",
          "50.4",
          "51.0",
          "51.2",
          "53.2",
          "53.4",
          "54.6",
          "55.6",
          "56.6",
          "56.8",
          "56.8",
          "60.0",
          "60.1",
          "60.4",
          "60.4",
          "60.8",
          "61.2",
          "61.6",
          "61.8",
          "62.4",
          "62.6",
          "62.6",
          "62.6",
          "62.6",
          "62.8",
          "63.2",
          "63.4",
          "63.6",
          "63.8",
          "64.0",
          "64.0",
          "64.2",
          "64.4",
          "64.6",
          "64.8",
          "65.2",
          "65.4",
          "65.8",
          "66.0",
          "66.4",
          "66.6",
          "66.8",
          "67.4",
          "67.8",
          "68.2",
          "68.2",
          "68.2",
          "68.4",
          "68.4",
          "69.0",
          "69.2",
          "69.2",
          "69.4",
          "69.4",
          "69.8",
          "70.0",
          "70.0",
          "70.0",
          "70.4",
          "70.4",
          "70.8",
          "70.8",
          "71.4",
          "71.8",
          "72.0",
          "72.0",
          "72.4",
          "72.6",
          "73.0",
          "73.2",
          "73.6",
          "73.6",
          "73.6",
          "74.6",
          "75.0",
          "75.0",
          "75.4",
          "75.4",
          "75.8",
          "75.8",
          "76.0",
          "76.0",
          "76.0",
          "76.0",
          "76.0",
          "76.2",
          "76.4",
          "76.6",
          "77.0",
          "77.4",
          "77.8",
          "78.0",
          "78.0",
          "78.2",
          "78.6",
          "78.6",
          "79.0",
          "79.0",
          "79.2",
          "79.2",
          "79.4",
          "79.4",
          "79.6",
          "79.8",
          "80.0",
          "80.0",
          "80.4",
          "80.6",
          "80.8",
          "80.9",
          "81.0",
          "81.0",
          "81.0",
          "81.4",
          "81.4",
          "81.4",
          "81.4",
          "81.4",
          "81.8",
          "82.0",
          "82.0",
          "82.2",
          "82.6",
          "83.0",
          "83.0",
          "83.2",
          "83.2",
          "83.8",
          "83.8",
          "84.0",
          "84.4",
          "84.4",
          "84.7",
          "86.0",
          "86.0",
          "86.0",
          "86.0",
          "86.0",
          "86.0",
          "86.0",
          "86.0",
          "86.0",
          "86.0",
          "86.0",
          "86.0",
          "86.0",
          "86.0",
          "86.0",
          "86.0",
          "86.0",
          "86.0",
          "86.0",
          "86.0",
          "86.0",
          "86.0",
          "86.0",
          "86.0",
          "86.0",
          "86.0",
          "86.4",
          "86.6",
          "86.8",
          "87.0",
          "87.0",
          "87.0",
          "87.4",
          "87.6",
          "87.6",
          "87.8",
          "88.4",
          "88.6",
          "88.8",
          "90.0",
          "92.4",
          "94.8",
          "95.0",
          "0.0",
          "49.1",
          "55.4",
          "56.0",
          "56.9",
          "58.6",
          "58.9",
          "60.1",
          "60.2",
          "60.8",
          "61.0",
          "62.2",
          "62.3",
          "62.4",
          "63.0",
          "65.0",
          "65.0",
          "65.1",
          "65.4",
          "65.5",
          "65.6",
          "66.3",
          "66.4",
          "66.5",
          "67.0",
          "68.5",
          "68.8",
          "68.9",
          "68.9",
          "69.4",
          "69.4",
          "69.6",
          "69.6",
          "69.9",
          "70.0",
          "70.0",
          "70.1",
          "70.3",
          "70.4",
          "70.5",
          "70.6",
          "70.9",
          "71.9",
          "72.3",
          "72.4",
          "72.4",
          "72.4",
          "72.6",
          "72.6",
          "72.7",
          "72.7",
          "72.7",
          "72.8",
          "72.9",
          "73.0",
          "73.4",
          "73.5",
          "73.5",
          "73.5",
          "73.7",
          "74.2",
          "74.4",
          "74.4",
          "74.9",
          "75.0",
          "75.0",
          "75.1",
          "75.2",
          "75.2",
          "75.4",
          "75.5",
          "75.6",
          "75.9",
          "76.0",
          "76.0",
          "76.1",
          "76.1",
          "76.5",
          "76.5",
          "76.6",
          "76.7",
          "76.7",
          "76.9",
          "77.0",
          "77.2",
          "77.4",
          "77.7",
          "77.8",
          "77.8",
          "77.9",
          "78.1",
          "78.1",
          "78.1",
          "78.1",
          "78.2",
          "78.2",
          "78.3",
          "78.3",
          "78.4",
          "78.5",
          "78.5",
          "78.6",
          "78.6",
          "78.7",
          "78.7",
          "78.8",
          "79.0",
          "79.1",
          "79.1",
          "79.1",
          "79.4",
          "79.4",
          "79.4",
          "79.5",
          "79.6",
          "79.7",
          "80.0",
          "80.0",
          "80.0",
          "80.1",
          "80.9",
          "81.0",
          "81.1",
          "81.1",
          "81.2",
          "81.2",
          "81.5",
          "81.5",
          "81.5",
          "81.6",
          "81.6",
          "81.6",
          "81.7",
          "81.8",
          "82.0",
          "82.0",
          "82.1",
          "82.2",
          "82.3",
          "82.6",
          "82.6",
          "82.6",
          "82.7",
          "82.8",
          "83.0",
          "83.1",
          "83.2",
          "83.5",
          "83.5",
          "83.6",
          "83.7",
          "83.9",
          "83.9",
          "84.0",
          "84.0",
          "84.0",
          "84.0",
          "84.1",
          "84.1",
          "84.4",
          "84.5",
          "84.6",
          "84.8",
          "85.0",
          "85.2",
          "85.3",
          "85.7",
          "85.8",
          "85.9",
          "86.0",
          "86.2",
          "86.2",
          "86.4",
          "86.4",
          "86.6",
          "87.0",
          "87.5",
          "87.5",
          "88.0",
          "20.0",
          "20.0",
          "28.0",
          "29.2",
          "29.3",
          "32.0",
          "32.7",
          "33.1",
          "35.8",
          "38.3",
          "39.0",
          "39.4",
          "40.1",
          "41.8",
          "41.8",
          "41.9",
          "42.0",
          "42.7",
          "43.2",
          "43.3",
          "43.4",
          "44.0",
          "44.3",
          "44.6",
          "45.2",
          "45.9",
          "46.0",
          "46.5",
          "46.7",
          "46.7",
          "46.9",
          "47.8",
          "47.9",
          "48.2",
          "48.2",
          "48.7",
          "49.2",
          "49.2",
          "49.3",
          "49.9",
          "50.0",
          "50.3",
          "50.3",
          "50.7",
          "50.7",
          "51.1",
          "51.5",
          "51.6",
          "51.9",
          "52.2",
          "52.3",
          "52.5",
          "52.5",
          "52.5",
          "52.7",
          "52.7",
          "52.8",
          "52.9",
          "53.0",
          "53.1",
          "53.4",
          "53.7",
          "53.8",
          "53.9",
          "54.8",
          "54.9",
          "55.2",
          "55.7",
          "55.8",
          "57.2",
          "57.3",
          "57.4",
          "57.6",
          "57.8",
          "57.9",
          "58.0",
          "58.6",
          "58.7",
          "58.8",
          "58.8",
          "58.8",
          "58.8",
          "58.8",
          "59.0",
          "59.1",
          "59.5",
          "59.9",
          "59.9",
          "60.1",
          "60.3",
          "60.3",
          "60.4",
          "60.4",
          "60.4",
          "60.8",
          "60.9",
          "61.0",
          "61.2",
          "61.2",
          "61.3",
          "61.7",
          "62.0",
          "62.6",
          "62.8",
          "63.0",
          "63.2",
          "63.3",
          "63.4",
          "63.5",
          "63.6",
          "63.9",
          "63.9",
          "63.9",
          "64.0",
          "64.1",
          "64.2",
          "64.5",
          "64.7",
          "64.9",
          "65.0",
          "65.1",
          "65.7",
          "65.9",
          "66.2",
          "67.0",
          "67.4",
          "67.4",
          "67.5",
          "67.5",
          "67.5",
          "68.2",
          "68.2",
          "68.4",
          "68.7",
          "69.2",
          "69.9",
          "70.0",
          "70.8",
          "71.1",
          "71.4",
          "71.5",
          "71.9",
          "71.9",
          "72.0",
          "72.5",
          "72.6",
          "72.9",
          "73.3",
          "73.4",
          "73.5",
          "73.5",
          "73.5",
          "73.6",
          "73.7",
          "74.4",
          "75.0",
          "75.3",
          "75.3",
          "75.6",
          "76.6",
          "78.1",
          "78.2",
          "78.5",
          "79.0",
          "79.5",
          "79.8",
          "81.1",
          "82.2",
          "83.2",
          "83.3",
          "84.1",
          "85.1",
          "86.2",
          "86.4",
          "86.7",
          "89.2",
          "89.4",
          "90.8",
          "91.0",
          "17.7",
          "20.0",
          "24.2",
          "28.1",
          "29.9",
          "30.0",
          "33.4",
          "33.9",
          "35.9",
          "36.2",
          "37.6",
          "38.2",
          "41.7",
          "41.9",
          "44.4",
          "44.9",
          "46.3",
          "46.6",
          "47.3",
          "47.9",
          "48.3",
          "48.6",
          "49.2",
          "49.7",
          "50.3",
          "50.4",
          "50.6",
          "50.9",
          "51.2",
          "51.6",
          "51.9",
          "52.1",
          "52.1",
          "52.4",
          "52.8",
          "53.2",
          "53.3",
          "53.3",
          "53.6",
          "53.8",
          "54.0",
          "54.1",
          "54.6",
          "54.7",
          "55.7",
          "55.8",
          "56.0",
          "56.1",
          "56.2",
          "56.2",
          "56.3",
          "56.4",
          "56.5",
          "56.9",
          "57.1",
          "57.1",
          "57.2",
          "57.2",
          "57.4",
          "57.4",
          "57.9",
          "58.8",
          "59.2",
          "59.3",
          "60.0",
          "60.1",
          "60.5",
          "60.7",
          "61.0",
          "61.1",
          "61.3",
          "61.3",
          "61.5",
          "61.6",
          "61.8",
          "61.8",
          "61.8",
          "61.9",
          "62.2",
          "62.2",
          "62.4",
          "62.7",
          "63.0",
          "63.1",
          "63.3",
          "63.5",
          "64.3",
          "65.1",
          "65.2",
          "65.4",
          "65.8",
          "65.9",
          "66.0",
          "66.0",
          "66.1",
          "66.8",
          "67.0",
          "67.1",
          "67.2",
          "67.3",
          "67.8",
          "67.8",
          "67.8",
          "68.5",
          "68.6",
          "68.7",
          "68.7",
          "68.8",
          "69.3",
          "69.3",
          "69.5",
          "69.8",
          "70.3",
          "70.7",
          "71.1",
          "71.2",
          "71.4",
          "71.4",
          "71.4",
          "71.7",
          "72.3",
          "72.4",
          "72.5",
          "72.9",
          "73.3",
          "73.4",
          "73.6",
          "73.8",
          "73.9",
          "74.1",
          "74.3",
          "74.9",
          "75.0",
          "75.1",
          "75.2",
          "75.2",
          "75.3",
          "75.3",
          "75.4",
          "76.3",
          "76.5",
          "76.6",
          "76.7",
          "76.9",
          "77.0",
          "77.5",
          "78.0",
          "78.1",
          "78.3",
          "78.3",
          "78.4",
          "79.3",
          "79.7",
          "79.8",
          "79.9",
          "80.2",
          "80.2",
          "80.5",
          "81.2",
          "81.4",
          "81.9",
          "82.5",
          "83.1",
          "83.3",
          "83.8",
          "83.9",
          "85.8",
          "88.0",
          "88.3",
          "88.4",
          "89.4",
          "89.4",
          "90.7",
          "90.8",
          "91.0",
          "91.3",
          "92.9",
          "93.2",
          "96.4",
          "Afghanistan",
          "Albania",
          "Algeria",
          "Angola",
          "Argentina",
          "Armenia",
          "Australia",
          "Austria",
          "Azerbaijan",
          "Bahamas",
          "Bahrain",
          "Bangladesh",
          "Barbados",
          "Belarus",
          "Belgium",
          "Belize",
          "Benin",
          "Bhutan",
          "Bolivia",
          "Bosnia and Herzegovina",
          "Botswana",
          "Brazil",
          "Brunei Darussalam",
          "Bulgaria",
          "Burkina Faso",
          "Burma",
          "Burundi",
          "Cabo Verde",
          "Cambodia",
          "Cameroon",
          "Canada",
          "Central African Republic",
          "Chad",
          "Chile",
          "China",
          "Colombia",
          "Comoros",
          "Congo, Democratic Republic of the Congo",
          "Congo, Republic of",
          "Costa Rica",
          "Croatia",
          "Cuba",
          "Cyprus",
          "Czech Republic",
          "Côte d'Ivoire",
          "Denmark",
          "Djibouti",
          "Dominica",
          "Dominican Republic",
          "Ecuador",
          "Egypt",
          "El Salvador",
          "Equatorial Guinea",
          "Eritrea",
          "Estonia",
          "Eswatini",
          "Ethiopia",
          "Fiji",
          "Finland",
          "France",
          "Gabon",
          "Gambia",
          "Georgia",
          "Germany",
          "Ghana",
          "Greece",
          "Guatemala",
          "Guinea",
          "Guinea-Bissau",
          "Guyana",
          "Haiti",
          "Honduras",
          "Hong Kong",
          "Hungary",
          "Iceland",
          "India",
          "Indonesia",
          "Iran",
          "Ireland",
          "Israel",
          "Italy",
          "Jamaica",
          "Japan",
          "Jordan",
          "Kazakhstan",
          "Kenya",
          "Kiribati",
          "Korea, South",
          "Kosovo",
          "Kuwait",
          "Kyrgyz Republic",
          "Laos",
          "Latvia",
          "Lebanon",
          "Lesotho",
          "Liberia",
          "Lithuania",
          "Luxembourg",
          "Macau",
          "Macedonia",
          "Madagascar",
          "Malawi",
          "Malaysia",
          "Maldives",
          "Mali",
          "Malta",
          "Mauritania",
          "Mauritius",
          "Mexico",
          "Micronesia",
          "Moldova",
          "Mongolia",
          "Montenegro",
          "Morocco",
          "Mozambique",
          "Namibia",
          "Nepal",
          "Netherlands",
          "New Zealand",
          "Nicaragua",
          "Niger",
          "Nigeria",
          "Norway",
          "Oman",
          "Pakistan",
          "Panama",
          "Papua New Guinea",
          "Paraguay",
          "Peru",
          "Philippines",
          "Poland",
          "Portugal",
          "Qatar",
          "Romania",
          "Russia",
          "Rwanda",
          "Saint Lucia",
          "Saint Vincent and the Grenadines",
          "Samoa",
          "Saudi Arabia",
          "Senegal",
          "Serbia",
          "Seychelles",
          "Sierra Leone",
          "Singapore",
          "Slovakia",
          "Slovenia",
          "Solomon Islands",
          "South Africa",
          "Spain",
          "Sri Lanka",
          "Sudan",
          "Suriname",
          "Sweden",
          "Switzerland",
          "São Tomé and Príncipe",
          "Taiwan ",
          "Tajikistan",
          "Tanzania",
          "Thailand",
          "Timor-Leste",
          "Togo",
          "Tonga",
          "Trinidad and Tobago",
          "Tunisia",
          "Turkey",
          "Turkmenistan",
          "Uganda",
          "Ukraine",
          "United Arab Emirates",
          "United Kingdom",
          "United States",
          "Uruguay",
          "Uzbekistan",
          "Vanuatu",
          "Venezuela",
          "Vietnam",
          "Zambia",
          "Zimbabwe",
          "Americas",
          "Asia-Pacific",
          "Europe",
          "Middle East and North Africa",
          "Sub-Saharan Africa"
         ],
         "marker": {
          "coloraxis": "coloraxis",
          "colors": [
           166,
           159,
           76,
           174,
           169,
           161,
           118,
           168,
           145,
           155,
           135,
           67,
           176,
           133,
           179,
           160,
           136,
           130,
           137,
           156,
           146,
           127,
           110.99999999999999,
           157,
           140,
           141,
           119,
           81,
           120,
           109,
           121,
           82,
           178.00000000000003,
           123,
           134,
           116,
           165,
           131,
           96,
           105,
           151,
           152,
           170,
           55,
           113,
           171,
           94,
           162,
           73,
           72,
           112,
           39,
           150,
           177,
           114,
           167,
           158,
           103,
           148,
           175,
           124,
           173,
           32,
           139,
           51,
           125,
           144,
           143,
           117,
           129,
           138,
           100,
           38,
           122,
           108,
           78,
           60,
           147,
           172,
           153,
           95,
           126,
           89,
           107,
           164,
           102,
           49,
           90.99999999999999,
           115,
           104,
           85,
           69,
           75,
           98,
           163,
           97,
           70,
           40,
           79,
           90,
           154,
           128,
           50,
           74,
           93,
           68,
           56,
           59,
           30.000000000000004,
           29,
           149,
           47,
           101,
           142,
           71,
           106.00000000000001,
           66,
           84,
           87,
           61,
           53,
           110,
           22,
           33,
           77,
           83,
           99,
           43,
           26,
           28,
           36,
           54,
           62.99999999999999,
           9,
           27,
           92,
           48,
           24,
           41,
           86,
           65,
           15.000000000000002,
           35,
           7,
           31,
           23,
           64,
           19,
           46,
           17,
           42,
           62,
           58,
           80,
           44,
           13,
           13.999999999999998,
           21,
           20,
           6,
           57,
           37,
           45,
           12,
           8,
           88,
           11,
           10,
           4,
           132,
           5,
           52,
           25,
           16,
           18,
           34,
           3,
           2,
           1,
           179,
           157,
           156,
           165,
           166,
           147,
           140,
           155,
           148,
           137,
           177,
           162,
           144,
           146,
           60,
           167,
           110.99999999999999,
           98,
           163,
           153,
           178.00000000000003,
           109,
           120,
           143,
           104,
           122,
           173,
           160,
           128,
           136,
           108,
           70,
           139,
           121,
           68,
           101,
           115,
           138,
           94,
           134,
           90,
           59,
           100,
           161,
           129,
           175,
           114,
           131,
           74,
           107,
           169,
           130,
           85,
           40,
           93,
           164,
           97,
           170,
           81,
           132,
           78,
           79,
           99,
           171,
           116,
           142,
           112,
           102,
           43,
           26,
           150,
           49,
           66,
           125,
           16,
           48,
           32,
           34,
           62.99999999999999,
           12,
           151,
           152,
           113,
           77,
           8,
           56,
           88,
           47,
           126,
           24,
           154,
           135,
           90.99999999999999,
           76,
           117,
           41,
           67,
           51,
           28,
           86,
           110,
           65,
           22,
           123,
           33,
           36,
           84,
           71,
           158,
           106.00000000000001,
           50,
           25,
           105,
           172,
           15.000000000000002,
           89,
           118,
           87,
           69,
           95,
           9,
           141,
           168,
           35,
           119,
           7,
           52,
           31,
           23,
           103,
           54,
           92,
           11,
           64,
           19,
           29,
           46,
           55,
           159,
           176,
           17,
           39,
           42,
           124,
           62,
           83,
           61,
           75,
           82,
           58,
           174,
           45,
           38,
           145,
           80,
           44,
           13,
           73,
           13.999999999999998,
           10,
           18,
           21,
           20,
           53,
           4,
           2,
           72,
           149,
           30.000000000000004,
           133,
           96,
           27,
           127,
           1,
           5,
           6,
           57,
           3,
           37,
           178.00000000000003,
           164,
           179,
           85,
           167,
           93,
           174,
           75,
           176,
           160,
           97,
           117,
           161,
           131,
           129,
           157,
           163,
           134,
           159,
           175,
           50,
           86,
           62,
           114,
           71,
           17,
           138,
           154,
           158,
           147,
           148,
           145,
           136,
           170,
           151,
           77,
           68,
           122,
           56,
           171,
           34,
           125,
           20,
           168,
           155,
           80,
           119,
           144,
           150,
           103,
           96,
           78,
           106.00000000000001,
           98,
           53,
           52,
           24,
           173,
           118,
           84,
           65,
           26,
           127,
           19,
           123,
           120,
           61,
           73,
           107,
           15.000000000000002,
           88,
           29,
           89,
           57,
           70,
           137,
           66,
           140,
           116,
           142,
           156,
           172,
           115,
           166,
           102,
           44,
           109,
           67,
           110,
           124,
           13,
           152,
           169,
           72,
           25,
           10,
           48,
           135,
           58,
           41,
           90,
           113,
           143,
           128,
           105,
           87,
           90.99999999999999,
           130,
           45,
           21,
           46,
           60,
           43,
           153,
           11,
           100,
           42,
           64,
           51,
           18,
           27,
           139,
           28,
           94,
           83,
           146,
           69,
           162,
           132,
           76,
           121,
           36,
           37,
           31,
           38,
           108,
           177,
           141,
           54,
           47,
           33,
           149,
           40,
           133,
           4,
           101,
           81,
           35,
           92,
           165,
           55,
           7,
           39,
           8,
           22,
           126,
           104,
           6,
           112,
           16,
           23,
           82,
           49,
           30.000000000000004,
           74,
           79,
           9,
           32,
           95,
           110.99999999999999,
           5,
           99,
           59,
           13.999999999999998,
           3,
           1,
           12,
           62.99999999999999,
           2,
           177,
           178.00000000000003,
           161,
           159,
           105,
           164,
           175,
           179,
           135,
           143,
           174,
           176,
           153,
           168,
           145,
           167,
           95,
           94,
           114,
           154,
           165,
           137,
           152,
           83,
           162,
           158,
           160,
           121,
           110.99999999999999,
           96,
           89,
           118,
           166,
           116,
           139,
           157,
           142,
           117,
           77,
           103,
           146,
           170,
           120,
           169,
           156,
           130,
           107,
           131,
           100,
           32,
           151,
           148,
           109,
           93,
           129,
           163,
           124,
           84,
           90,
           149,
           150,
           173,
           132,
           113,
           34,
           110,
           172,
           86,
           78,
           64,
           70,
           65,
           85,
           171,
           123,
           53,
           136,
           119,
           155,
           101,
           127,
           37,
           81,
           42,
           87,
           128,
           102,
           134,
           73,
           46,
           99,
           144,
           126,
           68,
           147,
           57,
           97,
           41,
           61,
           122,
           66,
           45,
           112,
           76,
           133,
           74,
           36,
           17,
           52,
           56,
           60,
           67,
           75,
           72,
           138,
           28,
           54,
           49,
           27,
           80,
           90.99999999999999,
           23,
           140,
           69,
           92,
           79,
           50,
           51,
           59,
           106.00000000000001,
           40,
           31,
           104,
           115,
           21,
           88,
           15.000000000000002,
           108,
           4,
           38,
           55,
           18,
           125,
           44,
           82,
           35,
           39,
           48,
           47,
           141,
           98,
           58,
           62,
           25,
           9,
           62.99999999999999,
           33,
           30.000000000000004,
           71,
           13,
           8,
           43,
           6,
           24,
           12,
           22,
           16,
           19,
           5,
           11,
           20,
           26,
           13.999999999999998,
           2,
           3,
           29,
           7,
           10,
           1,
           152,
           52,
           171,
           156,
           148,
           47,
           5,
           31,
           60,
           76,
           54,
           121,
           67,
           104,
           48,
           123,
           127,
           74,
           173,
           83,
           36,
           150,
           62.99999999999999,
           37,
           96,
           139,
           162,
           73,
           105,
           145,
           8,
           161,
           159,
           18,
           100,
           49,
           124,
           157,
           176,
           61,
           86,
           178.00000000000003,
           44,
           23,
           78,
           13.999999999999998,
           169,
           72,
           89,
           170,
           144,
           84,
           174,
           177,
           15.000000000000002,
           132,
           137,
           81,
           20,
           71,
           118,
           146,
           16,
           24,
           109,
           106.00000000000001,
           77,
           120,
           135,
           113,
           143,
           93,
           1,
           64,
           11,
           129,
           56,
           155,
           6,
           27,
           80,
           39,
           30.000000000000004,
           53,
           59,
           130,
           168,
           29,
           51,
           90,
           79,
           110,
           35,
           154,
           142,
           160,
           21,
           17,
           34,
           33,
           114,
           153,
           22,
           141,
           103,
           41,
           119,
           25,
           66,
           149,
           97,
           126,
           92,
           75,
           163,
           99,
           136,
           13,
           3,
           107,
           151,
           110.99999999999999,
           26,
           88,
           131,
           50,
           101,
           85,
           45,
           70,
           46,
           62,
           28,
           42,
           98,
           32,
           38,
           55,
           82,
           90.99999999999999,
           117,
           69,
           87,
           167,
           2,
           65,
           58,
           133,
           102,
           57,
           115,
           166,
           165,
           19,
           4,
           134,
           10,
           122,
           94,
           43,
           172,
           158,
           108,
           112,
           125,
           68,
           164,
           95,
           147,
           9,
           7,
           12,
           40,
           140,
           116,
           179,
           128,
           138,
           175,
           80.82382550335572,
           82.26508802952257,
           45.72483110345742,
           82.86287313432837,
           122.93328359381135
          ]
         },
         "name": "",
         "parents": [
          "Sub-Saharan Africa/Sudan/52.1/59.0/56.9",
          "Sub-Saharan Africa/Chad/28.1/43.2/82.3",
          "Americas/Bahamas/68.5/67.5/78.1",
          "Sub-Saharan Africa/Equatorial Guinea/37.6/32.7/83.7",
          "Sub-Saharan Africa/Djibouti/54.7/60.4/72.7",
          "Sub-Saharan Africa/Central African Republic/24.2/40.1/72.3",
          "Sub-Saharan Africa/Gabon/52.1/53.0/80.0",
          "Asia-Pacific/Kiribati/41.9/50.7/81.1",
          "Sub-Saharan Africa/Cameroon/44.4/47.8/84.0",
          "Middle East and North Africa/Iran/62.2/50.7/60.1",
          "Sub-Saharan Africa/Guinea-Bissau/35.9/61.2/78.1",
          "Americas/Barbados/69.8/59.9/78.3",
          "Sub-Saharan Africa/Congo, Republic of/38.2/35.8/82.6",
          "Asia-Pacific/Solomon Islands/68.6/72.0/86.0",
          "Americas/Venezuela/33.9/28.0/0.0",
          "Sub-Saharan Africa/Liberia/50.6/38.3/68.9",
          "Asia-Pacific/Nepal/61.8/47.9/69.4",
          "Sub-Saharan Africa/Kenya/55.8/63.4/72.7",
          "Sub-Saharan Africa/Ethiopia/48.6/58.0/60.8",
          "Sub-Saharan Africa/Angola/55.7/58.8/55.4",
          "Sub-Saharan Africa/Gambia/54.0/67.4/62.4",
          "Sub-Saharan Africa/Benin/62.4/53.8/86.4",
          "Sub-Saharan Africa/Nigeria/51.2/83.3/65.0",
          "Sub-Saharan Africa/Congo, Democratic Republic of the Congo/53.2/41.9/49.1",
          "Asia-Pacific/Uzbekistan/72.5/58.7/58.9",
          "Asia-Pacific/Maldives/78.3/70.8/81.0",
          "Sub-Saharan Africa/Mauritania/61.9/51.5/81.2",
          "Asia-Pacific/Fiji/63.0/72.9/73.5",
          "Sub-Saharan Africa/Guinea/54.6/54.9/66.4",
          "Sub-Saharan Africa/Ghana/56.5/59.9/66.3",
          "Asia-Pacific/Bangladesh/50.9/68.2/69.9",
          "Asia-Pacific/Samoa/77.0/78.2/83.5",
          "Americas/Cuba/20.0/20.0/65.6",
          "Americas/Belize/61.8/54.8/78.7",
          "Sub-Saharan Africa/São Tomé and Príncipe/65.1/42.7/70.5",
          "Asia-Pacific/Vanuatu/52.4/58.8/75.0",
          "Americas/Suriname/48.3/73.5/56.0",
          "Asia-Pacific/Pakistan/56.1/41.8/72.6",
          "Sub-Saharan Africa/Burkina Faso/51.6/52.3/86.2",
          "Asia-Pacific/Cambodia/29.9/63.0/79.4",
          "Sub-Saharan Africa/Niger/56.3/48.2/76.7",
          "Asia-Pacific/Afghanistan/49.2/60.4/76.7",
          "Americas/Ecuador/54.1/48.2/73.5",
          "Americas/Saint Vincent and the Grenadines/76.5/73.5/82.2",
          "Americas/Guyana/59.3/62.0/76.9",
          "Middle East and North Africa/Algeria/61.6/49.9/74.9",
          "Sub-Saharan Africa/Tanzania/46.6/66.2/70.4",
          "Sub-Saharan Africa/Burundi/50.3/67.5/62.2",
          "Sub-Saharan Africa/Cabo Verde/65.2/55.7/84.1",
          "Americas/Dominica/70.7/60.4/85.7",
          "Americas/Trinidad and Tobago/67.8/75.6/75.1",
          "Americas/Jamaica/78.0/73.6/82.6",
          "Americas/Brazil/57.9/51.9/75.5",
          "Sub-Saharan Africa/Eritrea/17.7/70.0/61.0",
          "Sub-Saharan Africa/Madagascar/47.3/44.6/72.4",
          "Sub-Saharan Africa/Sierra Leone/44.9/29.3/65.0",
          "Sub-Saharan Africa/Togo/50.4/46.7/79.1",
          "Sub-Saharan Africa/Mali/53.8/52.2/81.6",
          "Americas/Argentina/56.4/46.9/60.2",
          "Sub-Saharan Africa/Zimbabwe/33.4/43.3/72.4",
          "Sub-Saharan Africa/Comoros/57.2/60.3/82.8",
          "Americas/Bolivia/58.8/52.9/68.8",
          "Sub-Saharan Africa/Rwanda/56.2/82.2/76.1",
          "Asia-Pacific/Burma/52.8/65.7/69.6",
          "Europe/Kosovo/73.8/64.9/78.3",
          "Middle East and North Africa/Tunisia/76.7/50.3/76.0",
          "Middle East and North Africa/Egypt/65.9/51.6/62.3",
          "Americas/Haiti/36.2/62.6/66.5",
          "Sub-Saharan Africa/Senegal/53.3/39.4/78.2",
          "Asia-Pacific/India/57.1/41.8/72.4",
          "Sub-Saharan Africa/Zambia/71.1/46.0/70.3",
          "Asia-Pacific/China/56.2/64.2/71.9",
          "Americas/Saint Lucia/76.3/69.2/83.9",
          "Asia-Pacific/Tajikistan/67.3/49.2/68.5",
          "Asia-Pacific/Tonga/75.3/69.9/69.4",
          "Sub-Saharan Africa/Côte d'Ivoire/61.0/52.5/74.2",
          "Asia-Pacific/Azerbaijan/69.5/63.9/63.0",
          "Europe/Ukraine/66.1/46.7/58.6",
          "Asia-Pacific/Timor-Leste/60.5/58.8/79.5",
          "Sub-Saharan Africa/Malawi/41.7/64.0/65.5",
          "Sub-Saharan Africa/Uganda/46.3/83.2/80.1",
          "Asia-Pacific/Mongolia/66.0/75.0/77.8",
          "Americas/Dominican Republic/51.9/57.6/79.7",
          "Americas/Nicaragua/56.0/55.8/72.7",
          "Asia-Pacific/Turkmenistan/30.0/20.0/73.4",
          "Sub-Saharan Africa/South Africa/64.3/59.1/75.2",
          "Americas/Colombia/71.4/78.5/75.6",
          "Middle East and North Africa/Saudi Arabia/72.3/63.3/78.1",
          "Asia-Pacific/Sri Lanka/75.1/58.8/70.1",
          "Europe/Belarus/75.0/75.3/67.0",
          "Americas/Paraguay/61.5/29.2/72.8",
          "Europe/Serbia/72.9/67.4/80.0",
          "Middle East and North Africa/Morocco/70.3/33.1/83.5",
          "Europe/Russia/78.4/52.5/65.1",
          "Sub-Saharan Africa/Mozambique/57.1/42.0/65.4",
          "Europe/Moldova/67.0/39.0/73.5",
          "Asia-Pacific/Philippines/61.3/57.9/69.6",
          "Americas/Uruguay/74.3/71.9/72.9",
          "Asia-Pacific/Kyrgyz Republic/73.4/79.8/74.4",
          "Middle East and North Africa/Kuwait/57.4/61.7/70.6",
          "Middle East and North Africa/Lebanon/47.9/46.5/78.1",
          "Asia-Pacific/Vietnam/63.5/62.8/68.9",
          "Americas/Panama/73.6/43.4/79.4",
          "Asia-Pacific/Bhutan/68.7/79.5/72.6",
          "Americas/Honduras/56.9/32.0/73.0",
          "Europe/Turkey/66.0/49.2/70.0",
          "Asia-Pacific/Indonesia/69.3/49.3/77.4",
          "Asia-Pacific/Kazakhstan/73.9/86.2/70.9",
          "Asia-Pacific/Japan/80.5/79.0/85.9",
          "Asia-Pacific/Korea, South/91.3/57.4/82.0",
          "Asia-Pacific/Micronesia/57.4/71.9/85.8",
          "Europe/Armenia/78.3/71.4/77.8",
          "Asia-Pacific/Papua New Guinea/62.2/72.6/70.0",
          "Sub-Saharan Africa/Lesotho/53.3/58.8/75.0",
          "Europe/France/81.2/45.2/79.1",
          "Europe/Greece/74.1/52.5/79.1",
          "Americas/Mexico/67.8/58.6/75.9",
          "Americas/El Salvador/57.2/53.1/79.0",
          "Sub-Saharan Africa/Seychelles/63.3/63.2/80.0",
          "Americas/Costa Rica/67.2/55.2/83.2",
          "Middle East and North Africa/Jordan/61.8/52.7/85.0",
          "Asia-Pacific/Laos/60.1/60.1/78.5",
          "Asia-Pacific/Malaysia/83.9/74.4/78.6",
          "Europe/Macedonia/80.2/71.5/78.7",
          "Americas/Guatemala/53.6/48.7/77.0",
          "Europe/Bosnia and Herzegovina/49.7/67.0/83.1",
          "Sub-Saharan Africa/Namibia/65.8/85.1/74.4",
          "Asia-Pacific/Thailand/82.5/63.9/75.2",
          "Europe/Norway/89.4/53.7/75.4",
          "Middle East and North Africa/Qatar/71.2/65.9/78.4",
          "Sub-Saharan Africa/Botswana/68.7/68.2/78.8",
          "Middle East and North Africa/Bahrain/71.4/71.1/81.6",
          "Asia-Pacific/Brunei Darussalam/80.2/90.8/76.5",
          "Middle East and North Africa/United Arab Emirates/79.9/81.1/80.9",
          "Middle East and North Africa/Israel/71.4/65.1/86.2",
          "Europe/Montenegro/73.3/73.4/81.6",
          "Europe/Belgium/78.1/61.0/76.1",
          "Europe/Germany/83.3/52.8/77.9",
          "Europe/Malta/67.1/61.3/78.2",
          "Europe/Croatia/60.7/44.0/78.5",
          "Europe/Slovakia/61.3/53.4/78.6",
          "Europe/Estonia/75.3/57.2/79.6",
          "Europe/Latvia/77.5/73.3/81.1",
          "Europe/United Kingdom/92.9/73.5/81.2",
          "Europe/Austria/74.9/68.7/81.5",
          "Europe/Czech Republic/72.4/78.1/81.5",
          "Europe/Hungary/61.1/64.7/81.8",
          "Europe/Sweden/88.0/53.9/82.0",
          "Europe/Poland/65.4/63.9/82.1",
          "Europe/Luxembourg/68.8/45.9/82.6",
          "Europe/Romania/63.1/64.5/82.7",
          "Europe/Portugal/79.7/44.3/83.0",
          "Europe/Slovenia/79.3/61.2/83.6",
          "Europe/Italy/71.7/51.1/84.0",
          "Europe/Cyprus/76.9/59.5/84.0",
          "Europe/Netherlands/81.4/60.3/84.0",
          "Europe/Denmark/90.7/86.4/84.1",
          "Europe/Lithuania/75.2/63.6/84.6",
          "Europe/Finland/89.4/50.3/84.8",
          "Europe/Ireland/83.1/75.3/87.0",
          "Europe/Spain/66.8/57.8/87.5",
          "Europe/Bulgaria/62.7/68.4/88.0",
          "Americas/Peru/67.8/63.5/83.9",
          "Americas/United States/83.8/89.4/76.6",
          "Americas/Canada/81.9/73.7/77.2",
          "Middle East and North Africa/Oman/75.2/57.3/77.7",
          "Europe/Iceland/88.4/64.1/81.7",
          "Asia-Pacific/Taiwan /93.2/60.9/84.4",
          "Europe/Switzerland/75.4/72.5/85.2",
          "Sub-Saharan Africa/Eswatini/59.2/67.5/73.7",
          "Asia-Pacific/Australia/88.3/84.1/86.6",
          "Europe/Albania/69.3/52.7/81.5",
          "Sub-Saharan Africa/Mauritius/79.8/60.8/79.4",
          "Europe/Georgia/85.8/76.6/76.0",
          "Americas/Chile/76.6/65.0/84.5",
          "Asia-Pacific/Macau/60.0/50.0/76.5",
          "Asia-Pacific/New Zealand/91.0/86.7/87.5",
          "Asia-Pacific/Singapore/90.8/91.0/85.3",
          "Asia-Pacific/Hong Kong/96.4/89.2/86.4",
          "Americas/Venezuela/33.9/28.0",
          "Sub-Saharan Africa/Congo, Democratic Republic of the Congo/53.2/41.9",
          "Sub-Saharan Africa/Angola/55.7/58.8",
          "Americas/Suriname/48.3/73.5",
          "Sub-Saharan Africa/Sudan/52.1/59.0",
          "Europe/Ukraine/66.1/46.7",
          "Asia-Pacific/Uzbekistan/72.5/58.7",
          "Middle East and North Africa/Iran/62.2/50.7",
          "Americas/Argentina/56.4/46.9",
          "Sub-Saharan Africa/Ethiopia/48.6/58.0",
          "Sub-Saharan Africa/Eritrea/17.7/70.0",
          "Sub-Saharan Africa/Burundi/50.3/67.5",
          "Middle East and North Africa/Egypt/65.9/51.6",
          "Sub-Saharan Africa/Gambia/54.0/67.4",
          "Asia-Pacific/Azerbaijan/69.5/63.9",
          "Sub-Saharan Africa/Sierra Leone/44.9/29.3",
          "Sub-Saharan Africa/Nigeria/51.2/83.3",
          "Europe/Russia/78.4/52.5",
          "Sub-Saharan Africa/Mozambique/57.1/42.0",
          "Sub-Saharan Africa/Malawi/41.7/64.0",
          "Americas/Cuba/20.0/20.0",
          "Sub-Saharan Africa/Ghana/56.5/59.9",
          "Sub-Saharan Africa/Guinea/54.6/54.9",
          "Americas/Haiti/36.2/62.6",
          "Europe/Belarus/75.0/75.3",
          "Asia-Pacific/Tajikistan/67.3/49.2",
          "Americas/Bolivia/58.8/52.9",
          "Sub-Saharan Africa/Liberia/50.6/38.3",
          "Asia-Pacific/Vietnam/63.5/62.8",
          "Asia-Pacific/Nepal/61.8/47.9",
          "Asia-Pacific/Tonga/75.3/69.9",
          "Asia-Pacific/Philippines/61.3/57.9",
          "Asia-Pacific/Burma/52.8/65.7",
          "Asia-Pacific/Bangladesh/50.9/68.2",
          "Europe/Turkey/66.0/49.2",
          "Asia-Pacific/Papua New Guinea/62.2/72.6",
          "Asia-Pacific/Sri Lanka/75.1/58.8",
          "Sub-Saharan Africa/Zambia/71.1/46.0",
          "Sub-Saharan Africa/Tanzania/46.6/66.2",
          "Sub-Saharan Africa/São Tomé and Príncipe/65.1/42.7",
          "Middle East and North Africa/Kuwait/57.4/61.7",
          "Asia-Pacific/Kazakhstan/73.9/86.2",
          "Asia-Pacific/China/56.2/64.2",
          "Sub-Saharan Africa/Central African Republic/24.2/40.1",
          "Asia-Pacific/India/57.1/41.8",
          "Sub-Saharan Africa/Zimbabwe/33.4/43.3",
          "Sub-Saharan Africa/Madagascar/47.3/44.6",
          "Asia-Pacific/Pakistan/56.1/41.8",
          "Asia-Pacific/Bhutan/68.7/79.5",
          "Americas/Nicaragua/56.0/55.8",
          "Sub-Saharan Africa/Djibouti/54.7/60.4",
          "Sub-Saharan Africa/Kenya/55.8/63.4",
          "Americas/Paraguay/61.5/29.2",
          "Americas/Uruguay/74.3/71.9",
          "Americas/Honduras/56.9/32.0",
          "Asia-Pacific/Turkmenistan/30.0/20.0",
          "Europe/Moldova/67.0/39.0",
          "Americas/Ecuador/54.1/48.2",
          "Asia-Pacific/Fiji/63.0/72.9",
          "Sub-Saharan Africa/Eswatini/59.2/67.5",
          "Sub-Saharan Africa/Côte d'Ivoire/61.0/52.5",
          "Asia-Pacific/Kyrgyz Republic/73.4/79.8",
          "Sub-Saharan Africa/Namibia/65.8/85.1",
          "Middle East and North Africa/Algeria/61.6/49.9",
          "Asia-Pacific/Vanuatu/52.4/58.8",
          "Sub-Saharan Africa/Lesotho/53.3/58.8",
          "Americas/Trinidad and Tobago/67.8/75.6",
          "Sub-Saharan Africa/South Africa/64.3/59.1",
          "Asia-Pacific/Thailand/82.5/63.9",
          "Europe/Norway/89.4/53.7",
          "Americas/Brazil/57.9/51.9",
          "Americas/Colombia/71.4/78.5",
          "Americas/Mexico/67.8/58.6",
          "Middle East and North Africa/Tunisia/76.7/50.3",
          "Europe/Georgia/85.8/76.6",
          "Europe/Belgium/78.1/61.0",
          "Sub-Saharan Africa/Rwanda/56.2/82.2",
          "Asia-Pacific/Macau/60.0/50.0",
          "Asia-Pacific/Brunei Darussalam/80.2/90.8",
          "Americas/United States/83.8/89.4",
          "Sub-Saharan Africa/Niger/56.3/48.2",
          "Asia-Pacific/Afghanistan/49.2/60.4",
          "Americas/Guyana/59.3/62.0",
          "Americas/Guatemala/53.6/48.7",
          "Americas/Canada/81.9/73.7",
          "Asia-Pacific/Indonesia/69.3/49.3",
          "Middle East and North Africa/Oman/75.2/57.3",
          "Europe/Armenia/78.3/71.4",
          "Asia-Pacific/Mongolia/66.0/75.0",
          "Europe/Germany/83.3/52.8",
          "Middle East and North Africa/Lebanon/47.9/46.5",
          "Sub-Saharan Africa/Guinea-Bissau/35.9/61.2",
          "Middle East and North Africa/Saudi Arabia/72.3/63.3",
          "Americas/Bahamas/68.5/67.5",
          "Sub-Saharan Africa/Senegal/53.3/39.4",
          "Europe/Malta/67.1/61.3",
          "Americas/Barbados/69.8/59.9",
          "Europe/Kosovo/73.8/64.9",
          "Middle East and North Africa/Qatar/71.2/65.9",
          "Europe/Croatia/60.7/44.0",
          "Asia-Pacific/Laos/60.1/60.1",
          "Europe/Slovakia/61.3/53.4",
          "Asia-Pacific/Malaysia/83.9/74.4",
          "Americas/Belize/61.8/54.8",
          "Europe/Macedonia/80.2/71.5",
          "Sub-Saharan Africa/Botswana/68.7/68.2",
          "Americas/El Salvador/57.2/53.1",
          "Europe/France/81.2/45.2",
          "Sub-Saharan Africa/Togo/50.4/46.7",
          "Europe/Greece/74.1/52.5",
          "Americas/Panama/73.6/43.4",
          "Sub-Saharan Africa/Mauritius/79.8/60.8",
          "Asia-Pacific/Cambodia/29.9/63.0",
          "Asia-Pacific/Timor-Leste/60.5/58.8",
          "Europe/Estonia/75.3/57.2",
          "Americas/Dominican Republic/51.9/57.6",
          "Sub-Saharan Africa/Gabon/52.1/53.0",
          "Sub-Saharan Africa/Seychelles/63.3/63.2",
          "Europe/Serbia/72.9/67.4",
          "Sub-Saharan Africa/Uganda/46.3/83.2",
          "Middle East and North Africa/United Arab Emirates/79.9/81.1",
          "Asia-Pacific/Maldives/78.3/70.8",
          "Asia-Pacific/Kiribati/41.9/50.7",
          "Europe/Latvia/77.5/73.3",
          "Sub-Saharan Africa/Mauritania/61.9/51.5",
          "Europe/United Kingdom/92.9/73.5",
          "Europe/Albania/69.3/52.7",
          "Europe/Austria/74.9/68.7",
          "Europe/Czech Republic/72.4/78.1",
          "Sub-Saharan Africa/Mali/53.8/52.2",
          "Middle East and North Africa/Bahrain/71.4/71.1",
          "Europe/Montenegro/73.3/73.4",
          "Europe/Iceland/88.4/64.1",
          "Europe/Hungary/61.1/64.7",
          "Europe/Sweden/88.0/53.9",
          "Asia-Pacific/Korea, South/91.3/57.4",
          "Europe/Poland/65.4/63.9",
          "Americas/Saint Vincent and the Grenadines/76.5/73.5",
          "Sub-Saharan Africa/Chad/28.1/43.2",
          "Sub-Saharan Africa/Congo, Republic of/38.2/35.8",
          "Europe/Luxembourg/68.8/45.9",
          "Americas/Jamaica/78.0/73.6",
          "Europe/Romania/63.1/64.5",
          "Sub-Saharan Africa/Comoros/57.2/60.3",
          "Europe/Portugal/79.7/44.3",
          "Europe/Bosnia and Herzegovina/49.7/67.0",
          "Americas/Costa Rica/67.2/55.2",
          "Middle East and North Africa/Morocco/70.3/33.1",
          "Asia-Pacific/Samoa/77.0/78.2",
          "Europe/Slovenia/79.3/61.2",
          "Sub-Saharan Africa/Equatorial Guinea/37.6/32.7",
          "Americas/Peru/67.8/63.5",
          "Americas/Saint Lucia/76.3/69.2",
          "Sub-Saharan Africa/Cameroon/44.4/47.8",
          "Europe/Italy/71.7/51.1",
          "Europe/Cyprus/76.9/59.5",
          "Europe/Netherlands/81.4/60.3",
          "Sub-Saharan Africa/Cabo Verde/65.2/55.7",
          "Europe/Denmark/90.7/86.4",
          "Asia-Pacific/Taiwan /93.2/60.9",
          "Americas/Chile/76.6/65.0",
          "Europe/Lithuania/75.2/63.6",
          "Europe/Finland/89.4/50.3",
          "Middle East and North Africa/Jordan/61.8/52.7",
          "Europe/Switzerland/75.4/72.5",
          "Asia-Pacific/Singapore/90.8/91.0",
          "Americas/Dominica/70.7/60.4",
          "Asia-Pacific/Micronesia/57.4/71.9",
          "Asia-Pacific/Japan/80.5/79.0",
          "Asia-Pacific/Solomon Islands/68.6/72.0",
          "Sub-Saharan Africa/Burkina Faso/51.6/52.3",
          "Middle East and North Africa/Israel/71.4/65.1",
          "Sub-Saharan Africa/Benin/62.4/53.8",
          "Asia-Pacific/Hong Kong/96.4/89.2",
          "Asia-Pacific/Australia/88.3/84.1",
          "Europe/Ireland/83.1/75.3",
          "Europe/Spain/66.8/57.8",
          "Asia-Pacific/New Zealand/91.0/86.7",
          "Europe/Bulgaria/62.7/68.4",
          "Americas/Cuba/20.0",
          "Asia-Pacific/Turkmenistan/30.0",
          "Americas/Venezuela/33.9",
          "Americas/Paraguay/61.5",
          "Sub-Saharan Africa/Sierra Leone/44.9",
          "Americas/Honduras/56.9",
          "Sub-Saharan Africa/Equatorial Guinea/37.6",
          "Middle East and North Africa/Morocco/70.3",
          "Sub-Saharan Africa/Congo, Republic of/38.2",
          "Sub-Saharan Africa/Liberia/50.6",
          "Europe/Moldova/67.0",
          "Sub-Saharan Africa/Senegal/53.3",
          "Sub-Saharan Africa/Central African Republic/24.2",
          "Asia-Pacific/Pakistan/56.1",
          "Asia-Pacific/India/57.1",
          "Sub-Saharan Africa/Congo, Democratic Republic of the Congo/53.2",
          "Sub-Saharan Africa/Mozambique/57.1",
          "Sub-Saharan Africa/São Tomé and Príncipe/65.1",
          "Sub-Saharan Africa/Chad/28.1",
          "Sub-Saharan Africa/Zimbabwe/33.4",
          "Americas/Panama/73.6",
          "Europe/Croatia/60.7",
          "Europe/Portugal/79.7",
          "Sub-Saharan Africa/Madagascar/47.3",
          "Europe/France/81.2",
          "Europe/Luxembourg/68.8",
          "Sub-Saharan Africa/Zambia/71.1",
          "Middle East and North Africa/Lebanon/47.9",
          "Sub-Saharan Africa/Togo/50.4",
          "Europe/Ukraine/66.1",
          "Americas/Argentina/56.4",
          "Sub-Saharan Africa/Cameroon/44.4",
          "Asia-Pacific/Nepal/61.8",
          "Americas/Ecuador/54.1",
          "Sub-Saharan Africa/Niger/56.3",
          "Americas/Guatemala/53.6",
          "Europe/Turkey/66.0",
          "Asia-Pacific/Tajikistan/67.3",
          "Asia-Pacific/Indonesia/69.3",
          "Middle East and North Africa/Algeria/61.6",
          "Asia-Pacific/Macau/60.0",
          "Middle East and North Africa/Tunisia/76.7",
          "Europe/Finland/89.4",
          "Asia-Pacific/Kiribati/41.9",
          "Middle East and North Africa/Iran/62.2",
          "Europe/Italy/71.7",
          "Sub-Saharan Africa/Mauritania/61.9",
          "Middle East and North Africa/Egypt/65.9",
          "Americas/Brazil/57.9",
          "Sub-Saharan Africa/Mali/53.8",
          "Sub-Saharan Africa/Burkina Faso/51.6",
          "Sub-Saharan Africa/Côte d'Ivoire/61.0",
          "Europe/Greece/74.1",
          "Europe/Russia/78.4",
          "Middle East and North Africa/Jordan/61.8",
          "Europe/Albania/69.3",
          "Europe/Germany/83.3",
          "Americas/Bolivia/58.8",
          "Sub-Saharan Africa/Gabon/52.1",
          "Americas/El Salvador/57.2",
          "Europe/Slovakia/61.3",
          "Europe/Norway/89.4",
          "Sub-Saharan Africa/Benin/62.4",
          "Europe/Sweden/88.0",
          "Americas/Belize/61.8",
          "Sub-Saharan Africa/Guinea/54.6",
          "Americas/Costa Rica/67.2",
          "Sub-Saharan Africa/Cabo Verde/65.2",
          "Americas/Nicaragua/56.0",
          "Europe/Estonia/75.3",
          "Middle East and North Africa/Oman/75.2",
          "Asia-Pacific/Korea, South/91.3",
          "Americas/Dominican Republic/51.9",
          "Europe/Spain/66.8",
          "Asia-Pacific/Philippines/61.3",
          "Sub-Saharan Africa/Ethiopia/48.6",
          "Americas/Mexico/67.8",
          "Asia-Pacific/Uzbekistan/72.5",
          "Asia-Pacific/Vanuatu/52.4",
          "Sub-Saharan Africa/Lesotho/53.3",
          "Sub-Saharan Africa/Angola/55.7",
          "Asia-Pacific/Timor-Leste/60.5",
          "Asia-Pacific/Sri Lanka/75.1",
          "Sub-Saharan Africa/Sudan/52.1",
          "Sub-Saharan Africa/South Africa/64.3",
          "Europe/Cyprus/76.9",
          "Sub-Saharan Africa/Ghana/56.5",
          "Americas/Barbados/69.8",
          "Asia-Pacific/Laos/60.1",
          "Sub-Saharan Africa/Comoros/57.2",
          "Europe/Netherlands/81.4",
          "Asia-Pacific/Afghanistan/49.2",
          "Sub-Saharan Africa/Djibouti/54.7",
          "Americas/Dominica/70.7",
          "Sub-Saharan Africa/Mauritius/79.8",
          "Asia-Pacific/Taiwan /93.2",
          "Europe/Belgium/78.1",
          "Sub-Saharan Africa/Guinea-Bissau/35.9",
          "Europe/Slovenia/79.3",
          "Europe/Malta/67.1",
          "Middle East and North Africa/Kuwait/57.4",
          "Americas/Guyana/59.3",
          "Americas/Haiti/36.2",
          "Asia-Pacific/Vietnam/63.5",
          "Asia-Pacific/Cambodia/29.9",
          "Sub-Saharan Africa/Seychelles/63.3",
          "Middle East and North Africa/Saudi Arabia/72.3",
          "Sub-Saharan Africa/Kenya/55.8",
          "Americas/Peru/67.8",
          "Europe/Lithuania/75.2",
          "Europe/Poland/65.4",
          "Asia-Pacific/Azerbaijan/69.5",
          "Asia-Pacific/Thailand/82.5",
          "Sub-Saharan Africa/Malawi/41.7",
          "Europe/Iceland/88.4",
          "Asia-Pacific/China/56.2",
          "Europe/Romania/63.1",
          "Europe/Hungary/61.1",
          "Europe/Kosovo/73.8",
          "Americas/Chile/76.6",
          "Middle East and North Africa/Israel/71.4",
          "Asia-Pacific/Burma/52.8",
          "Middle East and North Africa/Qatar/71.2",
          "Sub-Saharan Africa/Tanzania/46.6",
          "Europe/Bosnia and Herzegovina/49.7",
          "Sub-Saharan Africa/Gambia/54.0",
          "Europe/Serbia/72.9",
          "Sub-Saharan Africa/Burundi/50.3",
          "Sub-Saharan Africa/Eswatini/59.2",
          "Americas/Bahamas/68.5",
          "Asia-Pacific/Bangladesh/50.9",
          "Sub-Saharan Africa/Botswana/68.7",
          "Europe/Bulgaria/62.7",
          "Europe/Austria/74.9",
          "Americas/Saint Lucia/76.3",
          "Asia-Pacific/Tonga/75.3",
          "Sub-Saharan Africa/Eritrea/17.7",
          "Asia-Pacific/Maldives/78.3",
          "Middle East and North Africa/Bahrain/71.4",
          "Europe/Armenia/78.3",
          "Europe/Macedonia/80.2",
          "Asia-Pacific/Micronesia/57.4",
          "Americas/Uruguay/74.3",
          "Asia-Pacific/Solomon Islands/68.6",
          "Europe/Switzerland/75.4",
          "Asia-Pacific/Papua New Guinea/62.2",
          "Asia-Pacific/Fiji/63.0",
          "Europe/Latvia/77.5",
          "Europe/Montenegro/73.3",
          "Americas/Suriname/48.3",
          "Americas/Saint Vincent and the Grenadines/76.5",
          "Europe/United Kingdom/92.9",
          "Americas/Jamaica/78.0",
          "Americas/Canada/81.9",
          "Asia-Pacific/Malaysia/83.9",
          "Asia-Pacific/Mongolia/66.0",
          "Europe/Belarus/75.0",
          "Europe/Ireland/83.1",
          "Americas/Trinidad and Tobago/67.8",
          "Europe/Georgia/85.8",
          "Europe/Czech Republic/72.4",
          "Asia-Pacific/Samoa/77.0",
          "Americas/Colombia/71.4",
          "Asia-Pacific/Japan/80.5",
          "Asia-Pacific/Bhutan/68.7",
          "Asia-Pacific/Kyrgyz Republic/73.4",
          "Middle East and North Africa/United Arab Emirates/79.9",
          "Sub-Saharan Africa/Rwanda/56.2",
          "Sub-Saharan Africa/Uganda/46.3",
          "Sub-Saharan Africa/Nigeria/51.2",
          "Asia-Pacific/Australia/88.3",
          "Sub-Saharan Africa/Namibia/65.8",
          "Asia-Pacific/Kazakhstan/73.9",
          "Europe/Denmark/90.7",
          "Asia-Pacific/New Zealand/91.0",
          "Asia-Pacific/Hong Kong/96.4",
          "Americas/United States/83.8",
          "Asia-Pacific/Brunei Darussalam/80.2",
          "Asia-Pacific/Singapore/90.8",
          "Sub-Saharan Africa/Eritrea",
          "Americas/Cuba",
          "Sub-Saharan Africa/Central African Republic",
          "Sub-Saharan Africa/Chad",
          "Asia-Pacific/Cambodia",
          "Asia-Pacific/Turkmenistan",
          "Sub-Saharan Africa/Zimbabwe",
          "Americas/Venezuela",
          "Sub-Saharan Africa/Guinea-Bissau",
          "Americas/Haiti",
          "Sub-Saharan Africa/Equatorial Guinea",
          "Sub-Saharan Africa/Congo, Republic of",
          "Sub-Saharan Africa/Malawi",
          "Asia-Pacific/Kiribati",
          "Sub-Saharan Africa/Cameroon",
          "Sub-Saharan Africa/Sierra Leone",
          "Sub-Saharan Africa/Uganda",
          "Sub-Saharan Africa/Tanzania",
          "Sub-Saharan Africa/Madagascar",
          "Middle East and North Africa/Lebanon",
          "Americas/Suriname",
          "Sub-Saharan Africa/Ethiopia",
          "Asia-Pacific/Afghanistan",
          "Europe/Bosnia and Herzegovina",
          "Sub-Saharan Africa/Burundi",
          "Sub-Saharan Africa/Togo",
          "Sub-Saharan Africa/Liberia",
          "Asia-Pacific/Bangladesh",
          "Sub-Saharan Africa/Nigeria",
          "Sub-Saharan Africa/Burkina Faso",
          "Americas/Dominican Republic",
          "Sub-Saharan Africa/Gabon",
          "Sub-Saharan Africa/Sudan",
          "Asia-Pacific/Vanuatu",
          "Asia-Pacific/Burma",
          "Sub-Saharan Africa/Congo, Democratic Republic of the Congo",
          "Sub-Saharan Africa/Lesotho",
          "Sub-Saharan Africa/Senegal",
          "Americas/Guatemala",
          "Sub-Saharan Africa/Mali",
          "Sub-Saharan Africa/Gambia",
          "Americas/Ecuador",
          "Sub-Saharan Africa/Guinea",
          "Sub-Saharan Africa/Djibouti",
          "Sub-Saharan Africa/Angola",
          "Sub-Saharan Africa/Kenya",
          "Americas/Nicaragua",
          "Asia-Pacific/Pakistan",
          "Asia-Pacific/China",
          "Sub-Saharan Africa/Rwanda",
          "Sub-Saharan Africa/Niger",
          "Americas/Argentina",
          "Sub-Saharan Africa/Ghana",
          "Americas/Honduras",
          "Asia-Pacific/India",
          "Sub-Saharan Africa/Mozambique",
          "Sub-Saharan Africa/Comoros",
          "Americas/El Salvador",
          "Middle East and North Africa/Kuwait",
          "Asia-Pacific/Micronesia",
          "Americas/Brazil",
          "Americas/Bolivia",
          "Sub-Saharan Africa/Eswatini",
          "Americas/Guyana",
          "Asia-Pacific/Macau",
          "Asia-Pacific/Laos",
          "Asia-Pacific/Timor-Leste",
          "Europe/Croatia",
          "Sub-Saharan Africa/Côte d'Ivoire",
          "Europe/Hungary",
          "Asia-Pacific/Philippines",
          "Europe/Slovakia",
          "Americas/Paraguay",
          "Middle East and North Africa/Algeria",
          "Americas/Belize",
          "Middle East and North Africa/Jordan",
          "Asia-Pacific/Nepal",
          "Sub-Saharan Africa/Mauritania",
          "Middle East and North Africa/Iran",
          "Asia-Pacific/Papua New Guinea",
          "Sub-Saharan Africa/Benin",
          "Europe/Bulgaria",
          "Asia-Pacific/Fiji",
          "Europe/Romania",
          "Sub-Saharan Africa/Seychelles",
          "Asia-Pacific/Vietnam",
          "Sub-Saharan Africa/South Africa",
          "Sub-Saharan Africa/São Tomé and Príncipe",
          "Sub-Saharan Africa/Cabo Verde",
          "Europe/Poland",
          "Sub-Saharan Africa/Namibia",
          "Middle East and North Africa/Egypt",
          "Asia-Pacific/Mongolia",
          "Europe/Turkey",
          "Europe/Ukraine",
          "Europe/Spain",
          "Europe/Moldova",
          "Europe/Malta",
          "Americas/Costa Rica",
          "Asia-Pacific/Tajikistan",
          "Americas/Mexico",
          "Americas/Peru",
          "Americas/Trinidad and Tobago",
          "Americas/Bahamas",
          "Asia-Pacific/Solomon Islands",
          "Asia-Pacific/Bhutan",
          "Sub-Saharan Africa/Botswana",
          "Europe/Luxembourg",
          "Europe/Albania",
          "Asia-Pacific/Indonesia",
          "Asia-Pacific/Azerbaijan",
          "Americas/Barbados",
          "Middle East and North Africa/Morocco",
          "Americas/Dominica",
          "Sub-Saharan Africa/Zambia",
          "Middle East and North Africa/Qatar",
          "Middle East and North Africa/Bahrain",
          "Americas/Colombia",
          "Middle East and North Africa/Israel",
          "Europe/Italy",
          "Middle East and North Africa/Saudi Arabia",
          "Europe/Czech Republic",
          "Asia-Pacific/Uzbekistan",
          "Europe/Serbia",
          "Europe/Montenegro",
          "Asia-Pacific/Kyrgyz Republic",
          "Americas/Panama",
          "Europe/Kosovo",
          "Asia-Pacific/Kazakhstan",
          "Europe/Greece",
          "Americas/Uruguay",
          "Europe/Austria",
          "Europe/Belarus",
          "Asia-Pacific/Sri Lanka",
          "Europe/Lithuania",
          "Middle East and North Africa/Oman",
          "Europe/Estonia",
          "Asia-Pacific/Tonga",
          "Europe/Switzerland",
          "Americas/Saint Lucia",
          "Americas/Saint Vincent and the Grenadines",
          "Americas/Chile",
          "Middle East and North Africa/Tunisia",
          "Europe/Cyprus",
          "Asia-Pacific/Samoa",
          "Europe/Latvia",
          "Americas/Jamaica",
          "Europe/Belgium",
          "Europe/Armenia",
          "Asia-Pacific/Maldives",
          "Europe/Russia",
          "Europe/Slovenia",
          "Europe/Portugal",
          "Sub-Saharan Africa/Mauritius",
          "Middle East and North Africa/United Arab Emirates",
          "Asia-Pacific/Brunei Darussalam",
          "Europe/Macedonia",
          "Asia-Pacific/Japan",
          "Europe/France",
          "Europe/Netherlands",
          "Americas/Canada",
          "Asia-Pacific/Thailand",
          "Europe/Ireland",
          "Europe/Germany",
          "Americas/United States",
          "Asia-Pacific/Malaysia",
          "Europe/Georgia",
          "Europe/Sweden",
          "Asia-Pacific/Australia",
          "Europe/Iceland",
          "Europe/Finland",
          "Europe/Norway",
          "Europe/Denmark",
          "Asia-Pacific/Singapore",
          "Asia-Pacific/New Zealand",
          "Asia-Pacific/Korea, South",
          "Europe/United Kingdom",
          "Asia-Pacific/Taiwan ",
          "Asia-Pacific/Hong Kong",
          "Asia-Pacific",
          "Europe",
          "Middle East and North Africa",
          "Sub-Saharan Africa",
          "Americas",
          "Europe",
          "Asia-Pacific",
          "Europe",
          "Asia-Pacific",
          "Americas",
          "Middle East and North Africa",
          "Asia-Pacific",
          "Americas",
          "Europe",
          "Europe",
          "Americas",
          "Sub-Saharan Africa",
          "Asia-Pacific",
          "Americas",
          "Europe",
          "Sub-Saharan Africa",
          "Americas",
          "Asia-Pacific",
          "Europe",
          "Sub-Saharan Africa",
          "Asia-Pacific",
          "Sub-Saharan Africa",
          "Sub-Saharan Africa",
          "Asia-Pacific",
          "Sub-Saharan Africa",
          "Americas",
          "Sub-Saharan Africa",
          "Sub-Saharan Africa",
          "Americas",
          "Asia-Pacific",
          "Americas",
          "Sub-Saharan Africa",
          "Sub-Saharan Africa",
          "Sub-Saharan Africa",
          "Americas",
          "Europe",
          "Americas",
          "Europe",
          "Europe",
          "Sub-Saharan Africa",
          "Europe",
          "Sub-Saharan Africa",
          "Americas",
          "Americas",
          "Americas",
          "Middle East and North Africa",
          "Americas",
          "Sub-Saharan Africa",
          "Sub-Saharan Africa",
          "Europe",
          "Sub-Saharan Africa",
          "Sub-Saharan Africa",
          "Asia-Pacific",
          "Europe",
          "Europe",
          "Sub-Saharan Africa",
          "Sub-Saharan Africa",
          "Europe",
          "Europe",
          "Sub-Saharan Africa",
          "Europe",
          "Americas",
          "Sub-Saharan Africa",
          "Sub-Saharan Africa",
          "Americas",
          "Americas",
          "Americas",
          "Asia-Pacific",
          "Europe",
          "Europe",
          "Asia-Pacific",
          "Asia-Pacific",
          "Middle East and North Africa",
          "Europe",
          "Middle East and North Africa",
          "Europe",
          "Americas",
          "Asia-Pacific",
          "Middle East and North Africa",
          "Asia-Pacific",
          "Sub-Saharan Africa",
          "Asia-Pacific",
          "Asia-Pacific",
          "Europe",
          "Middle East and North Africa",
          "Asia-Pacific",
          "Asia-Pacific",
          "Europe",
          "Middle East and North Africa",
          "Sub-Saharan Africa",
          "Sub-Saharan Africa",
          "Europe",
          "Europe",
          "Asia-Pacific",
          "Europe",
          "Sub-Saharan Africa",
          "Sub-Saharan Africa",
          "Asia-Pacific",
          "Asia-Pacific",
          "Sub-Saharan Africa",
          "Europe",
          "Sub-Saharan Africa",
          "Sub-Saharan Africa",
          "Americas",
          "Asia-Pacific",
          "Europe",
          "Asia-Pacific",
          "Europe",
          "Middle East and North Africa",
          "Sub-Saharan Africa",
          "Sub-Saharan Africa",
          "Asia-Pacific",
          "Europe",
          "Asia-Pacific",
          "Americas",
          "Sub-Saharan Africa",
          "Sub-Saharan Africa",
          "Europe",
          "Middle East and North Africa",
          "Asia-Pacific",
          "Americas",
          "Asia-Pacific",
          "Americas",
          "Americas",
          "Asia-Pacific",
          "Europe",
          "Europe",
          "Middle East and North Africa",
          "Europe",
          "Europe",
          "Sub-Saharan Africa",
          "Americas",
          "Americas",
          "Asia-Pacific",
          "Middle East and North Africa",
          "Sub-Saharan Africa",
          "Europe",
          "Sub-Saharan Africa",
          "Sub-Saharan Africa",
          "Asia-Pacific",
          "Europe",
          "Europe",
          "Asia-Pacific",
          "Sub-Saharan Africa",
          "Europe",
          "Asia-Pacific",
          "Sub-Saharan Africa",
          "Americas",
          "Europe",
          "Europe",
          "Sub-Saharan Africa",
          "Asia-Pacific",
          "Asia-Pacific",
          "Sub-Saharan Africa",
          "Asia-Pacific",
          "Asia-Pacific",
          "Sub-Saharan Africa",
          "Asia-Pacific",
          "Americas",
          "Middle East and North Africa",
          "Europe",
          "Asia-Pacific",
          "Sub-Saharan Africa",
          "Europe",
          "Middle East and North Africa",
          "Europe",
          "Americas",
          "Americas",
          "Asia-Pacific",
          "Asia-Pacific",
          "Americas",
          "Asia-Pacific",
          "Sub-Saharan Africa",
          "Sub-Saharan Africa",
          "",
          "",
          "",
          "",
          ""
         ],
         "type": "sunburst",
         "values": [
          47.7,
          49.9,
          62.9,
          41,
          47.1,
          49.1,
          56.3,
          47.3,
          52.4,
          51.1,
          54,
          64.7,
          39.7,
          54.6,
          25.9,
          49.7,
          53.8,
          55.1,
          53.6,
          50.6,
          52.4,
          55.3,
          57.3,
          50.3,
          53.3,
          53.2,
          55.7,
          62.2,
          55.7,
          57.5,
          55.6,
          62.2,
          27.8,
          55.4,
          54,
          56.4,
          48.1,
          55,
          59.4,
          57.8,
          51.6,
          51.5,
          46.9,
          65.8,
          56.8,
          46.2,
          60.2,
          48.9,
          63.1,
          63.6,
          57,
          68.6,
          51.9,
          38.9,
          56.6,
          47.5,
          50.3,
          58.1,
          52.2,
          40.4,
          55.4,
          42.3,
          71.1,
          53.6,
          67,
          55.4,
          52.5,
          52.7,
          56.3,
          55.2,
          53.6,
          58.4,
          68.7,
          55.6,
          57.7,
          62.4,
          65.4,
          52.3,
          44.2,
          51.4,
          59.7,
          55.4,
          61,
          57.7,
          48.4,
          58.3,
          67.3,
          60.7,
          56.4,
          57.9,
          61.8,
          63.9,
          62.9,
          58.9,
          48.6,
          59.1,
          63.8,
          68.6,
          62.3,
          60.8,
          51.1,
          55.3,
          67.2,
          62.9,
          60.2,
          64.6,
          65.8,
          65.4,
          72.1,
          72.3,
          51.9,
          67.7,
          58.4,
          53.1,
          63.8,
          57.7,
          64.7,
          61.8,
          61.4,
          65.3,
          66.5,
          57.4,
          74,
          71.1,
          62.6,
          61.9,
          58.7,
          68.3,
          73,
          72.6,
          69.5,
          66.4,
          65.1,
          77.6,
          72.8,
          60.5,
          67.3,
          73.5,
          68.6,
          61.4,
          65,
          76.6,
          70.4,
          78.9,
          72,
          73.7,
          65,
          75.2,
          67.8,
          75.9,
          68.6,
          65.3,
          65.5,
          62.2,
          68.1,
          76.8,
          76.7,
          74.2,
          74.9,
          80.5,
          65.7,
          69,
          67.8,
          76.8,
          77.7,
          61,
          77.1,
          77.3,
          81.9,
          54.7,
          80.9,
          66.5,
          73,
          75.9,
          75.4,
          71,
          84.4,
          89.4,
          90.2,
          25.9,
          50.3,
          50.6,
          48.1,
          47.7,
          52.3,
          53.3,
          51.1,
          52.2,
          53.6,
          38.9,
          48.9,
          52.5,
          52.4,
          65.4,
          47.5,
          57.3,
          58.9,
          48.6,
          51.4,
          27.8,
          57.5,
          55.7,
          52.7,
          57.9,
          55.6,
          42.3,
          49.7,
          55.3,
          53.8,
          57.7,
          63.8,
          53.6,
          55.6,
          64.6,
          58.4,
          56.4,
          53.6,
          60.2,
          54,
          60.8,
          65.4,
          58.4,
          49.1,
          55.2,
          40.4,
          56.6,
          55,
          62.9,
          57.7,
          47.1,
          55.1,
          61.8,
          68.6,
          60.2,
          48.4,
          59.1,
          46.9,
          62.2,
          54.7,
          62.4,
          62.3,
          58.7,
          46.2,
          56.4,
          53.1,
          57,
          58.3,
          68.3,
          73,
          51.9,
          67.3,
          64.7,
          55.4,
          75.9,
          67.3,
          71.1,
          71,
          65.1,
          76.8,
          51.6,
          51.5,
          56.8,
          62.6,
          77.7,
          65.8,
          61,
          67.7,
          55.4,
          73.5,
          51.1,
          54,
          60.7,
          62.9,
          56.3,
          68.6,
          64.7,
          67,
          72.6,
          61.4,
          57.4,
          65,
          74,
          55.4,
          71.1,
          69.5,
          61.8,
          63.8,
          50.3,
          57.7,
          67.2,
          73,
          57.8,
          44.2,
          76.6,
          61,
          56.3,
          61.4,
          63.9,
          59.7,
          77.6,
          53.2,
          47.3,
          70.4,
          55.7,
          78.9,
          66.5,
          72,
          73.7,
          58.1,
          66.4,
          60.5,
          77.1,
          65,
          75.2,
          72.3,
          67.8,
          65.8,
          49.9,
          39.7,
          75.9,
          68.6,
          68.6,
          55.4,
          65.3,
          61.9,
          65.3,
          62.9,
          62.2,
          65.5,
          41,
          67.8,
          68.7,
          52.4,
          62.2,
          68.1,
          76.8,
          63.1,
          76.7,
          77.3,
          75.4,
          74.2,
          74.9,
          66.5,
          81.9,
          89.4,
          63.6,
          51.9,
          72.1,
          54.6,
          59.4,
          72.8,
          55.3,
          90.2,
          80.9,
          80.5,
          65.7,
          84.4,
          69,
          27.8,
          48.4,
          25.9,
          61.8,
          47.5,
          60.2,
          41,
          62.9,
          39.7,
          49.7,
          59.1,
          56.3,
          49.1,
          55,
          55.2,
          50.3,
          48.6,
          54,
          49.9,
          40.4,
          67.2,
          61.4,
          65.3,
          56.6,
          63.8,
          75.9,
          53.6,
          51.1,
          50.3,
          52.3,
          52.2,
          52.4,
          53.8,
          46.9,
          51.6,
          62.6,
          64.6,
          55.6,
          65.8,
          46.2,
          71,
          55.4,
          74.9,
          47.3,
          51.1,
          62.2,
          55.7,
          52.5,
          51.9,
          58.1,
          59.4,
          62.4,
          57.7,
          58.9,
          66.5,
          66.5,
          73.5,
          42.3,
          56.3,
          61.8,
          65,
          73,
          55.3,
          75.2,
          55.4,
          55.7,
          65.3,
          63.1,
          57.7,
          76.6,
          61,
          72.3,
          61,
          65.7,
          63.8,
          53.6,
          64.7,
          53.3,
          56.4,
          53.1,
          50.6,
          44.2,
          56.4,
          47.7,
          58.3,
          68.1,
          57.5,
          64.7,
          57.4,
          55.4,
          76.8,
          51.5,
          47.1,
          63.6,
          73,
          77.3,
          67.3,
          54,
          65.5,
          68.6,
          60.8,
          56.8,
          52.7,
          55.3,
          57.8,
          61.4,
          60.7,
          55.1,
          67.8,
          74.2,
          67.8,
          65.4,
          68.3,
          51.4,
          77.1,
          58.4,
          68.6,
          65,
          67,
          75.4,
          72.8,
          53.6,
          72.6,
          60.2,
          61.9,
          52.4,
          63.9,
          48.9,
          54.7,
          62.9,
          55.6,
          69.5,
          69,
          72,
          68.7,
          57.7,
          38.9,
          53.2,
          66.4,
          67.7,
          71.1,
          51.9,
          68.6,
          54.6,
          81.9,
          58.4,
          62.2,
          70.4,
          60.5,
          48.1,
          65.8,
          78.9,
          68.6,
          77.7,
          74,
          55.4,
          57.9,
          80.5,
          57,
          75.9,
          73.7,
          62.2,
          67.3,
          72.1,
          62.9,
          62.3,
          77.6,
          71.1,
          59.7,
          57.3,
          80.9,
          58.7,
          65.4,
          76.7,
          84.4,
          90.2,
          76.8,
          65.1,
          89.4,
          38.9,
          27.8,
          49.1,
          49.9,
          57.8,
          48.4,
          40.4,
          25.9,
          54,
          52.7,
          41,
          39.7,
          51.4,
          47.3,
          52.4,
          47.5,
          59.7,
          60.2,
          56.6,
          51.1,
          48.1,
          53.6,
          51.5,
          61.9,
          48.9,
          50.3,
          49.7,
          55.6,
          57.3,
          59.4,
          61,
          56.3,
          47.7,
          56.4,
          53.6,
          50.3,
          53.1,
          56.3,
          62.6,
          58.1,
          52.4,
          46.9,
          55.7,
          47.1,
          50.6,
          55.1,
          57.7,
          55,
          58.4,
          71.1,
          51.6,
          52.2,
          57.5,
          60.2,
          55.2,
          48.6,
          55.4,
          61.8,
          60.8,
          51.9,
          51.9,
          42.3,
          54.7,
          56.8,
          71,
          57.4,
          44.2,
          61.4,
          62.4,
          65,
          63.8,
          65,
          61.8,
          46.2,
          55.4,
          66.5,
          53.8,
          55.7,
          51.1,
          58.4,
          55.3,
          69,
          62.2,
          68.6,
          61.4,
          55.3,
          58.3,
          54,
          63.1,
          67.8,
          58.7,
          52.5,
          55.4,
          64.6,
          52.3,
          65.7,
          59.1,
          68.6,
          65.3,
          55.6,
          64.7,
          67.8,
          57,
          62.9,
          54.6,
          62.9,
          69.5,
          75.9,
          66.5,
          65.8,
          65.4,
          64.7,
          62.9,
          63.6,
          53.6,
          72.6,
          66.4,
          67.3,
          72.8,
          62.2,
          60.7,
          73.7,
          53.3,
          63.9,
          60.5,
          62.3,
          67.2,
          67,
          65.4,
          57.7,
          68.6,
          72,
          57.9,
          56.4,
          74.2,
          61,
          76.6,
          57.7,
          81.9,
          68.7,
          65.8,
          75.4,
          55.4,
          68.1,
          62.2,
          70.4,
          68.6,
          67.3,
          67.7,
          53.2,
          58.9,
          65.5,
          65.3,
          73,
          77.6,
          65.1,
          71.1,
          72.1,
          63.8,
          76.8,
          77.7,
          68.3,
          80.5,
          73.5,
          76.8,
          74,
          75.9,
          75.2,
          80.9,
          77.1,
          74.9,
          73,
          76.7,
          89.4,
          84.4,
          72.3,
          78.9,
          77.3,
          90.2,
          51.5,
          66.5,
          46.2,
          50.6,
          52.2,
          67.7,
          80.9,
          72,
          65.4,
          62.9,
          66.4,
          55.6,
          64.7,
          57.9,
          67.3,
          55.4,
          55.3,
          62.9,
          42.3,
          61.9,
          69.5,
          51.9,
          65.1,
          69,
          59.4,
          53.6,
          48.9,
          63.1,
          57.8,
          52.4,
          77.7,
          49.1,
          49.9,
          75.4,
          58.4,
          67.3,
          55.4,
          50.3,
          39.7,
          65.3,
          61.4,
          27.8,
          68.1,
          73.7,
          62.4,
          76.7,
          47.1,
          63.6,
          61,
          46.9,
          52.5,
          61.8,
          41,
          38.9,
          76.6,
          54.7,
          53.6,
          62.2,
          74.9,
          63.8,
          56.3,
          52.4,
          75.9,
          73.5,
          57.5,
          57.7,
          62.6,
          55.7,
          54,
          56.8,
          52.7,
          60.2,
          90.2,
          65,
          77.1,
          55.2,
          65.8,
          51.1,
          80.5,
          72.8,
          62.2,
          68.6,
          72.1,
          66.5,
          65.4,
          55.1,
          47.3,
          72.3,
          67,
          60.8,
          62.3,
          57.4,
          70.4,
          51.1,
          53.1,
          49.7,
          74.2,
          75.9,
          71,
          71.1,
          56.6,
          51.4,
          74,
          53.2,
          58.1,
          68.6,
          55.7,
          73,
          64.7,
          51.9,
          59.1,
          55.4,
          60.5,
          62.9,
          48.6,
          58.7,
          53.8,
          76.8,
          84.4,
          57.7,
          51.6,
          57.3,
          73,
          61,
          55,
          67.2,
          58.4,
          61.8,
          67.8,
          63.8,
          67.8,
          65.3,
          72.6,
          68.6,
          58.9,
          71.1,
          68.7,
          65.8,
          62.2,
          60.7,
          56.3,
          63.9,
          61.4,
          47.5,
          89.4,
          65,
          65.5,
          54.6,
          58.3,
          65.7,
          56.4,
          47.7,
          48.1,
          75.2,
          81.9,
          54,
          77.3,
          55.6,
          60.2,
          68.3,
          44.2,
          50.3,
          57.7,
          57,
          55.4,
          64.6,
          48.4,
          59.7,
          52.3,
          77.6,
          78.9,
          76.8,
          68.6,
          53.3,
          56.4,
          25.9,
          55.3,
          53.6,
          40.4,
          1907.1999999999998,
          2601.4000000000005,
          3019.5999999999995,
          857.6,
          2546.5999999999995
         ]
        }
       ],
       "layout": {
        "coloraxis": {
         "cmid": 81.44116570926786,
         "colorbar": {
          "title": {
           "text": "World_Rank"
          }
         },
         "colorscale": [
          [
           0,
           "rgb(103,0,31)"
          ],
          [
           0.1,
           "rgb(178,24,43)"
          ],
          [
           0.2,
           "rgb(214,96,77)"
          ],
          [
           0.3,
           "rgb(244,165,130)"
          ],
          [
           0.4,
           "rgb(253,219,199)"
          ],
          [
           0.5,
           "rgb(247,247,247)"
          ],
          [
           0.6,
           "rgb(209,229,240)"
          ],
          [
           0.7,
           "rgb(146,197,222)"
          ],
          [
           0.8,
           "rgb(67,147,195)"
          ],
          [
           0.9,
           "rgb(33,102,172)"
          ],
          [
           1,
           "rgb(5,48,97)"
          ]
         ]
        },
        "legend": {
         "tracegroupgap": 0
        },
        "margin": {
         "t": 60
        },
        "template": {
         "data": {
          "bar": [
           {
            "error_x": {
             "color": "#2a3f5f"
            },
            "error_y": {
             "color": "#2a3f5f"
            },
            "marker": {
             "line": {
              "color": "#E5ECF6",
              "width": 0.5
             }
            },
            "type": "bar"
           }
          ],
          "barpolar": [
           {
            "marker": {
             "line": {
              "color": "#E5ECF6",
              "width": 0.5
             }
            },
            "type": "barpolar"
           }
          ],
          "carpet": [
           {
            "aaxis": {
             "endlinecolor": "#2a3f5f",
             "gridcolor": "white",
             "linecolor": "white",
             "minorgridcolor": "white",
             "startlinecolor": "#2a3f5f"
            },
            "baxis": {
             "endlinecolor": "#2a3f5f",
             "gridcolor": "white",
             "linecolor": "white",
             "minorgridcolor": "white",
             "startlinecolor": "#2a3f5f"
            },
            "type": "carpet"
           }
          ],
          "choropleth": [
           {
            "colorbar": {
             "outlinewidth": 0,
             "ticks": ""
            },
            "type": "choropleth"
           }
          ],
          "contour": [
           {
            "colorbar": {
             "outlinewidth": 0,
             "ticks": ""
            },
            "colorscale": [
             [
              0,
              "#0d0887"
             ],
             [
              0.1111111111111111,
              "#46039f"
             ],
             [
              0.2222222222222222,
              "#7201a8"
             ],
             [
              0.3333333333333333,
              "#9c179e"
             ],
             [
              0.4444444444444444,
              "#bd3786"
             ],
             [
              0.5555555555555556,
              "#d8576b"
             ],
             [
              0.6666666666666666,
              "#ed7953"
             ],
             [
              0.7777777777777778,
              "#fb9f3a"
             ],
             [
              0.8888888888888888,
              "#fdca26"
             ],
             [
              1,
              "#f0f921"
             ]
            ],
            "type": "contour"
           }
          ],
          "contourcarpet": [
           {
            "colorbar": {
             "outlinewidth": 0,
             "ticks": ""
            },
            "type": "contourcarpet"
           }
          ],
          "heatmap": [
           {
            "colorbar": {
             "outlinewidth": 0,
             "ticks": ""
            },
            "colorscale": [
             [
              0,
              "#0d0887"
             ],
             [
              0.1111111111111111,
              "#46039f"
             ],
             [
              0.2222222222222222,
              "#7201a8"
             ],
             [
              0.3333333333333333,
              "#9c179e"
             ],
             [
              0.4444444444444444,
              "#bd3786"
             ],
             [
              0.5555555555555556,
              "#d8576b"
             ],
             [
              0.6666666666666666,
              "#ed7953"
             ],
             [
              0.7777777777777778,
              "#fb9f3a"
             ],
             [
              0.8888888888888888,
              "#fdca26"
             ],
             [
              1,
              "#f0f921"
             ]
            ],
            "type": "heatmap"
           }
          ],
          "heatmapgl": [
           {
            "colorbar": {
             "outlinewidth": 0,
             "ticks": ""
            },
            "colorscale": [
             [
              0,
              "#0d0887"
             ],
             [
              0.1111111111111111,
              "#46039f"
             ],
             [
              0.2222222222222222,
              "#7201a8"
             ],
             [
              0.3333333333333333,
              "#9c179e"
             ],
             [
              0.4444444444444444,
              "#bd3786"
             ],
             [
              0.5555555555555556,
              "#d8576b"
             ],
             [
              0.6666666666666666,
              "#ed7953"
             ],
             [
              0.7777777777777778,
              "#fb9f3a"
             ],
             [
              0.8888888888888888,
              "#fdca26"
             ],
             [
              1,
              "#f0f921"
             ]
            ],
            "type": "heatmapgl"
           }
          ],
          "histogram": [
           {
            "marker": {
             "colorbar": {
              "outlinewidth": 0,
              "ticks": ""
             }
            },
            "type": "histogram"
           }
          ],
          "histogram2d": [
           {
            "colorbar": {
             "outlinewidth": 0,
             "ticks": ""
            },
            "colorscale": [
             [
              0,
              "#0d0887"
             ],
             [
              0.1111111111111111,
              "#46039f"
             ],
             [
              0.2222222222222222,
              "#7201a8"
             ],
             [
              0.3333333333333333,
              "#9c179e"
             ],
             [
              0.4444444444444444,
              "#bd3786"
             ],
             [
              0.5555555555555556,
              "#d8576b"
             ],
             [
              0.6666666666666666,
              "#ed7953"
             ],
             [
              0.7777777777777778,
              "#fb9f3a"
             ],
             [
              0.8888888888888888,
              "#fdca26"
             ],
             [
              1,
              "#f0f921"
             ]
            ],
            "type": "histogram2d"
           }
          ],
          "histogram2dcontour": [
           {
            "colorbar": {
             "outlinewidth": 0,
             "ticks": ""
            },
            "colorscale": [
             [
              0,
              "#0d0887"
             ],
             [
              0.1111111111111111,
              "#46039f"
             ],
             [
              0.2222222222222222,
              "#7201a8"
             ],
             [
              0.3333333333333333,
              "#9c179e"
             ],
             [
              0.4444444444444444,
              "#bd3786"
             ],
             [
              0.5555555555555556,
              "#d8576b"
             ],
             [
              0.6666666666666666,
              "#ed7953"
             ],
             [
              0.7777777777777778,
              "#fb9f3a"
             ],
             [
              0.8888888888888888,
              "#fdca26"
             ],
             [
              1,
              "#f0f921"
             ]
            ],
            "type": "histogram2dcontour"
           }
          ],
          "mesh3d": [
           {
            "colorbar": {
             "outlinewidth": 0,
             "ticks": ""
            },
            "type": "mesh3d"
           }
          ],
          "parcoords": [
           {
            "line": {
             "colorbar": {
              "outlinewidth": 0,
              "ticks": ""
             }
            },
            "type": "parcoords"
           }
          ],
          "pie": [
           {
            "automargin": true,
            "type": "pie"
           }
          ],
          "scatter": [
           {
            "marker": {
             "colorbar": {
              "outlinewidth": 0,
              "ticks": ""
             }
            },
            "type": "scatter"
           }
          ],
          "scatter3d": [
           {
            "line": {
             "colorbar": {
              "outlinewidth": 0,
              "ticks": ""
             }
            },
            "marker": {
             "colorbar": {
              "outlinewidth": 0,
              "ticks": ""
             }
            },
            "type": "scatter3d"
           }
          ],
          "scattercarpet": [
           {
            "marker": {
             "colorbar": {
              "outlinewidth": 0,
              "ticks": ""
             }
            },
            "type": "scattercarpet"
           }
          ],
          "scattergeo": [
           {
            "marker": {
             "colorbar": {
              "outlinewidth": 0,
              "ticks": ""
             }
            },
            "type": "scattergeo"
           }
          ],
          "scattergl": [
           {
            "marker": {
             "colorbar": {
              "outlinewidth": 0,
              "ticks": ""
             }
            },
            "type": "scattergl"
           }
          ],
          "scattermapbox": [
           {
            "marker": {
             "colorbar": {
              "outlinewidth": 0,
              "ticks": ""
             }
            },
            "type": "scattermapbox"
           }
          ],
          "scatterpolar": [
           {
            "marker": {
             "colorbar": {
              "outlinewidth": 0,
              "ticks": ""
             }
            },
            "type": "scatterpolar"
           }
          ],
          "scatterpolargl": [
           {
            "marker": {
             "colorbar": {
              "outlinewidth": 0,
              "ticks": ""
             }
            },
            "type": "scatterpolargl"
           }
          ],
          "scatterternary": [
           {
            "marker": {
             "colorbar": {
              "outlinewidth": 0,
              "ticks": ""
             }
            },
            "type": "scatterternary"
           }
          ],
          "surface": [
           {
            "colorbar": {
             "outlinewidth": 0,
             "ticks": ""
            },
            "colorscale": [
             [
              0,
              "#0d0887"
             ],
             [
              0.1111111111111111,
              "#46039f"
             ],
             [
              0.2222222222222222,
              "#7201a8"
             ],
             [
              0.3333333333333333,
              "#9c179e"
             ],
             [
              0.4444444444444444,
              "#bd3786"
             ],
             [
              0.5555555555555556,
              "#d8576b"
             ],
             [
              0.6666666666666666,
              "#ed7953"
             ],
             [
              0.7777777777777778,
              "#fb9f3a"
             ],
             [
              0.8888888888888888,
              "#fdca26"
             ],
             [
              1,
              "#f0f921"
             ]
            ],
            "type": "surface"
           }
          ],
          "table": [
           {
            "cells": {
             "fill": {
              "color": "#EBF0F8"
             },
             "line": {
              "color": "white"
             }
            },
            "header": {
             "fill": {
              "color": "#C8D4E3"
             },
             "line": {
              "color": "white"
             }
            },
            "type": "table"
           }
          ]
         },
         "layout": {
          "annotationdefaults": {
           "arrowcolor": "#2a3f5f",
           "arrowhead": 0,
           "arrowwidth": 1
          },
          "coloraxis": {
           "colorbar": {
            "outlinewidth": 0,
            "ticks": ""
           }
          },
          "colorscale": {
           "diverging": [
            [
             0,
             "#8e0152"
            ],
            [
             0.1,
             "#c51b7d"
            ],
            [
             0.2,
             "#de77ae"
            ],
            [
             0.3,
             "#f1b6da"
            ],
            [
             0.4,
             "#fde0ef"
            ],
            [
             0.5,
             "#f7f7f7"
            ],
            [
             0.6,
             "#e6f5d0"
            ],
            [
             0.7,
             "#b8e186"
            ],
            [
             0.8,
             "#7fbc41"
            ],
            [
             0.9,
             "#4d9221"
            ],
            [
             1,
             "#276419"
            ]
           ],
           "sequential": [
            [
             0,
             "#0d0887"
            ],
            [
             0.1111111111111111,
             "#46039f"
            ],
            [
             0.2222222222222222,
             "#7201a8"
            ],
            [
             0.3333333333333333,
             "#9c179e"
            ],
            [
             0.4444444444444444,
             "#bd3786"
            ],
            [
             0.5555555555555556,
             "#d8576b"
            ],
            [
             0.6666666666666666,
             "#ed7953"
            ],
            [
             0.7777777777777778,
             "#fb9f3a"
            ],
            [
             0.8888888888888888,
             "#fdca26"
            ],
            [
             1,
             "#f0f921"
            ]
           ],
           "sequentialminus": [
            [
             0,
             "#0d0887"
            ],
            [
             0.1111111111111111,
             "#46039f"
            ],
            [
             0.2222222222222222,
             "#7201a8"
            ],
            [
             0.3333333333333333,
             "#9c179e"
            ],
            [
             0.4444444444444444,
             "#bd3786"
            ],
            [
             0.5555555555555556,
             "#d8576b"
            ],
            [
             0.6666666666666666,
             "#ed7953"
            ],
            [
             0.7777777777777778,
             "#fb9f3a"
            ],
            [
             0.8888888888888888,
             "#fdca26"
            ],
            [
             1,
             "#f0f921"
            ]
           ]
          },
          "colorway": [
           "#636efa",
           "#EF553B",
           "#00cc96",
           "#ab63fa",
           "#FFA15A",
           "#19d3f3",
           "#FF6692",
           "#B6E880",
           "#FF97FF",
           "#FECB52"
          ],
          "font": {
           "color": "#2a3f5f"
          },
          "geo": {
           "bgcolor": "white",
           "lakecolor": "white",
           "landcolor": "#E5ECF6",
           "showlakes": true,
           "showland": true,
           "subunitcolor": "white"
          },
          "hoverlabel": {
           "align": "left"
          },
          "hovermode": "closest",
          "mapbox": {
           "style": "light"
          },
          "paper_bgcolor": "white",
          "plot_bgcolor": "#E5ECF6",
          "polar": {
           "angularaxis": {
            "gridcolor": "white",
            "linecolor": "white",
            "ticks": ""
           },
           "bgcolor": "#E5ECF6",
           "radialaxis": {
            "gridcolor": "white",
            "linecolor": "white",
            "ticks": ""
           }
          },
          "scene": {
           "xaxis": {
            "backgroundcolor": "#E5ECF6",
            "gridcolor": "white",
            "gridwidth": 2,
            "linecolor": "white",
            "showbackground": true,
            "ticks": "",
            "zerolinecolor": "white"
           },
           "yaxis": {
            "backgroundcolor": "#E5ECF6",
            "gridcolor": "white",
            "gridwidth": 2,
            "linecolor": "white",
            "showbackground": true,
            "ticks": "",
            "zerolinecolor": "white"
           },
           "zaxis": {
            "backgroundcolor": "#E5ECF6",
            "gridcolor": "white",
            "gridwidth": 2,
            "linecolor": "white",
            "showbackground": true,
            "ticks": "",
            "zerolinecolor": "white"
           }
          },
          "shapedefaults": {
           "line": {
            "color": "#2a3f5f"
           }
          },
          "ternary": {
           "aaxis": {
            "gridcolor": "white",
            "linecolor": "white",
            "ticks": ""
           },
           "baxis": {
            "gridcolor": "white",
            "linecolor": "white",
            "ticks": ""
           },
           "bgcolor": "#E5ECF6",
           "caxis": {
            "gridcolor": "white",
            "linecolor": "white",
            "ticks": ""
           }
          },
          "title": {
           "x": 0.05
          },
          "xaxis": {
           "automargin": true,
           "gridcolor": "white",
           "linecolor": "white",
           "ticks": "",
           "title": {
            "standoff": 15
           },
           "zerolinecolor": "white",
           "zerolinewidth": 2
          },
          "yaxis": {
           "automargin": true,
           "gridcolor": "white",
           "linecolor": "white",
           "ticks": "",
           "title": {
            "standoff": 15
           },
           "zerolinecolor": "white",
           "zerolinewidth": 2
          }
         }
        }
       }
      },
      "text/html": [
       "<div>\n",
       "        \n",
       "        \n",
       "            <div id=\"d4c4ab20-025c-4e78-9fc4-703f4298e1ee\" class=\"plotly-graph-div\" style=\"height:525px; width:100%;\"></div>\n",
       "            <script type=\"text/javascript\">\n",
       "                require([\"plotly\"], function(Plotly) {\n",
       "                    window.PLOTLYENV=window.PLOTLYENV || {};\n",
       "                    \n",
       "                if (document.getElementById(\"d4c4ab20-025c-4e78-9fc4-703f4298e1ee\")) {\n",
       "                    Plotly.newPlot(\n",
       "                        'd4c4ab20-025c-4e78-9fc4-703f4298e1ee',\n",
       "                        [{\"branchvalues\": \"total\", \"customdata\": [[\"Sudan\", 166.0], [\"Chad\", 159.0], [\"Bahamas\", 76.0], [\"Equatorial Guinea\", 174.0], [\"Djibouti\", 169.0], [\"Central African Republic\", 161.0], [\"Gabon\", 118.0], [\"Kiribati\", 168.0], [\"Cameroon\", 145.0], [\"Iran\", 155.0], [\"Guinea-Bissau\", 135.0], [\"Barbados\", 67.0], [\"Congo, Republic of\", 176.0], [\"Solomon Islands\", 133.0], [\"Venezuela\", 179.0], [\"Liberia\", 160.0], [\"Nepal\", 136.0], [\"Kenya\", 130.0], [\"Ethiopia\", 137.0], [\"Angola\", 156.0], [\"Gambia\", 146.0], [\"Benin\", 127.0], [\"Nigeria\", 110.99999999999999], [\"Congo, Democratic Republic of the Congo\", 157.0], [\"Uzbekistan\", 140.0], [\"Maldives\", 141.0], [\"Mauritania\", 119.0], [\"Fiji\", 81.0], [\"Guinea\", 120.0], [\"Ghana\", 109.0], [\"Bangladesh\", 121.0], [\"Samoa\", 82.0], [\"Cuba\", 178.00000000000003], [\"Belize\", 123.0], [\"S\\u00e3o Tom\\u00e9 and Pr\\u00edncipe\", 134.0], [\"Vanuatu\", 116.0], [\"Suriname\", 165.0], [\"Pakistan\", 131.0], [\"Burkina Faso\", 96.0], [\"Cambodia\", 105.0], [\"Niger\", 151.0], [\"Afghanistan\", 152.0], [\"Ecuador\", 170.0], [\"Saint Vincent and the Grenadines\", 55.0], [\"Guyana\", 113.0], [\"Algeria\", 171.0], [\"Tanzania\", 94.0], [\"Burundi\", 162.0], [\"Cabo Verde\", 73.0], [\"Dominica\", 72.0], [\"Trinidad and Tobago\", 112.0], [\"Jamaica\", 39.0], [\"Brazil\", 150.0], [\"Eritrea\", 177.0], [\"Madagascar\", 114.0], [\"Sierra Leone\", 167.0], [\"Togo\", 158.0], [\"Mali\", 103.0], [\"Argentina\", 148.0], [\"Zimbabwe\", 175.0], [\"Comoros\", 124.0], [\"Bolivia\", 173.0], [\"Rwanda\", 32.0], [\"Burma\", 139.0], [\"Kosovo\", 51.0], [\"Tunisia\", 125.0], [\"Egypt\", 144.0], [\"Haiti\", 143.0], [\"Senegal\", 117.0], [\"India\", 129.0], [\"Zambia\", 138.0], [\"China\", 100.0], [\"Saint Lucia\", 38.0], [\"Tajikistan\", 122.0], [\"Tonga\", 108.0], [\"C\\u00f4te d'Ivoire\", 78.0], [\"Azerbaijan\", 60.0], [\"Ukraine\", 147.0], [\"Timor-Leste\", 172.0], [\"Malawi\", 153.0], [\"Uganda\", 95.0], [\"Mongolia\", 126.0], [\"Dominican Republic\", 89.0], [\"Nicaragua\", 107.0], [\"Turkmenistan\", 164.0], [\"South Africa\", 102.0], [\"Colombia\", 49.0], [\"Saudi Arabia\", 90.99999999999999], [\"Sri Lanka\", 115.0], [\"Belarus\", 104.0], [\"Paraguay\", 85.0], [\"Serbia\", 69.0], [\"Morocco\", 75.0], [\"Russia\", 98.0], [\"Mozambique\", 163.0], [\"Moldova\", 97.0], [\"Philippines\", 70.0], [\"Uruguay\", 40.0], [\"Kyrgyz Republic\", 79.0], [\"Kuwait\", 90.0], [\"Lebanon\", 154.0], [\"Vietnam\", 128.0], [\"Panama\", 50.0], [\"Bhutan\", 74.0], [\"Honduras\", 93.0], [\"Turkey\", 68.0], [\"Indonesia\", 56.0], [\"Kazakhstan\", 59.0], [\"Japan\", 30.000000000000004], [\"Korea, South\", 29.0], [\"Micronesia\", 149.0], [\"Armenia\", 47.0], [\"Papua New Guinea\", 101.0], [\"Lesotho\", 142.0], [\"France\", 71.0], [\"Greece\", 106.00000000000001], [\"Mexico\", 66.0], [\"El Salvador\", 84.0], [\"Seychelles\", 87.0], [\"Costa Rica\", 61.0], [\"Jordan\", 53.0], [\"Laos\", 110.0], [\"Malaysia\", 22.0], [\"Macedonia\", 33.0], [\"Guatemala\", 77.0], [\"Bosnia and Herzegovina\", 83.0], [\"Namibia\", 99.0], [\"Thailand\", 43.0], [\"Norway\", 26.0], [\"Qatar\", 28.0], [\"Botswana\", 36.0], [\"Bahrain\", 54.0], [\"Brunei Darussalam\", 62.99999999999999], [\"United Arab Emirates\", 9.0], [\"Israel\", 27.0], [\"Montenegro\", 92.0], [\"Belgium\", 48.0], [\"Germany\", 24.0], [\"Malta\", 41.0], [\"Croatia\", 86.0], [\"Slovakia\", 65.0], [\"Estonia\", 15.000000000000002], [\"Latvia\", 35.0], [\"United Kingdom\", 7.0], [\"Austria\", 31.0], [\"Czech Republic\", 23.0], [\"Hungary\", 64.0], [\"Sweden\", 19.0], [\"Poland\", 46.0], [\"Luxembourg\", 17.0], [\"Romania\", 42.0], [\"Portugal\", 62.0], [\"Slovenia\", 58.0], [\"Italy\", 80.0], [\"Cyprus\", 44.0], [\"Netherlands\", 13.0], [\"Denmark\", 13.999999999999998], [\"Lithuania\", 21.0], [\"Finland\", 20.0], [\"Ireland\", 6.0], [\"Spain\", 57.0], [\"Bulgaria\", 37.0], [\"Peru\", 45.0], [\"United States\", 12.0], [\"Canada\", 8.0], [\"Oman\", 88.0], [\"Iceland\", 11.0], [\"Taiwan \", 10.0], [\"Switzerland\", 4.0], [\"Eswatini\", 132.0], [\"Australia\", 5.0], [\"Albania\", 52.0], [\"Mauritius\", 25.0], [\"Georgia\", 16.0], [\"Chile\", 18.0], [\"Macau\", 34.0], [\"New Zealand\", 3.0], [\"Singapore\", 2.0], [\"Hong Kong\", 1.0], [\"Venezuela\", 179.0], [\"Congo, Democratic Republic of the Congo\", 157.0], [\"Angola\", 156.0], [\"Suriname\", 165.0], [\"Sudan\", 166.0], [\"Ukraine\", 147.0], [\"Uzbekistan\", 140.0], [\"Iran\", 155.0], [\"Argentina\", 148.0], [\"Ethiopia\", 137.0], [\"Eritrea\", 177.0], [\"Burundi\", 162.0], [\"Egypt\", 144.0], [\"Gambia\", 146.0], [\"Azerbaijan\", 60.0], [\"Sierra Leone\", 167.0], [\"Nigeria\", 110.99999999999999], [\"Russia\", 98.0], [\"Mozambique\", 163.0], [\"Malawi\", 153.0], [\"Cuba\", 178.00000000000003], [\"Ghana\", 109.0], [\"Guinea\", 120.0], [\"Haiti\", 143.0], [\"Belarus\", 104.0], [\"Tajikistan\", 122.0], [\"Bolivia\", 173.0], [\"Liberia\", 160.0], [\"Vietnam\", 128.0], [\"Nepal\", 136.0], [\"Tonga\", 108.0], [\"Philippines\", 70.0], [\"Burma\", 139.0], [\"Bangladesh\", 121.0], [\"Turkey\", 68.0], [\"Papua New Guinea\", 101.0], [\"Sri Lanka\", 115.0], [\"Zambia\", 138.0], [\"Tanzania\", 94.0], [\"S\\u00e3o Tom\\u00e9 and Pr\\u00edncipe\", 134.0], [\"Kuwait\", 90.0], [\"Kazakhstan\", 59.0], [\"China\", 100.0], [\"Central African Republic\", 161.0], [\"India\", 129.0], [\"Zimbabwe\", 175.0], [\"Madagascar\", 114.0], [\"Pakistan\", 131.0], [\"Bhutan\", 74.0], [\"Nicaragua\", 107.0], [\"Djibouti\", 169.0], [\"Kenya\", 130.0], [\"Paraguay\", 85.0], [\"Uruguay\", 40.0], [\"Honduras\", 93.0], [\"Turkmenistan\", 164.0], [\"Moldova\", 97.0], [\"Ecuador\", 170.0], [\"Fiji\", 81.0], [\"Eswatini\", 132.0], [\"C\\u00f4te d'Ivoire\", 78.0], [\"Kyrgyz Republic\", 79.0], [\"Namibia\", 99.0], [\"Algeria\", 171.0], [\"Vanuatu\", 116.0], [\"Lesotho\", 142.0], [\"Trinidad and Tobago\", 112.0], [\"South Africa\", 102.0], [\"Thailand\", 43.0], [\"Norway\", 26.0], [\"Brazil\", 150.0], [\"Colombia\", 49.0], [\"Mexico\", 66.0], [\"Tunisia\", 125.0], [\"Georgia\", 16.0], [\"Belgium\", 48.0], [\"Rwanda\", 32.0], [\"Macau\", 34.0], [\"Brunei Darussalam\", 62.99999999999999], [\"United States\", 12.0], [\"Niger\", 151.0], [\"Afghanistan\", 152.0], [\"Guyana\", 113.0], [\"Guatemala\", 77.0], [\"Canada\", 8.0], [\"Indonesia\", 56.0], [\"Oman\", 88.0], [\"Armenia\", 47.0], [\"Mongolia\", 126.0], [\"Germany\", 24.0], [\"Lebanon\", 154.0], [\"Guinea-Bissau\", 135.0], [\"Saudi Arabia\", 90.99999999999999], [\"Bahamas\", 76.0], [\"Senegal\", 117.0], [\"Malta\", 41.0], [\"Barbados\", 67.0], [\"Kosovo\", 51.0], [\"Qatar\", 28.0], [\"Croatia\", 86.0], [\"Laos\", 110.0], [\"Slovakia\", 65.0], [\"Malaysia\", 22.0], [\"Belize\", 123.0], [\"Macedonia\", 33.0], [\"Botswana\", 36.0], [\"El Salvador\", 84.0], [\"France\", 71.0], [\"Togo\", 158.0], [\"Greece\", 106.00000000000001], [\"Panama\", 50.0], [\"Mauritius\", 25.0], [\"Cambodia\", 105.0], [\"Timor-Leste\", 172.0], [\"Estonia\", 15.000000000000002], [\"Dominican Republic\", 89.0], [\"Gabon\", 118.0], [\"Seychelles\", 87.0], [\"Serbia\", 69.0], [\"Uganda\", 95.0], [\"United Arab Emirates\", 9.0], [\"Maldives\", 141.0], [\"Kiribati\", 168.0], [\"Latvia\", 35.0], [\"Mauritania\", 119.0], [\"United Kingdom\", 7.0], [\"Albania\", 52.0], [\"Austria\", 31.0], [\"Czech Republic\", 23.0], [\"Mali\", 103.0], [\"Bahrain\", 54.0], [\"Montenegro\", 92.0], [\"Iceland\", 11.0], [\"Hungary\", 64.0], [\"Sweden\", 19.0], [\"Korea, South\", 29.0], [\"Poland\", 46.0], [\"Saint Vincent and the Grenadines\", 55.0], [\"Chad\", 159.0], [\"Congo, Republic of\", 176.0], [\"Luxembourg\", 17.0], [\"Jamaica\", 39.0], [\"Romania\", 42.0], [\"Comoros\", 124.0], [\"Portugal\", 62.0], [\"Bosnia and Herzegovina\", 83.0], [\"Costa Rica\", 61.0], [\"Morocco\", 75.0], [\"Samoa\", 82.0], [\"Slovenia\", 58.0], [\"Equatorial Guinea\", 174.0], [\"Peru\", 45.0], [\"Saint Lucia\", 38.0], [\"Cameroon\", 145.0], [\"Italy\", 80.0], [\"Cyprus\", 44.0], [\"Netherlands\", 13.0], [\"Cabo Verde\", 73.0], [\"Denmark\", 13.999999999999998], [\"Taiwan \", 10.0], [\"Chile\", 18.0], [\"Lithuania\", 21.0], [\"Finland\", 20.0], [\"Jordan\", 53.0], [\"Switzerland\", 4.0], [\"Singapore\", 2.0], [\"Dominica\", 72.0], [\"Micronesia\", 149.0], [\"Japan\", 30.000000000000004], [\"Solomon Islands\", 133.0], [\"Burkina Faso\", 96.0], [\"Israel\", 27.0], [\"Benin\", 127.0], [\"Hong Kong\", 1.0], [\"Australia\", 5.0], [\"Ireland\", 6.0], [\"Spain\", 57.0], [\"New Zealand\", 3.0], [\"Bulgaria\", 37.0], [\"Cuba\", 178.00000000000003], [\"Turkmenistan\", 164.0], [\"Venezuela\", 179.0], [\"Paraguay\", 85.0], [\"Sierra Leone\", 167.0], [\"Honduras\", 93.0], [\"Equatorial Guinea\", 174.0], [\"Morocco\", 75.0], [\"Congo, Republic of\", 176.0], [\"Liberia\", 160.0], [\"Moldova\", 97.0], [\"Senegal\", 117.0], [\"Central African Republic\", 161.0], [\"Pakistan\", 131.0], [\"India\", 129.0], [\"Congo, Democratic Republic of the Congo\", 157.0], [\"Mozambique\", 163.0], [\"S\\u00e3o Tom\\u00e9 and Pr\\u00edncipe\", 134.0], [\"Chad\", 159.0], [\"Zimbabwe\", 175.0], [\"Panama\", 50.0], [\"Croatia\", 86.0], [\"Portugal\", 62.0], [\"Madagascar\", 114.0], [\"France\", 71.0], [\"Luxembourg\", 17.0], [\"Zambia\", 138.0], [\"Lebanon\", 154.0], [\"Togo\", 158.0], [\"Ukraine\", 147.0], [\"Argentina\", 148.0], [\"Cameroon\", 145.0], [\"Nepal\", 136.0], [\"Ecuador\", 170.0], [\"Niger\", 151.0], [\"Guatemala\", 77.0], [\"Turkey\", 68.0], [\"Tajikistan\", 122.0], [\"Indonesia\", 56.0], [\"Algeria\", 171.0], [\"Macau\", 34.0], [\"Tunisia\", 125.0], [\"Finland\", 20.0], [\"Kiribati\", 168.0], [\"Iran\", 155.0], [\"Italy\", 80.0], [\"Mauritania\", 119.0], [\"Egypt\", 144.0], [\"Brazil\", 150.0], [\"Mali\", 103.0], [\"Burkina Faso\", 96.0], [\"C\\u00f4te d'Ivoire\", 78.0], [\"Greece\", 106.00000000000001], [\"Russia\", 98.0], [\"Jordan\", 53.0], [\"Albania\", 52.0], [\"Germany\", 24.0], [\"Bolivia\", 173.0], [\"Gabon\", 118.0], [\"El Salvador\", 84.0], [\"Slovakia\", 65.0], [\"Norway\", 26.0], [\"Benin\", 127.0], [\"Sweden\", 19.0], [\"Belize\", 123.0], [\"Guinea\", 120.0], [\"Costa Rica\", 61.0], [\"Cabo Verde\", 73.0], [\"Nicaragua\", 107.0], [\"Estonia\", 15.000000000000002], [\"Oman\", 88.0], [\"Korea, South\", 29.0], [\"Dominican Republic\", 89.0], [\"Spain\", 57.0], [\"Philippines\", 70.0], [\"Ethiopia\", 137.0], [\"Mexico\", 66.0], [\"Uzbekistan\", 140.0], [\"Vanuatu\", 116.0], [\"Lesotho\", 142.0], [\"Angola\", 156.0], [\"Timor-Leste\", 172.0], [\"Sri Lanka\", 115.0], [\"Sudan\", 166.0], [\"South Africa\", 102.0], [\"Cyprus\", 44.0], [\"Ghana\", 109.0], [\"Barbados\", 67.0], [\"Laos\", 110.0], [\"Comoros\", 124.0], [\"Netherlands\", 13.0], [\"Afghanistan\", 152.0], [\"Djibouti\", 169.0], [\"Dominica\", 72.0], [\"Mauritius\", 25.0], [\"Taiwan \", 10.0], [\"Belgium\", 48.0], [\"Guinea-Bissau\", 135.0], [\"Slovenia\", 58.0], [\"Malta\", 41.0], [\"Kuwait\", 90.0], [\"Guyana\", 113.0], [\"Haiti\", 143.0], [\"Vietnam\", 128.0], [\"Cambodia\", 105.0], [\"Seychelles\", 87.0], [\"Saudi Arabia\", 90.99999999999999], [\"Kenya\", 130.0], [\"Peru\", 45.0], [\"Lithuania\", 21.0], [\"Poland\", 46.0], [\"Azerbaijan\", 60.0], [\"Thailand\", 43.0], [\"Malawi\", 153.0], [\"Iceland\", 11.0], [\"China\", 100.0], [\"Romania\", 42.0], [\"Hungary\", 64.0], [\"Kosovo\", 51.0], [\"Chile\", 18.0], [\"Israel\", 27.0], [\"Burma\", 139.0], [\"Qatar\", 28.0], [\"Tanzania\", 94.0], [\"Bosnia and Herzegovina\", 83.0], [\"Gambia\", 146.0], [\"Serbia\", 69.0], [\"Burundi\", 162.0], [\"Eswatini\", 132.0], [\"Bahamas\", 76.0], [\"Bangladesh\", 121.0], [\"Botswana\", 36.0], [\"Bulgaria\", 37.0], [\"Austria\", 31.0], [\"Saint Lucia\", 38.0], [\"Tonga\", 108.0], [\"Eritrea\", 177.0], [\"Maldives\", 141.0], [\"Bahrain\", 54.0], [\"Armenia\", 47.0], [\"Macedonia\", 33.0], [\"Micronesia\", 149.0], [\"Uruguay\", 40.0], [\"Solomon Islands\", 133.0], [\"Switzerland\", 4.0], [\"Papua New Guinea\", 101.0], [\"Fiji\", 81.0], [\"Latvia\", 35.0], [\"Montenegro\", 92.0], [\"Suriname\", 165.0], [\"Saint Vincent and the Grenadines\", 55.0], [\"United Kingdom\", 7.0], [\"Jamaica\", 39.0], [\"Canada\", 8.0], [\"Malaysia\", 22.0], [\"Mongolia\", 126.0], [\"Belarus\", 104.0], [\"Ireland\", 6.0], [\"Trinidad and Tobago\", 112.0], [\"Georgia\", 16.0], [\"Czech Republic\", 23.0], [\"Samoa\", 82.0], [\"Colombia\", 49.0], [\"Japan\", 30.000000000000004], [\"Bhutan\", 74.0], [\"Kyrgyz Republic\", 79.0], [\"United Arab Emirates\", 9.0], [\"Rwanda\", 32.0], [\"Uganda\", 95.0], [\"Nigeria\", 110.99999999999999], [\"Australia\", 5.0], [\"Namibia\", 99.0], [\"Kazakhstan\", 59.0], [\"Denmark\", 13.999999999999998], [\"New Zealand\", 3.0], [\"Hong Kong\", 1.0], [\"United States\", 12.0], [\"Brunei Darussalam\", 62.99999999999999], [\"Singapore\", 2.0], [\"Eritrea\", 177.0], [\"Cuba\", 178.00000000000003], [\"Central African Republic\", 161.0], [\"Chad\", 159.0], [\"Cambodia\", 105.0], [\"Turkmenistan\", 164.0], [\"Zimbabwe\", 175.0], [\"Venezuela\", 179.0], [\"Guinea-Bissau\", 135.0], [\"Haiti\", 143.0], [\"Equatorial Guinea\", 174.0], [\"Congo, Republic of\", 176.0], [\"Malawi\", 153.0], [\"Kiribati\", 168.0], [\"Cameroon\", 145.0], [\"Sierra Leone\", 167.0], [\"Uganda\", 95.0], [\"Tanzania\", 94.0], [\"Madagascar\", 114.0], [\"Lebanon\", 154.0], [\"Suriname\", 165.0], [\"Ethiopia\", 137.0], [\"Afghanistan\", 152.0], [\"Bosnia and Herzegovina\", 83.0], [\"Burundi\", 162.0], [\"Togo\", 158.0], [\"Liberia\", 160.0], [\"Bangladesh\", 121.0], [\"Nigeria\", 110.99999999999999], [\"Burkina Faso\", 96.0], [\"Dominican Republic\", 89.0], [\"Gabon\", 118.0], [\"Sudan\", 166.0], [\"Vanuatu\", 116.0], [\"Burma\", 139.0], [\"Congo, Democratic Republic of the Congo\", 157.0], [\"Lesotho\", 142.0], [\"Senegal\", 117.0], [\"Guatemala\", 77.0], [\"Mali\", 103.0], [\"Gambia\", 146.0], [\"Ecuador\", 170.0], [\"Guinea\", 120.0], [\"Djibouti\", 169.0], [\"Angola\", 156.0], [\"Kenya\", 130.0], [\"Nicaragua\", 107.0], [\"Pakistan\", 131.0], [\"China\", 100.0], [\"Rwanda\", 32.0], [\"Niger\", 151.0], [\"Argentina\", 148.0], [\"Ghana\", 109.0], [\"Honduras\", 93.0], [\"India\", 129.0], [\"Mozambique\", 163.0], [\"Comoros\", 124.0], [\"El Salvador\", 84.0], [\"Kuwait\", 90.0], [\"Micronesia\", 149.0], [\"Brazil\", 150.0], [\"Bolivia\", 173.0], [\"Eswatini\", 132.0], [\"Guyana\", 113.0], [\"Macau\", 34.0], [\"Laos\", 110.0], [\"Timor-Leste\", 172.0], [\"Croatia\", 86.0], [\"C\\u00f4te d'Ivoire\", 78.0], [\"Hungary\", 64.0], [\"Philippines\", 70.0], [\"Slovakia\", 65.0], [\"Paraguay\", 85.0], [\"Algeria\", 171.0], [\"Belize\", 123.0], [\"Jordan\", 53.0], [\"Nepal\", 136.0], [\"Mauritania\", 119.0], [\"Iran\", 155.0], [\"Papua New Guinea\", 101.0], [\"Benin\", 127.0], [\"Bulgaria\", 37.0], [\"Fiji\", 81.0], [\"Romania\", 42.0], [\"Seychelles\", 87.0], [\"Vietnam\", 128.0], [\"South Africa\", 102.0], [\"S\\u00e3o Tom\\u00e9 and Pr\\u00edncipe\", 134.0], [\"Cabo Verde\", 73.0], [\"Poland\", 46.0], [\"Namibia\", 99.0], [\"Egypt\", 144.0], [\"Mongolia\", 126.0], [\"Turkey\", 68.0], [\"Ukraine\", 147.0], [\"Spain\", 57.0], [\"Moldova\", 97.0], [\"Malta\", 41.0], [\"Costa Rica\", 61.0], [\"Tajikistan\", 122.0], [\"Mexico\", 66.0], [\"Peru\", 45.0], [\"Trinidad and Tobago\", 112.0], [\"Bahamas\", 76.0], [\"Solomon Islands\", 133.0], [\"Bhutan\", 74.0], [\"Botswana\", 36.0], [\"Luxembourg\", 17.0], [\"Albania\", 52.0], [\"Indonesia\", 56.0], [\"Azerbaijan\", 60.0], [\"Barbados\", 67.0], [\"Morocco\", 75.0], [\"Dominica\", 72.0], [\"Zambia\", 138.0], [\"Qatar\", 28.0], [\"Bahrain\", 54.0], [\"Colombia\", 49.0], [\"Israel\", 27.0], [\"Italy\", 80.0], [\"Saudi Arabia\", 90.99999999999999], [\"Czech Republic\", 23.0], [\"Uzbekistan\", 140.0], [\"Serbia\", 69.0], [\"Montenegro\", 92.0], [\"Kyrgyz Republic\", 79.0], [\"Panama\", 50.0], [\"Kosovo\", 51.0], [\"Kazakhstan\", 59.0], [\"Greece\", 106.00000000000001], [\"Uruguay\", 40.0], [\"Austria\", 31.0], [\"Belarus\", 104.0], [\"Sri Lanka\", 115.0], [\"Lithuania\", 21.0], [\"Oman\", 88.0], [\"Estonia\", 15.000000000000002], [\"Tonga\", 108.0], [\"Switzerland\", 4.0], [\"Saint Lucia\", 38.0], [\"Saint Vincent and the Grenadines\", 55.0], [\"Chile\", 18.0], [\"Tunisia\", 125.0], [\"Cyprus\", 44.0], [\"Samoa\", 82.0], [\"Latvia\", 35.0], [\"Jamaica\", 39.0], [\"Belgium\", 48.0], [\"Armenia\", 47.0], [\"Maldives\", 141.0], [\"Russia\", 98.0], [\"Slovenia\", 58.0], [\"Portugal\", 62.0], [\"Mauritius\", 25.0], [\"United Arab Emirates\", 9.0], [\"Brunei Darussalam\", 62.99999999999999], [\"Macedonia\", 33.0], [\"Japan\", 30.000000000000004], [\"France\", 71.0], [\"Netherlands\", 13.0], [\"Canada\", 8.0], [\"Thailand\", 43.0], [\"Ireland\", 6.0], [\"Germany\", 24.0], [\"United States\", 12.0], [\"Malaysia\", 22.0], [\"Georgia\", 16.0], [\"Sweden\", 19.0], [\"Australia\", 5.0], [\"Iceland\", 11.0], [\"Finland\", 20.0], [\"Norway\", 26.0], [\"Denmark\", 13.999999999999998], [\"Singapore\", 2.0], [\"New Zealand\", 3.0], [\"Korea, South\", 29.0], [\"United Kingdom\", 7.0], [\"Taiwan \", 10.0], [\"Hong Kong\", 1.0], [\"Afghanistan\", 152.0], [\"Albania\", 52.0], [\"Algeria\", 171.0], [\"Angola\", 156.0], [\"Argentina\", 148.0], [\"Armenia\", 47.0], [\"Australia\", 5.0], [\"Austria\", 31.0], [\"Azerbaijan\", 60.0], [\"Bahamas\", 76.0], [\"Bahrain\", 54.0], [\"Bangladesh\", 121.0], [\"Barbados\", 67.0], [\"Belarus\", 104.0], [\"Belgium\", 48.0], [\"Belize\", 123.0], [\"Benin\", 127.0], [\"Bhutan\", 74.0], [\"Bolivia\", 173.0], [\"Bosnia and Herzegovina\", 83.0], [\"Botswana\", 36.0], [\"Brazil\", 150.0], [\"Brunei Darussalam\", 62.99999999999999], [\"Bulgaria\", 37.0], [\"Burkina Faso\", 96.0], [\"Burma\", 139.0], [\"Burundi\", 162.0], [\"Cabo Verde\", 73.0], [\"Cambodia\", 105.0], [\"Cameroon\", 145.0], [\"Canada\", 8.0], [\"Central African Republic\", 161.0], [\"Chad\", 159.0], [\"Chile\", 18.0], [\"China\", 100.0], [\"Colombia\", 49.0], [\"Comoros\", 124.0], [\"Congo, Democratic Republic of the Congo\", 157.0], [\"Congo, Republic of\", 176.0], [\"Costa Rica\", 61.0], [\"Croatia\", 86.0], [\"Cuba\", 178.00000000000003], [\"Cyprus\", 44.0], [\"Czech Republic\", 23.0], [\"C\\u00f4te d'Ivoire\", 78.0], [\"Denmark\", 13.999999999999998], [\"Djibouti\", 169.0], [\"Dominica\", 72.0], [\"Dominican Republic\", 89.0], [\"Ecuador\", 170.0], [\"Egypt\", 144.0], [\"El Salvador\", 84.0], [\"Equatorial Guinea\", 174.0], [\"Eritrea\", 177.0], [\"Estonia\", 15.000000000000002], [\"Eswatini\", 132.0], [\"Ethiopia\", 137.0], [\"Fiji\", 81.0], [\"Finland\", 20.0], [\"France\", 71.0], [\"Gabon\", 118.0], [\"Gambia\", 146.0], [\"Georgia\", 16.0], [\"Germany\", 24.0], [\"Ghana\", 109.0], [\"Greece\", 106.00000000000001], [\"Guatemala\", 77.0], [\"Guinea\", 120.0], [\"Guinea-Bissau\", 135.0], [\"Guyana\", 113.0], [\"Haiti\", 143.0], [\"Honduras\", 93.0], [\"Hong Kong\", 1.0], [\"Hungary\", 64.0], [\"Iceland\", 11.0], [\"India\", 129.0], [\"Indonesia\", 56.0], [\"Iran\", 155.0], [\"Ireland\", 6.0], [\"Israel\", 27.0], [\"Italy\", 80.0], [\"Jamaica\", 39.0], [\"Japan\", 30.000000000000004], [\"Jordan\", 53.0], [\"Kazakhstan\", 59.0], [\"Kenya\", 130.0], [\"Kiribati\", 168.0], [\"Korea, South\", 29.0], [\"Kosovo\", 51.0], [\"Kuwait\", 90.0], [\"Kyrgyz Republic\", 79.0], [\"Laos\", 110.0], [\"Latvia\", 35.0], [\"Lebanon\", 154.0], [\"Lesotho\", 142.0], [\"Liberia\", 160.0], [\"Lithuania\", 21.0], [\"Luxembourg\", 17.0], [\"Macau\", 34.0], [\"Macedonia\", 33.0], [\"Madagascar\", 114.0], [\"Malawi\", 153.0], [\"Malaysia\", 22.0], [\"Maldives\", 141.0], [\"Mali\", 103.0], [\"Malta\", 41.0], [\"Mauritania\", 119.0], [\"Mauritius\", 25.0], [\"Mexico\", 66.0], [\"Micronesia\", 149.0], [\"Moldova\", 97.0], [\"Mongolia\", 126.0], [\"Montenegro\", 92.0], [\"Morocco\", 75.0], [\"Mozambique\", 163.0], [\"Namibia\", 99.0], [\"Nepal\", 136.0], [\"Netherlands\", 13.0], [\"New Zealand\", 3.0], [\"Nicaragua\", 107.0], [\"Niger\", 151.0], [\"Nigeria\", 110.99999999999999], [\"Norway\", 26.0], [\"Oman\", 88.0], [\"Pakistan\", 131.0], [\"Panama\", 50.0], [\"Papua New Guinea\", 101.0], [\"Paraguay\", 85.0], [\"Peru\", 45.0], [\"Philippines\", 70.0], [\"Poland\", 46.0], [\"Portugal\", 62.0], [\"Qatar\", 28.0], [\"Romania\", 42.0], [\"Russia\", 98.0], [\"Rwanda\", 32.0], [\"Saint Lucia\", 38.0], [\"Saint Vincent and the Grenadines\", 55.0], [\"Samoa\", 82.0], [\"Saudi Arabia\", 90.99999999999999], [\"Senegal\", 117.0], [\"Serbia\", 69.0], [\"Seychelles\", 87.0], [\"Sierra Leone\", 167.0], [\"Singapore\", 2.0], [\"Slovakia\", 65.0], [\"Slovenia\", 58.0], [\"Solomon Islands\", 133.0], [\"South Africa\", 102.0], [\"Spain\", 57.0], [\"Sri Lanka\", 115.0], [\"Sudan\", 166.0], [\"Suriname\", 165.0], [\"Sweden\", 19.0], [\"Switzerland\", 4.0], [\"S\\u00e3o Tom\\u00e9 and Pr\\u00edncipe\", 134.0], [\"Taiwan \", 10.0], [\"Tajikistan\", 122.0], [\"Tanzania\", 94.0], [\"Thailand\", 43.0], [\"Timor-Leste\", 172.0], [\"Togo\", 158.0], [\"Tonga\", 108.0], [\"Trinidad and Tobago\", 112.0], [\"Tunisia\", 125.0], [\"Turkey\", 68.0], [\"Turkmenistan\", 164.0], [\"Uganda\", 95.0], [\"Ukraine\", 147.0], [\"United Arab Emirates\", 9.0], [\"United Kingdom\", 7.0], [\"United States\", 12.0], [\"Uruguay\", 40.0], [\"Uzbekistan\", 140.0], [\"Vanuatu\", 116.0], [\"Venezuela\", 179.0], [\"Vietnam\", 128.0], [\"Zambia\", 138.0], [\"Zimbabwe\", 175.0], [\"(?)\", 80.82382550335572], [\"(?)\", 82.26508802952257], [\"(?)\", 45.72483110345742], [\"(?)\", 82.86287313432837], [\"(?)\", 122.93328359381135]], \"domain\": {\"x\": [0.0, 1.0], \"y\": [0.0, 1.0]}, \"hovertemplate\": \"labels=%{label}<br>Score2019=%{value}<br>parent=%{parent}<br>id=%{id}<br>Country_Name=%{customdata[0]}<br>World_Rank=%{color}<extra></extra>\", \"ids\": [\"Sub-Saharan Africa/Sudan/52.1/59.0/56.9/45.0\", \"Sub-Saharan Africa/Chad/28.1/43.2/82.3/47.2\", \"Americas/Bahamas/68.5/67.5/78.1/47.8\", \"Sub-Saharan Africa/Equatorial Guinea/37.6/32.7/83.7/48.8\", \"Sub-Saharan Africa/Djibouti/54.7/60.4/72.7/50.4\", \"Sub-Saharan Africa/Central African Republic/24.2/40.1/72.3/51.0\", \"Sub-Saharan Africa/Gabon/52.1/53.0/80.0/51.2\", \"Asia-Pacific/Kiribati/41.9/50.7/81.1/53.2\", \"Sub-Saharan Africa/Cameroon/44.4/47.8/84.0/53.4\", \"Middle East and North Africa/Iran/62.2/50.7/60.1/54.6\", \"Sub-Saharan Africa/Guinea-Bissau/35.9/61.2/78.1/55.6\", \"Americas/Barbados/69.8/59.9/78.3/56.6\", \"Sub-Saharan Africa/Congo, Republic of/38.2/35.8/82.6/56.8\", \"Asia-Pacific/Solomon Islands/68.6/72.0/86.0/56.8\", \"Americas/Venezuela/33.9/28.0/0.0/60.0\", \"Sub-Saharan Africa/Liberia/50.6/38.3/68.9/60.1\", \"Asia-Pacific/Nepal/61.8/47.9/69.4/60.4\", \"Sub-Saharan Africa/Kenya/55.8/63.4/72.7/60.4\", \"Sub-Saharan Africa/Ethiopia/48.6/58.0/60.8/60.8\", \"Sub-Saharan Africa/Angola/55.7/58.8/55.4/61.2\", \"Sub-Saharan Africa/Gambia/54.0/67.4/62.4/61.6\", \"Sub-Saharan Africa/Benin/62.4/53.8/86.4/61.8\", \"Sub-Saharan Africa/Nigeria/51.2/83.3/65.0/62.4\", \"Sub-Saharan Africa/Congo, Democratic Republic of the Congo/53.2/41.9/49.1/62.6\", \"Asia-Pacific/Uzbekistan/72.5/58.7/58.9/62.6\", \"Asia-Pacific/Maldives/78.3/70.8/81.0/62.6\", \"Sub-Saharan Africa/Mauritania/61.9/51.5/81.2/62.6\", \"Asia-Pacific/Fiji/63.0/72.9/73.5/62.8\", \"Sub-Saharan Africa/Guinea/54.6/54.9/66.4/63.2\", \"Sub-Saharan Africa/Ghana/56.5/59.9/66.3/63.4\", \"Asia-Pacific/Bangladesh/50.9/68.2/69.9/63.6\", \"Asia-Pacific/Samoa/77.0/78.2/83.5/63.8\", \"Americas/Cuba/20.0/20.0/65.6/64.0\", \"Americas/Belize/61.8/54.8/78.7/64.0\", \"Sub-Saharan Africa/S\\u00e3o Tom\\u00e9 and Pr\\u00edncipe/65.1/42.7/70.5/64.2\", \"Asia-Pacific/Vanuatu/52.4/58.8/75.0/64.4\", \"Americas/Suriname/48.3/73.5/56.0/64.6\", \"Asia-Pacific/Pakistan/56.1/41.8/72.6/64.8\", \"Sub-Saharan Africa/Burkina Faso/51.6/52.3/86.2/65.2\", \"Asia-Pacific/Cambodia/29.9/63.0/79.4/65.4\", \"Sub-Saharan Africa/Niger/56.3/48.2/76.7/65.8\", \"Asia-Pacific/Afghanistan/49.2/60.4/76.7/66.0\", \"Americas/Ecuador/54.1/48.2/73.5/66.4\", \"Americas/Saint Vincent and the Grenadines/76.5/73.5/82.2/66.6\", \"Americas/Guyana/59.3/62.0/76.9/66.8\", \"Middle East and North Africa/Algeria/61.6/49.9/74.9/67.4\", \"Sub-Saharan Africa/Tanzania/46.6/66.2/70.4/67.8\", \"Sub-Saharan Africa/Burundi/50.3/67.5/62.2/68.2\", \"Sub-Saharan Africa/Cabo Verde/65.2/55.7/84.1/68.2\", \"Americas/Dominica/70.7/60.4/85.7/68.2\", \"Americas/Trinidad and Tobago/67.8/75.6/75.1/68.4\", \"Americas/Jamaica/78.0/73.6/82.6/68.4\", \"Americas/Brazil/57.9/51.9/75.5/69.0\", \"Sub-Saharan Africa/Eritrea/17.7/70.0/61.0/69.2\", \"Sub-Saharan Africa/Madagascar/47.3/44.6/72.4/69.2\", \"Sub-Saharan Africa/Sierra Leone/44.9/29.3/65.0/69.4\", \"Sub-Saharan Africa/Togo/50.4/46.7/79.1/69.4\", \"Sub-Saharan Africa/Mali/53.8/52.2/81.6/69.8\", \"Americas/Argentina/56.4/46.9/60.2/70.0\", \"Sub-Saharan Africa/Zimbabwe/33.4/43.3/72.4/70.0\", \"Sub-Saharan Africa/Comoros/57.2/60.3/82.8/70.0\", \"Americas/Bolivia/58.8/52.9/68.8/70.4\", \"Sub-Saharan Africa/Rwanda/56.2/82.2/76.1/70.4\", \"Asia-Pacific/Burma/52.8/65.7/69.6/70.8\", \"Europe/Kosovo/73.8/64.9/78.3/70.8\", \"Middle East and North Africa/Tunisia/76.7/50.3/76.0/71.4\", \"Middle East and North Africa/Egypt/65.9/51.6/62.3/71.8\", \"Americas/Haiti/36.2/62.6/66.5/72.0\", \"Sub-Saharan Africa/Senegal/53.3/39.4/78.2/72.0\", \"Asia-Pacific/India/57.1/41.8/72.4/72.4\", \"Sub-Saharan Africa/Zambia/71.1/46.0/70.3/72.6\", \"Asia-Pacific/China/56.2/64.2/71.9/73.0\", \"Americas/Saint Lucia/76.3/69.2/83.9/73.2\", \"Asia-Pacific/Tajikistan/67.3/49.2/68.5/73.6\", \"Asia-Pacific/Tonga/75.3/69.9/69.4/73.6\", \"Sub-Saharan Africa/C\\u00f4te d'Ivoire/61.0/52.5/74.2/73.6\", \"Asia-Pacific/Azerbaijan/69.5/63.9/63.0/74.6\", \"Europe/Ukraine/66.1/46.7/58.6/75.0\", \"Asia-Pacific/Timor-Leste/60.5/58.8/79.5/75.0\", \"Sub-Saharan Africa/Malawi/41.7/64.0/65.5/75.4\", \"Sub-Saharan Africa/Uganda/46.3/83.2/80.1/75.4\", \"Asia-Pacific/Mongolia/66.0/75.0/77.8/75.8\", \"Americas/Dominican Republic/51.9/57.6/79.7/75.8\", \"Americas/Nicaragua/56.0/55.8/72.7/76.0\", \"Asia-Pacific/Turkmenistan/30.0/20.0/73.4/76.0\", \"Sub-Saharan Africa/South Africa/64.3/59.1/75.2/76.0\", \"Americas/Colombia/71.4/78.5/75.6/76.0\", \"Middle East and North Africa/Saudi Arabia/72.3/63.3/78.1/76.0\", \"Asia-Pacific/Sri Lanka/75.1/58.8/70.1/76.2\", \"Europe/Belarus/75.0/75.3/67.0/76.4\", \"Americas/Paraguay/61.5/29.2/72.8/76.6\", \"Europe/Serbia/72.9/67.4/80.0/77.0\", \"Middle East and North Africa/Morocco/70.3/33.1/83.5/77.4\", \"Europe/Russia/78.4/52.5/65.1/77.8\", \"Sub-Saharan Africa/Mozambique/57.1/42.0/65.4/78.0\", \"Europe/Moldova/67.0/39.0/73.5/78.0\", \"Asia-Pacific/Philippines/61.3/57.9/69.6/78.2\", \"Americas/Uruguay/74.3/71.9/72.9/78.6\", \"Asia-Pacific/Kyrgyz Republic/73.4/79.8/74.4/78.6\", \"Middle East and North Africa/Kuwait/57.4/61.7/70.6/79.0\", \"Middle East and North Africa/Lebanon/47.9/46.5/78.1/79.0\", \"Asia-Pacific/Vietnam/63.5/62.8/68.9/79.2\", \"Americas/Panama/73.6/43.4/79.4/79.2\", \"Asia-Pacific/Bhutan/68.7/79.5/72.6/79.4\", \"Americas/Honduras/56.9/32.0/73.0/79.4\", \"Europe/Turkey/66.0/49.2/70.0/79.6\", \"Asia-Pacific/Indonesia/69.3/49.3/77.4/79.8\", \"Asia-Pacific/Kazakhstan/73.9/86.2/70.9/80.0\", \"Asia-Pacific/Japan/80.5/79.0/85.9/80.0\", \"Asia-Pacific/Korea, South/91.3/57.4/82.0/80.4\", \"Asia-Pacific/Micronesia/57.4/71.9/85.8/80.6\", \"Europe/Armenia/78.3/71.4/77.8/80.8\", \"Asia-Pacific/Papua New Guinea/62.2/72.6/70.0/80.9\", \"Sub-Saharan Africa/Lesotho/53.3/58.8/75.0/81.0\", \"Europe/France/81.2/45.2/79.1/81.0\", \"Europe/Greece/74.1/52.5/79.1/81.0\", \"Americas/Mexico/67.8/58.6/75.9/81.4\", \"Americas/El Salvador/57.2/53.1/79.0/81.4\", \"Sub-Saharan Africa/Seychelles/63.3/63.2/80.0/81.4\", \"Americas/Costa Rica/67.2/55.2/83.2/81.4\", \"Middle East and North Africa/Jordan/61.8/52.7/85.0/81.4\", \"Asia-Pacific/Laos/60.1/60.1/78.5/81.8\", \"Asia-Pacific/Malaysia/83.9/74.4/78.6/82.0\", \"Europe/Macedonia/80.2/71.5/78.7/82.0\", \"Americas/Guatemala/53.6/48.7/77.0/82.2\", \"Europe/Bosnia and Herzegovina/49.7/67.0/83.1/82.6\", \"Sub-Saharan Africa/Namibia/65.8/85.1/74.4/83.0\", \"Asia-Pacific/Thailand/82.5/63.9/75.2/83.0\", \"Europe/Norway/89.4/53.7/75.4/83.2\", \"Middle East and North Africa/Qatar/71.2/65.9/78.4/83.2\", \"Sub-Saharan Africa/Botswana/68.7/68.2/78.8/83.8\", \"Middle East and North Africa/Bahrain/71.4/71.1/81.6/83.8\", \"Asia-Pacific/Brunei Darussalam/80.2/90.8/76.5/84.0\", \"Middle East and North Africa/United Arab Emirates/79.9/81.1/80.9/84.4\", \"Middle East and North Africa/Israel/71.4/65.1/86.2/84.4\", \"Europe/Montenegro/73.3/73.4/81.6/84.7\", \"Europe/Belgium/78.1/61.0/76.1/86.0\", \"Europe/Germany/83.3/52.8/77.9/86.0\", \"Europe/Malta/67.1/61.3/78.2/86.0\", \"Europe/Croatia/60.7/44.0/78.5/86.0\", \"Europe/Slovakia/61.3/53.4/78.6/86.0\", \"Europe/Estonia/75.3/57.2/79.6/86.0\", \"Europe/Latvia/77.5/73.3/81.1/86.0\", \"Europe/United Kingdom/92.9/73.5/81.2/86.0\", \"Europe/Austria/74.9/68.7/81.5/86.0\", \"Europe/Czech Republic/72.4/78.1/81.5/86.0\", \"Europe/Hungary/61.1/64.7/81.8/86.0\", \"Europe/Sweden/88.0/53.9/82.0/86.0\", \"Europe/Poland/65.4/63.9/82.1/86.0\", \"Europe/Luxembourg/68.8/45.9/82.6/86.0\", \"Europe/Romania/63.1/64.5/82.7/86.0\", \"Europe/Portugal/79.7/44.3/83.0/86.0\", \"Europe/Slovenia/79.3/61.2/83.6/86.0\", \"Europe/Italy/71.7/51.1/84.0/86.0\", \"Europe/Cyprus/76.9/59.5/84.0/86.0\", \"Europe/Netherlands/81.4/60.3/84.0/86.0\", \"Europe/Denmark/90.7/86.4/84.1/86.0\", \"Europe/Lithuania/75.2/63.6/84.6/86.0\", \"Europe/Finland/89.4/50.3/84.8/86.0\", \"Europe/Ireland/83.1/75.3/87.0/86.0\", \"Europe/Spain/66.8/57.8/87.5/86.0\", \"Europe/Bulgaria/62.7/68.4/88.0/86.0\", \"Americas/Peru/67.8/63.5/83.9/86.4\", \"Americas/United States/83.8/89.4/76.6/86.6\", \"Americas/Canada/81.9/73.7/77.2/86.8\", \"Middle East and North Africa/Oman/75.2/57.3/77.7/87.0\", \"Europe/Iceland/88.4/64.1/81.7/87.0\", \"Asia-Pacific/Taiwan /93.2/60.9/84.4/87.0\", \"Europe/Switzerland/75.4/72.5/85.2/87.4\", \"Sub-Saharan Africa/Eswatini/59.2/67.5/73.7/87.6\", \"Asia-Pacific/Australia/88.3/84.1/86.6/87.6\", \"Europe/Albania/69.3/52.7/81.5/87.8\", \"Sub-Saharan Africa/Mauritius/79.8/60.8/79.4/88.4\", \"Europe/Georgia/85.8/76.6/76.0/88.6\", \"Americas/Chile/76.6/65.0/84.5/88.8\", \"Asia-Pacific/Macau/60.0/50.0/76.5/90.0\", \"Asia-Pacific/New Zealand/91.0/86.7/87.5/92.4\", \"Asia-Pacific/Singapore/90.8/91.0/85.3/94.8\", \"Asia-Pacific/Hong Kong/96.4/89.2/86.4/95.0\", \"Americas/Venezuela/33.9/28.0/0.0\", \"Sub-Saharan Africa/Congo, Democratic Republic of the Congo/53.2/41.9/49.1\", \"Sub-Saharan Africa/Angola/55.7/58.8/55.4\", \"Americas/Suriname/48.3/73.5/56.0\", \"Sub-Saharan Africa/Sudan/52.1/59.0/56.9\", \"Europe/Ukraine/66.1/46.7/58.6\", \"Asia-Pacific/Uzbekistan/72.5/58.7/58.9\", \"Middle East and North Africa/Iran/62.2/50.7/60.1\", \"Americas/Argentina/56.4/46.9/60.2\", \"Sub-Saharan Africa/Ethiopia/48.6/58.0/60.8\", \"Sub-Saharan Africa/Eritrea/17.7/70.0/61.0\", \"Sub-Saharan Africa/Burundi/50.3/67.5/62.2\", \"Middle East and North Africa/Egypt/65.9/51.6/62.3\", \"Sub-Saharan Africa/Gambia/54.0/67.4/62.4\", \"Asia-Pacific/Azerbaijan/69.5/63.9/63.0\", \"Sub-Saharan Africa/Sierra Leone/44.9/29.3/65.0\", \"Sub-Saharan Africa/Nigeria/51.2/83.3/65.0\", \"Europe/Russia/78.4/52.5/65.1\", \"Sub-Saharan Africa/Mozambique/57.1/42.0/65.4\", \"Sub-Saharan Africa/Malawi/41.7/64.0/65.5\", \"Americas/Cuba/20.0/20.0/65.6\", \"Sub-Saharan Africa/Ghana/56.5/59.9/66.3\", \"Sub-Saharan Africa/Guinea/54.6/54.9/66.4\", \"Americas/Haiti/36.2/62.6/66.5\", \"Europe/Belarus/75.0/75.3/67.0\", \"Asia-Pacific/Tajikistan/67.3/49.2/68.5\", \"Americas/Bolivia/58.8/52.9/68.8\", \"Sub-Saharan Africa/Liberia/50.6/38.3/68.9\", \"Asia-Pacific/Vietnam/63.5/62.8/68.9\", \"Asia-Pacific/Nepal/61.8/47.9/69.4\", \"Asia-Pacific/Tonga/75.3/69.9/69.4\", \"Asia-Pacific/Philippines/61.3/57.9/69.6\", \"Asia-Pacific/Burma/52.8/65.7/69.6\", \"Asia-Pacific/Bangladesh/50.9/68.2/69.9\", \"Europe/Turkey/66.0/49.2/70.0\", \"Asia-Pacific/Papua New Guinea/62.2/72.6/70.0\", \"Asia-Pacific/Sri Lanka/75.1/58.8/70.1\", \"Sub-Saharan Africa/Zambia/71.1/46.0/70.3\", \"Sub-Saharan Africa/Tanzania/46.6/66.2/70.4\", \"Sub-Saharan Africa/S\\u00e3o Tom\\u00e9 and Pr\\u00edncipe/65.1/42.7/70.5\", \"Middle East and North Africa/Kuwait/57.4/61.7/70.6\", \"Asia-Pacific/Kazakhstan/73.9/86.2/70.9\", \"Asia-Pacific/China/56.2/64.2/71.9\", \"Sub-Saharan Africa/Central African Republic/24.2/40.1/72.3\", \"Asia-Pacific/India/57.1/41.8/72.4\", \"Sub-Saharan Africa/Zimbabwe/33.4/43.3/72.4\", \"Sub-Saharan Africa/Madagascar/47.3/44.6/72.4\", \"Asia-Pacific/Pakistan/56.1/41.8/72.6\", \"Asia-Pacific/Bhutan/68.7/79.5/72.6\", \"Americas/Nicaragua/56.0/55.8/72.7\", \"Sub-Saharan Africa/Djibouti/54.7/60.4/72.7\", \"Sub-Saharan Africa/Kenya/55.8/63.4/72.7\", \"Americas/Paraguay/61.5/29.2/72.8\", \"Americas/Uruguay/74.3/71.9/72.9\", \"Americas/Honduras/56.9/32.0/73.0\", \"Asia-Pacific/Turkmenistan/30.0/20.0/73.4\", \"Europe/Moldova/67.0/39.0/73.5\", \"Americas/Ecuador/54.1/48.2/73.5\", \"Asia-Pacific/Fiji/63.0/72.9/73.5\", \"Sub-Saharan Africa/Eswatini/59.2/67.5/73.7\", \"Sub-Saharan Africa/C\\u00f4te d'Ivoire/61.0/52.5/74.2\", \"Asia-Pacific/Kyrgyz Republic/73.4/79.8/74.4\", \"Sub-Saharan Africa/Namibia/65.8/85.1/74.4\", \"Middle East and North Africa/Algeria/61.6/49.9/74.9\", \"Asia-Pacific/Vanuatu/52.4/58.8/75.0\", \"Sub-Saharan Africa/Lesotho/53.3/58.8/75.0\", \"Americas/Trinidad and Tobago/67.8/75.6/75.1\", \"Sub-Saharan Africa/South Africa/64.3/59.1/75.2\", \"Asia-Pacific/Thailand/82.5/63.9/75.2\", \"Europe/Norway/89.4/53.7/75.4\", \"Americas/Brazil/57.9/51.9/75.5\", \"Americas/Colombia/71.4/78.5/75.6\", \"Americas/Mexico/67.8/58.6/75.9\", \"Middle East and North Africa/Tunisia/76.7/50.3/76.0\", \"Europe/Georgia/85.8/76.6/76.0\", \"Europe/Belgium/78.1/61.0/76.1\", \"Sub-Saharan Africa/Rwanda/56.2/82.2/76.1\", \"Asia-Pacific/Macau/60.0/50.0/76.5\", \"Asia-Pacific/Brunei Darussalam/80.2/90.8/76.5\", \"Americas/United States/83.8/89.4/76.6\", \"Sub-Saharan Africa/Niger/56.3/48.2/76.7\", \"Asia-Pacific/Afghanistan/49.2/60.4/76.7\", \"Americas/Guyana/59.3/62.0/76.9\", \"Americas/Guatemala/53.6/48.7/77.0\", \"Americas/Canada/81.9/73.7/77.2\", \"Asia-Pacific/Indonesia/69.3/49.3/77.4\", \"Middle East and North Africa/Oman/75.2/57.3/77.7\", \"Europe/Armenia/78.3/71.4/77.8\", \"Asia-Pacific/Mongolia/66.0/75.0/77.8\", \"Europe/Germany/83.3/52.8/77.9\", \"Middle East and North Africa/Lebanon/47.9/46.5/78.1\", \"Sub-Saharan Africa/Guinea-Bissau/35.9/61.2/78.1\", \"Middle East and North Africa/Saudi Arabia/72.3/63.3/78.1\", \"Americas/Bahamas/68.5/67.5/78.1\", \"Sub-Saharan Africa/Senegal/53.3/39.4/78.2\", \"Europe/Malta/67.1/61.3/78.2\", \"Americas/Barbados/69.8/59.9/78.3\", \"Europe/Kosovo/73.8/64.9/78.3\", \"Middle East and North Africa/Qatar/71.2/65.9/78.4\", \"Europe/Croatia/60.7/44.0/78.5\", \"Asia-Pacific/Laos/60.1/60.1/78.5\", \"Europe/Slovakia/61.3/53.4/78.6\", \"Asia-Pacific/Malaysia/83.9/74.4/78.6\", \"Americas/Belize/61.8/54.8/78.7\", \"Europe/Macedonia/80.2/71.5/78.7\", \"Sub-Saharan Africa/Botswana/68.7/68.2/78.8\", \"Americas/El Salvador/57.2/53.1/79.0\", \"Europe/France/81.2/45.2/79.1\", \"Sub-Saharan Africa/Togo/50.4/46.7/79.1\", \"Europe/Greece/74.1/52.5/79.1\", \"Americas/Panama/73.6/43.4/79.4\", \"Sub-Saharan Africa/Mauritius/79.8/60.8/79.4\", \"Asia-Pacific/Cambodia/29.9/63.0/79.4\", \"Asia-Pacific/Timor-Leste/60.5/58.8/79.5\", \"Europe/Estonia/75.3/57.2/79.6\", \"Americas/Dominican Republic/51.9/57.6/79.7\", \"Sub-Saharan Africa/Gabon/52.1/53.0/80.0\", \"Sub-Saharan Africa/Seychelles/63.3/63.2/80.0\", \"Europe/Serbia/72.9/67.4/80.0\", \"Sub-Saharan Africa/Uganda/46.3/83.2/80.1\", \"Middle East and North Africa/United Arab Emirates/79.9/81.1/80.9\", \"Asia-Pacific/Maldives/78.3/70.8/81.0\", \"Asia-Pacific/Kiribati/41.9/50.7/81.1\", \"Europe/Latvia/77.5/73.3/81.1\", \"Sub-Saharan Africa/Mauritania/61.9/51.5/81.2\", \"Europe/United Kingdom/92.9/73.5/81.2\", \"Europe/Albania/69.3/52.7/81.5\", \"Europe/Austria/74.9/68.7/81.5\", \"Europe/Czech Republic/72.4/78.1/81.5\", \"Sub-Saharan Africa/Mali/53.8/52.2/81.6\", \"Middle East and North Africa/Bahrain/71.4/71.1/81.6\", \"Europe/Montenegro/73.3/73.4/81.6\", \"Europe/Iceland/88.4/64.1/81.7\", \"Europe/Hungary/61.1/64.7/81.8\", \"Europe/Sweden/88.0/53.9/82.0\", \"Asia-Pacific/Korea, South/91.3/57.4/82.0\", \"Europe/Poland/65.4/63.9/82.1\", \"Americas/Saint Vincent and the Grenadines/76.5/73.5/82.2\", \"Sub-Saharan Africa/Chad/28.1/43.2/82.3\", \"Sub-Saharan Africa/Congo, Republic of/38.2/35.8/82.6\", \"Europe/Luxembourg/68.8/45.9/82.6\", \"Americas/Jamaica/78.0/73.6/82.6\", \"Europe/Romania/63.1/64.5/82.7\", \"Sub-Saharan Africa/Comoros/57.2/60.3/82.8\", \"Europe/Portugal/79.7/44.3/83.0\", \"Europe/Bosnia and Herzegovina/49.7/67.0/83.1\", \"Americas/Costa Rica/67.2/55.2/83.2\", \"Middle East and North Africa/Morocco/70.3/33.1/83.5\", \"Asia-Pacific/Samoa/77.0/78.2/83.5\", \"Europe/Slovenia/79.3/61.2/83.6\", \"Sub-Saharan Africa/Equatorial Guinea/37.6/32.7/83.7\", \"Americas/Peru/67.8/63.5/83.9\", \"Americas/Saint Lucia/76.3/69.2/83.9\", \"Sub-Saharan Africa/Cameroon/44.4/47.8/84.0\", \"Europe/Italy/71.7/51.1/84.0\", \"Europe/Cyprus/76.9/59.5/84.0\", \"Europe/Netherlands/81.4/60.3/84.0\", \"Sub-Saharan Africa/Cabo Verde/65.2/55.7/84.1\", \"Europe/Denmark/90.7/86.4/84.1\", \"Asia-Pacific/Taiwan /93.2/60.9/84.4\", \"Americas/Chile/76.6/65.0/84.5\", \"Europe/Lithuania/75.2/63.6/84.6\", \"Europe/Finland/89.4/50.3/84.8\", \"Middle East and North Africa/Jordan/61.8/52.7/85.0\", \"Europe/Switzerland/75.4/72.5/85.2\", \"Asia-Pacific/Singapore/90.8/91.0/85.3\", \"Americas/Dominica/70.7/60.4/85.7\", \"Asia-Pacific/Micronesia/57.4/71.9/85.8\", \"Asia-Pacific/Japan/80.5/79.0/85.9\", \"Asia-Pacific/Solomon Islands/68.6/72.0/86.0\", \"Sub-Saharan Africa/Burkina Faso/51.6/52.3/86.2\", \"Middle East and North Africa/Israel/71.4/65.1/86.2\", \"Sub-Saharan Africa/Benin/62.4/53.8/86.4\", \"Asia-Pacific/Hong Kong/96.4/89.2/86.4\", \"Asia-Pacific/Australia/88.3/84.1/86.6\", \"Europe/Ireland/83.1/75.3/87.0\", \"Europe/Spain/66.8/57.8/87.5\", \"Asia-Pacific/New Zealand/91.0/86.7/87.5\", \"Europe/Bulgaria/62.7/68.4/88.0\", \"Americas/Cuba/20.0/20.0\", \"Asia-Pacific/Turkmenistan/30.0/20.0\", \"Americas/Venezuela/33.9/28.0\", \"Americas/Paraguay/61.5/29.2\", \"Sub-Saharan Africa/Sierra Leone/44.9/29.3\", \"Americas/Honduras/56.9/32.0\", \"Sub-Saharan Africa/Equatorial Guinea/37.6/32.7\", \"Middle East and North Africa/Morocco/70.3/33.1\", \"Sub-Saharan Africa/Congo, Republic of/38.2/35.8\", \"Sub-Saharan Africa/Liberia/50.6/38.3\", \"Europe/Moldova/67.0/39.0\", \"Sub-Saharan Africa/Senegal/53.3/39.4\", \"Sub-Saharan Africa/Central African Republic/24.2/40.1\", \"Asia-Pacific/Pakistan/56.1/41.8\", \"Asia-Pacific/India/57.1/41.8\", \"Sub-Saharan Africa/Congo, Democratic Republic of the Congo/53.2/41.9\", \"Sub-Saharan Africa/Mozambique/57.1/42.0\", \"Sub-Saharan Africa/S\\u00e3o Tom\\u00e9 and Pr\\u00edncipe/65.1/42.7\", \"Sub-Saharan Africa/Chad/28.1/43.2\", \"Sub-Saharan Africa/Zimbabwe/33.4/43.3\", \"Americas/Panama/73.6/43.4\", \"Europe/Croatia/60.7/44.0\", \"Europe/Portugal/79.7/44.3\", \"Sub-Saharan Africa/Madagascar/47.3/44.6\", \"Europe/France/81.2/45.2\", \"Europe/Luxembourg/68.8/45.9\", \"Sub-Saharan Africa/Zambia/71.1/46.0\", \"Middle East and North Africa/Lebanon/47.9/46.5\", \"Sub-Saharan Africa/Togo/50.4/46.7\", \"Europe/Ukraine/66.1/46.7\", \"Americas/Argentina/56.4/46.9\", \"Sub-Saharan Africa/Cameroon/44.4/47.8\", \"Asia-Pacific/Nepal/61.8/47.9\", \"Americas/Ecuador/54.1/48.2\", \"Sub-Saharan Africa/Niger/56.3/48.2\", \"Americas/Guatemala/53.6/48.7\", \"Europe/Turkey/66.0/49.2\", \"Asia-Pacific/Tajikistan/67.3/49.2\", \"Asia-Pacific/Indonesia/69.3/49.3\", \"Middle East and North Africa/Algeria/61.6/49.9\", \"Asia-Pacific/Macau/60.0/50.0\", \"Middle East and North Africa/Tunisia/76.7/50.3\", \"Europe/Finland/89.4/50.3\", \"Asia-Pacific/Kiribati/41.9/50.7\", \"Middle East and North Africa/Iran/62.2/50.7\", \"Europe/Italy/71.7/51.1\", \"Sub-Saharan Africa/Mauritania/61.9/51.5\", \"Middle East and North Africa/Egypt/65.9/51.6\", \"Americas/Brazil/57.9/51.9\", \"Sub-Saharan Africa/Mali/53.8/52.2\", \"Sub-Saharan Africa/Burkina Faso/51.6/52.3\", \"Sub-Saharan Africa/C\\u00f4te d'Ivoire/61.0/52.5\", \"Europe/Greece/74.1/52.5\", \"Europe/Russia/78.4/52.5\", \"Middle East and North Africa/Jordan/61.8/52.7\", \"Europe/Albania/69.3/52.7\", \"Europe/Germany/83.3/52.8\", \"Americas/Bolivia/58.8/52.9\", \"Sub-Saharan Africa/Gabon/52.1/53.0\", \"Americas/El Salvador/57.2/53.1\", \"Europe/Slovakia/61.3/53.4\", \"Europe/Norway/89.4/53.7\", \"Sub-Saharan Africa/Benin/62.4/53.8\", \"Europe/Sweden/88.0/53.9\", \"Americas/Belize/61.8/54.8\", \"Sub-Saharan Africa/Guinea/54.6/54.9\", \"Americas/Costa Rica/67.2/55.2\", \"Sub-Saharan Africa/Cabo Verde/65.2/55.7\", \"Americas/Nicaragua/56.0/55.8\", \"Europe/Estonia/75.3/57.2\", \"Middle East and North Africa/Oman/75.2/57.3\", \"Asia-Pacific/Korea, South/91.3/57.4\", \"Americas/Dominican Republic/51.9/57.6\", \"Europe/Spain/66.8/57.8\", \"Asia-Pacific/Philippines/61.3/57.9\", \"Sub-Saharan Africa/Ethiopia/48.6/58.0\", \"Americas/Mexico/67.8/58.6\", \"Asia-Pacific/Uzbekistan/72.5/58.7\", \"Asia-Pacific/Vanuatu/52.4/58.8\", \"Sub-Saharan Africa/Lesotho/53.3/58.8\", \"Sub-Saharan Africa/Angola/55.7/58.8\", \"Asia-Pacific/Timor-Leste/60.5/58.8\", \"Asia-Pacific/Sri Lanka/75.1/58.8\", \"Sub-Saharan Africa/Sudan/52.1/59.0\", \"Sub-Saharan Africa/South Africa/64.3/59.1\", \"Europe/Cyprus/76.9/59.5\", \"Sub-Saharan Africa/Ghana/56.5/59.9\", \"Americas/Barbados/69.8/59.9\", \"Asia-Pacific/Laos/60.1/60.1\", \"Sub-Saharan Africa/Comoros/57.2/60.3\", \"Europe/Netherlands/81.4/60.3\", \"Asia-Pacific/Afghanistan/49.2/60.4\", \"Sub-Saharan Africa/Djibouti/54.7/60.4\", \"Americas/Dominica/70.7/60.4\", \"Sub-Saharan Africa/Mauritius/79.8/60.8\", \"Asia-Pacific/Taiwan /93.2/60.9\", \"Europe/Belgium/78.1/61.0\", \"Sub-Saharan Africa/Guinea-Bissau/35.9/61.2\", \"Europe/Slovenia/79.3/61.2\", \"Europe/Malta/67.1/61.3\", \"Middle East and North Africa/Kuwait/57.4/61.7\", \"Americas/Guyana/59.3/62.0\", \"Americas/Haiti/36.2/62.6\", \"Asia-Pacific/Vietnam/63.5/62.8\", \"Asia-Pacific/Cambodia/29.9/63.0\", \"Sub-Saharan Africa/Seychelles/63.3/63.2\", \"Middle East and North Africa/Saudi Arabia/72.3/63.3\", \"Sub-Saharan Africa/Kenya/55.8/63.4\", \"Americas/Peru/67.8/63.5\", \"Europe/Lithuania/75.2/63.6\", \"Europe/Poland/65.4/63.9\", \"Asia-Pacific/Azerbaijan/69.5/63.9\", \"Asia-Pacific/Thailand/82.5/63.9\", \"Sub-Saharan Africa/Malawi/41.7/64.0\", \"Europe/Iceland/88.4/64.1\", \"Asia-Pacific/China/56.2/64.2\", \"Europe/Romania/63.1/64.5\", \"Europe/Hungary/61.1/64.7\", \"Europe/Kosovo/73.8/64.9\", \"Americas/Chile/76.6/65.0\", \"Middle East and North Africa/Israel/71.4/65.1\", \"Asia-Pacific/Burma/52.8/65.7\", \"Middle East and North Africa/Qatar/71.2/65.9\", \"Sub-Saharan Africa/Tanzania/46.6/66.2\", \"Europe/Bosnia and Herzegovina/49.7/67.0\", \"Sub-Saharan Africa/Gambia/54.0/67.4\", \"Europe/Serbia/72.9/67.4\", \"Sub-Saharan Africa/Burundi/50.3/67.5\", \"Sub-Saharan Africa/Eswatini/59.2/67.5\", \"Americas/Bahamas/68.5/67.5\", \"Asia-Pacific/Bangladesh/50.9/68.2\", \"Sub-Saharan Africa/Botswana/68.7/68.2\", \"Europe/Bulgaria/62.7/68.4\", \"Europe/Austria/74.9/68.7\", \"Americas/Saint Lucia/76.3/69.2\", \"Asia-Pacific/Tonga/75.3/69.9\", \"Sub-Saharan Africa/Eritrea/17.7/70.0\", \"Asia-Pacific/Maldives/78.3/70.8\", \"Middle East and North Africa/Bahrain/71.4/71.1\", \"Europe/Armenia/78.3/71.4\", \"Europe/Macedonia/80.2/71.5\", \"Asia-Pacific/Micronesia/57.4/71.9\", \"Americas/Uruguay/74.3/71.9\", \"Asia-Pacific/Solomon Islands/68.6/72.0\", \"Europe/Switzerland/75.4/72.5\", \"Asia-Pacific/Papua New Guinea/62.2/72.6\", \"Asia-Pacific/Fiji/63.0/72.9\", \"Europe/Latvia/77.5/73.3\", \"Europe/Montenegro/73.3/73.4\", \"Americas/Suriname/48.3/73.5\", \"Americas/Saint Vincent and the Grenadines/76.5/73.5\", \"Europe/United Kingdom/92.9/73.5\", \"Americas/Jamaica/78.0/73.6\", \"Americas/Canada/81.9/73.7\", \"Asia-Pacific/Malaysia/83.9/74.4\", \"Asia-Pacific/Mongolia/66.0/75.0\", \"Europe/Belarus/75.0/75.3\", \"Europe/Ireland/83.1/75.3\", \"Americas/Trinidad and Tobago/67.8/75.6\", \"Europe/Georgia/85.8/76.6\", \"Europe/Czech Republic/72.4/78.1\", \"Asia-Pacific/Samoa/77.0/78.2\", \"Americas/Colombia/71.4/78.5\", \"Asia-Pacific/Japan/80.5/79.0\", \"Asia-Pacific/Bhutan/68.7/79.5\", \"Asia-Pacific/Kyrgyz Republic/73.4/79.8\", \"Middle East and North Africa/United Arab Emirates/79.9/81.1\", \"Sub-Saharan Africa/Rwanda/56.2/82.2\", \"Sub-Saharan Africa/Uganda/46.3/83.2\", \"Sub-Saharan Africa/Nigeria/51.2/83.3\", \"Asia-Pacific/Australia/88.3/84.1\", \"Sub-Saharan Africa/Namibia/65.8/85.1\", \"Asia-Pacific/Kazakhstan/73.9/86.2\", \"Europe/Denmark/90.7/86.4\", \"Asia-Pacific/New Zealand/91.0/86.7\", \"Asia-Pacific/Hong Kong/96.4/89.2\", \"Americas/United States/83.8/89.4\", \"Asia-Pacific/Brunei Darussalam/80.2/90.8\", \"Asia-Pacific/Singapore/90.8/91.0\", \"Sub-Saharan Africa/Eritrea/17.7\", \"Americas/Cuba/20.0\", \"Sub-Saharan Africa/Central African Republic/24.2\", \"Sub-Saharan Africa/Chad/28.1\", \"Asia-Pacific/Cambodia/29.9\", \"Asia-Pacific/Turkmenistan/30.0\", \"Sub-Saharan Africa/Zimbabwe/33.4\", \"Americas/Venezuela/33.9\", \"Sub-Saharan Africa/Guinea-Bissau/35.9\", \"Americas/Haiti/36.2\", \"Sub-Saharan Africa/Equatorial Guinea/37.6\", \"Sub-Saharan Africa/Congo, Republic of/38.2\", \"Sub-Saharan Africa/Malawi/41.7\", \"Asia-Pacific/Kiribati/41.9\", \"Sub-Saharan Africa/Cameroon/44.4\", \"Sub-Saharan Africa/Sierra Leone/44.9\", \"Sub-Saharan Africa/Uganda/46.3\", \"Sub-Saharan Africa/Tanzania/46.6\", \"Sub-Saharan Africa/Madagascar/47.3\", \"Middle East and North Africa/Lebanon/47.9\", \"Americas/Suriname/48.3\", \"Sub-Saharan Africa/Ethiopia/48.6\", \"Asia-Pacific/Afghanistan/49.2\", \"Europe/Bosnia and Herzegovina/49.7\", \"Sub-Saharan Africa/Burundi/50.3\", \"Sub-Saharan Africa/Togo/50.4\", \"Sub-Saharan Africa/Liberia/50.6\", \"Asia-Pacific/Bangladesh/50.9\", \"Sub-Saharan Africa/Nigeria/51.2\", \"Sub-Saharan Africa/Burkina Faso/51.6\", \"Americas/Dominican Republic/51.9\", \"Sub-Saharan Africa/Gabon/52.1\", \"Sub-Saharan Africa/Sudan/52.1\", \"Asia-Pacific/Vanuatu/52.4\", \"Asia-Pacific/Burma/52.8\", \"Sub-Saharan Africa/Congo, Democratic Republic of the Congo/53.2\", \"Sub-Saharan Africa/Lesotho/53.3\", \"Sub-Saharan Africa/Senegal/53.3\", \"Americas/Guatemala/53.6\", \"Sub-Saharan Africa/Mali/53.8\", \"Sub-Saharan Africa/Gambia/54.0\", \"Americas/Ecuador/54.1\", \"Sub-Saharan Africa/Guinea/54.6\", \"Sub-Saharan Africa/Djibouti/54.7\", \"Sub-Saharan Africa/Angola/55.7\", \"Sub-Saharan Africa/Kenya/55.8\", \"Americas/Nicaragua/56.0\", \"Asia-Pacific/Pakistan/56.1\", \"Asia-Pacific/China/56.2\", \"Sub-Saharan Africa/Rwanda/56.2\", \"Sub-Saharan Africa/Niger/56.3\", \"Americas/Argentina/56.4\", \"Sub-Saharan Africa/Ghana/56.5\", \"Americas/Honduras/56.9\", \"Asia-Pacific/India/57.1\", \"Sub-Saharan Africa/Mozambique/57.1\", \"Sub-Saharan Africa/Comoros/57.2\", \"Americas/El Salvador/57.2\", \"Middle East and North Africa/Kuwait/57.4\", \"Asia-Pacific/Micronesia/57.4\", \"Americas/Brazil/57.9\", \"Americas/Bolivia/58.8\", \"Sub-Saharan Africa/Eswatini/59.2\", \"Americas/Guyana/59.3\", \"Asia-Pacific/Macau/60.0\", \"Asia-Pacific/Laos/60.1\", \"Asia-Pacific/Timor-Leste/60.5\", \"Europe/Croatia/60.7\", \"Sub-Saharan Africa/C\\u00f4te d'Ivoire/61.0\", \"Europe/Hungary/61.1\", \"Asia-Pacific/Philippines/61.3\", \"Europe/Slovakia/61.3\", \"Americas/Paraguay/61.5\", \"Middle East and North Africa/Algeria/61.6\", \"Americas/Belize/61.8\", \"Middle East and North Africa/Jordan/61.8\", \"Asia-Pacific/Nepal/61.8\", \"Sub-Saharan Africa/Mauritania/61.9\", \"Middle East and North Africa/Iran/62.2\", \"Asia-Pacific/Papua New Guinea/62.2\", \"Sub-Saharan Africa/Benin/62.4\", \"Europe/Bulgaria/62.7\", \"Asia-Pacific/Fiji/63.0\", \"Europe/Romania/63.1\", \"Sub-Saharan Africa/Seychelles/63.3\", \"Asia-Pacific/Vietnam/63.5\", \"Sub-Saharan Africa/South Africa/64.3\", \"Sub-Saharan Africa/S\\u00e3o Tom\\u00e9 and Pr\\u00edncipe/65.1\", \"Sub-Saharan Africa/Cabo Verde/65.2\", \"Europe/Poland/65.4\", \"Sub-Saharan Africa/Namibia/65.8\", \"Middle East and North Africa/Egypt/65.9\", \"Asia-Pacific/Mongolia/66.0\", \"Europe/Turkey/66.0\", \"Europe/Ukraine/66.1\", \"Europe/Spain/66.8\", \"Europe/Moldova/67.0\", \"Europe/Malta/67.1\", \"Americas/Costa Rica/67.2\", \"Asia-Pacific/Tajikistan/67.3\", \"Americas/Mexico/67.8\", \"Americas/Peru/67.8\", \"Americas/Trinidad and Tobago/67.8\", \"Americas/Bahamas/68.5\", \"Asia-Pacific/Solomon Islands/68.6\", \"Asia-Pacific/Bhutan/68.7\", \"Sub-Saharan Africa/Botswana/68.7\", \"Europe/Luxembourg/68.8\", \"Europe/Albania/69.3\", \"Asia-Pacific/Indonesia/69.3\", \"Asia-Pacific/Azerbaijan/69.5\", \"Americas/Barbados/69.8\", \"Middle East and North Africa/Morocco/70.3\", \"Americas/Dominica/70.7\", \"Sub-Saharan Africa/Zambia/71.1\", \"Middle East and North Africa/Qatar/71.2\", \"Middle East and North Africa/Bahrain/71.4\", \"Americas/Colombia/71.4\", \"Middle East and North Africa/Israel/71.4\", \"Europe/Italy/71.7\", \"Middle East and North Africa/Saudi Arabia/72.3\", \"Europe/Czech Republic/72.4\", \"Asia-Pacific/Uzbekistan/72.5\", \"Europe/Serbia/72.9\", \"Europe/Montenegro/73.3\", \"Asia-Pacific/Kyrgyz Republic/73.4\", \"Americas/Panama/73.6\", \"Europe/Kosovo/73.8\", \"Asia-Pacific/Kazakhstan/73.9\", \"Europe/Greece/74.1\", \"Americas/Uruguay/74.3\", \"Europe/Austria/74.9\", \"Europe/Belarus/75.0\", \"Asia-Pacific/Sri Lanka/75.1\", \"Europe/Lithuania/75.2\", \"Middle East and North Africa/Oman/75.2\", \"Europe/Estonia/75.3\", \"Asia-Pacific/Tonga/75.3\", \"Europe/Switzerland/75.4\", \"Americas/Saint Lucia/76.3\", \"Americas/Saint Vincent and the Grenadines/76.5\", \"Americas/Chile/76.6\", \"Middle East and North Africa/Tunisia/76.7\", \"Europe/Cyprus/76.9\", \"Asia-Pacific/Samoa/77.0\", \"Europe/Latvia/77.5\", \"Americas/Jamaica/78.0\", \"Europe/Belgium/78.1\", \"Europe/Armenia/78.3\", \"Asia-Pacific/Maldives/78.3\", \"Europe/Russia/78.4\", \"Europe/Slovenia/79.3\", \"Europe/Portugal/79.7\", \"Sub-Saharan Africa/Mauritius/79.8\", \"Middle East and North Africa/United Arab Emirates/79.9\", \"Asia-Pacific/Brunei Darussalam/80.2\", \"Europe/Macedonia/80.2\", \"Asia-Pacific/Japan/80.5\", \"Europe/France/81.2\", \"Europe/Netherlands/81.4\", \"Americas/Canada/81.9\", \"Asia-Pacific/Thailand/82.5\", \"Europe/Ireland/83.1\", \"Europe/Germany/83.3\", \"Americas/United States/83.8\", \"Asia-Pacific/Malaysia/83.9\", \"Europe/Georgia/85.8\", \"Europe/Sweden/88.0\", \"Asia-Pacific/Australia/88.3\", \"Europe/Iceland/88.4\", \"Europe/Finland/89.4\", \"Europe/Norway/89.4\", \"Europe/Denmark/90.7\", \"Asia-Pacific/Singapore/90.8\", \"Asia-Pacific/New Zealand/91.0\", \"Asia-Pacific/Korea, South/91.3\", \"Europe/United Kingdom/92.9\", \"Asia-Pacific/Taiwan /93.2\", \"Asia-Pacific/Hong Kong/96.4\", \"Asia-Pacific/Afghanistan\", \"Europe/Albania\", \"Middle East and North Africa/Algeria\", \"Sub-Saharan Africa/Angola\", \"Americas/Argentina\", \"Europe/Armenia\", \"Asia-Pacific/Australia\", \"Europe/Austria\", \"Asia-Pacific/Azerbaijan\", \"Americas/Bahamas\", \"Middle East and North Africa/Bahrain\", \"Asia-Pacific/Bangladesh\", \"Americas/Barbados\", \"Europe/Belarus\", \"Europe/Belgium\", \"Americas/Belize\", \"Sub-Saharan Africa/Benin\", \"Asia-Pacific/Bhutan\", \"Americas/Bolivia\", \"Europe/Bosnia and Herzegovina\", \"Sub-Saharan Africa/Botswana\", \"Americas/Brazil\", \"Asia-Pacific/Brunei Darussalam\", \"Europe/Bulgaria\", \"Sub-Saharan Africa/Burkina Faso\", \"Asia-Pacific/Burma\", \"Sub-Saharan Africa/Burundi\", \"Sub-Saharan Africa/Cabo Verde\", \"Asia-Pacific/Cambodia\", \"Sub-Saharan Africa/Cameroon\", \"Americas/Canada\", \"Sub-Saharan Africa/Central African Republic\", \"Sub-Saharan Africa/Chad\", \"Americas/Chile\", \"Asia-Pacific/China\", \"Americas/Colombia\", \"Sub-Saharan Africa/Comoros\", \"Sub-Saharan Africa/Congo, Democratic Republic of the Congo\", \"Sub-Saharan Africa/Congo, Republic of\", \"Americas/Costa Rica\", \"Europe/Croatia\", \"Americas/Cuba\", \"Europe/Cyprus\", \"Europe/Czech Republic\", \"Sub-Saharan Africa/C\\u00f4te d'Ivoire\", \"Europe/Denmark\", \"Sub-Saharan Africa/Djibouti\", \"Americas/Dominica\", \"Americas/Dominican Republic\", \"Americas/Ecuador\", \"Middle East and North Africa/Egypt\", \"Americas/El Salvador\", \"Sub-Saharan Africa/Equatorial Guinea\", \"Sub-Saharan Africa/Eritrea\", \"Europe/Estonia\", \"Sub-Saharan Africa/Eswatini\", \"Sub-Saharan Africa/Ethiopia\", \"Asia-Pacific/Fiji\", \"Europe/Finland\", \"Europe/France\", \"Sub-Saharan Africa/Gabon\", \"Sub-Saharan Africa/Gambia\", \"Europe/Georgia\", \"Europe/Germany\", \"Sub-Saharan Africa/Ghana\", \"Europe/Greece\", \"Americas/Guatemala\", \"Sub-Saharan Africa/Guinea\", \"Sub-Saharan Africa/Guinea-Bissau\", \"Americas/Guyana\", \"Americas/Haiti\", \"Americas/Honduras\", \"Asia-Pacific/Hong Kong\", \"Europe/Hungary\", \"Europe/Iceland\", \"Asia-Pacific/India\", \"Asia-Pacific/Indonesia\", \"Middle East and North Africa/Iran\", \"Europe/Ireland\", \"Middle East and North Africa/Israel\", \"Europe/Italy\", \"Americas/Jamaica\", \"Asia-Pacific/Japan\", \"Middle East and North Africa/Jordan\", \"Asia-Pacific/Kazakhstan\", \"Sub-Saharan Africa/Kenya\", \"Asia-Pacific/Kiribati\", \"Asia-Pacific/Korea, South\", \"Europe/Kosovo\", \"Middle East and North Africa/Kuwait\", \"Asia-Pacific/Kyrgyz Republic\", \"Asia-Pacific/Laos\", \"Europe/Latvia\", \"Middle East and North Africa/Lebanon\", \"Sub-Saharan Africa/Lesotho\", \"Sub-Saharan Africa/Liberia\", \"Europe/Lithuania\", \"Europe/Luxembourg\", \"Asia-Pacific/Macau\", \"Europe/Macedonia\", \"Sub-Saharan Africa/Madagascar\", \"Sub-Saharan Africa/Malawi\", \"Asia-Pacific/Malaysia\", \"Asia-Pacific/Maldives\", \"Sub-Saharan Africa/Mali\", \"Europe/Malta\", \"Sub-Saharan Africa/Mauritania\", \"Sub-Saharan Africa/Mauritius\", \"Americas/Mexico\", \"Asia-Pacific/Micronesia\", \"Europe/Moldova\", \"Asia-Pacific/Mongolia\", \"Europe/Montenegro\", \"Middle East and North Africa/Morocco\", \"Sub-Saharan Africa/Mozambique\", \"Sub-Saharan Africa/Namibia\", \"Asia-Pacific/Nepal\", \"Europe/Netherlands\", \"Asia-Pacific/New Zealand\", \"Americas/Nicaragua\", \"Sub-Saharan Africa/Niger\", \"Sub-Saharan Africa/Nigeria\", \"Europe/Norway\", \"Middle East and North Africa/Oman\", \"Asia-Pacific/Pakistan\", \"Americas/Panama\", \"Asia-Pacific/Papua New Guinea\", \"Americas/Paraguay\", \"Americas/Peru\", \"Asia-Pacific/Philippines\", \"Europe/Poland\", \"Europe/Portugal\", \"Middle East and North Africa/Qatar\", \"Europe/Romania\", \"Europe/Russia\", \"Sub-Saharan Africa/Rwanda\", \"Americas/Saint Lucia\", \"Americas/Saint Vincent and the Grenadines\", \"Asia-Pacific/Samoa\", \"Middle East and North Africa/Saudi Arabia\", \"Sub-Saharan Africa/Senegal\", \"Europe/Serbia\", \"Sub-Saharan Africa/Seychelles\", \"Sub-Saharan Africa/Sierra Leone\", \"Asia-Pacific/Singapore\", \"Europe/Slovakia\", \"Europe/Slovenia\", \"Asia-Pacific/Solomon Islands\", \"Sub-Saharan Africa/South Africa\", \"Europe/Spain\", \"Asia-Pacific/Sri Lanka\", \"Sub-Saharan Africa/Sudan\", \"Americas/Suriname\", \"Europe/Sweden\", \"Europe/Switzerland\", \"Sub-Saharan Africa/S\\u00e3o Tom\\u00e9 and Pr\\u00edncipe\", \"Asia-Pacific/Taiwan \", \"Asia-Pacific/Tajikistan\", \"Sub-Saharan Africa/Tanzania\", \"Asia-Pacific/Thailand\", \"Asia-Pacific/Timor-Leste\", \"Sub-Saharan Africa/Togo\", \"Asia-Pacific/Tonga\", \"Americas/Trinidad and Tobago\", \"Middle East and North Africa/Tunisia\", \"Europe/Turkey\", \"Asia-Pacific/Turkmenistan\", \"Sub-Saharan Africa/Uganda\", \"Europe/Ukraine\", \"Middle East and North Africa/United Arab Emirates\", \"Europe/United Kingdom\", \"Americas/United States\", \"Americas/Uruguay\", \"Asia-Pacific/Uzbekistan\", \"Asia-Pacific/Vanuatu\", \"Americas/Venezuela\", \"Asia-Pacific/Vietnam\", \"Sub-Saharan Africa/Zambia\", \"Sub-Saharan Africa/Zimbabwe\", \"Americas\", \"Asia-Pacific\", \"Europe\", \"Middle East and North Africa\", \"Sub-Saharan Africa\"], \"labels\": [\"45.0\", \"47.2\", \"47.8\", \"48.8\", \"50.4\", \"51.0\", \"51.2\", \"53.2\", \"53.4\", \"54.6\", \"55.6\", \"56.6\", \"56.8\", \"56.8\", \"60.0\", \"60.1\", \"60.4\", \"60.4\", \"60.8\", \"61.2\", \"61.6\", \"61.8\", \"62.4\", \"62.6\", \"62.6\", \"62.6\", \"62.6\", \"62.8\", \"63.2\", \"63.4\", \"63.6\", \"63.8\", \"64.0\", \"64.0\", \"64.2\", \"64.4\", \"64.6\", \"64.8\", \"65.2\", \"65.4\", \"65.8\", \"66.0\", \"66.4\", \"66.6\", \"66.8\", \"67.4\", \"67.8\", \"68.2\", \"68.2\", \"68.2\", \"68.4\", \"68.4\", \"69.0\", \"69.2\", \"69.2\", \"69.4\", \"69.4\", \"69.8\", \"70.0\", \"70.0\", \"70.0\", \"70.4\", \"70.4\", \"70.8\", \"70.8\", \"71.4\", \"71.8\", \"72.0\", \"72.0\", \"72.4\", \"72.6\", \"73.0\", \"73.2\", \"73.6\", \"73.6\", \"73.6\", \"74.6\", \"75.0\", \"75.0\", \"75.4\", \"75.4\", \"75.8\", \"75.8\", \"76.0\", \"76.0\", \"76.0\", \"76.0\", \"76.0\", \"76.2\", \"76.4\", \"76.6\", \"77.0\", \"77.4\", \"77.8\", \"78.0\", \"78.0\", \"78.2\", \"78.6\", \"78.6\", \"79.0\", \"79.0\", \"79.2\", \"79.2\", \"79.4\", \"79.4\", \"79.6\", \"79.8\", \"80.0\", \"80.0\", \"80.4\", \"80.6\", \"80.8\", \"80.9\", \"81.0\", \"81.0\", \"81.0\", \"81.4\", \"81.4\", \"81.4\", \"81.4\", \"81.4\", \"81.8\", \"82.0\", \"82.0\", \"82.2\", \"82.6\", \"83.0\", \"83.0\", \"83.2\", \"83.2\", \"83.8\", \"83.8\", \"84.0\", \"84.4\", \"84.4\", \"84.7\", \"86.0\", \"86.0\", \"86.0\", \"86.0\", \"86.0\", \"86.0\", \"86.0\", \"86.0\", \"86.0\", \"86.0\", \"86.0\", \"86.0\", \"86.0\", \"86.0\", \"86.0\", \"86.0\", \"86.0\", \"86.0\", \"86.0\", \"86.0\", \"86.0\", \"86.0\", \"86.0\", \"86.0\", \"86.0\", \"86.0\", \"86.4\", \"86.6\", \"86.8\", \"87.0\", \"87.0\", \"87.0\", \"87.4\", \"87.6\", \"87.6\", \"87.8\", \"88.4\", \"88.6\", \"88.8\", \"90.0\", \"92.4\", \"94.8\", \"95.0\", \"0.0\", \"49.1\", \"55.4\", \"56.0\", \"56.9\", \"58.6\", \"58.9\", \"60.1\", \"60.2\", \"60.8\", \"61.0\", \"62.2\", \"62.3\", \"62.4\", \"63.0\", \"65.0\", \"65.0\", \"65.1\", \"65.4\", \"65.5\", \"65.6\", \"66.3\", \"66.4\", \"66.5\", \"67.0\", \"68.5\", \"68.8\", \"68.9\", \"68.9\", \"69.4\", \"69.4\", \"69.6\", \"69.6\", \"69.9\", \"70.0\", \"70.0\", \"70.1\", \"70.3\", \"70.4\", \"70.5\", \"70.6\", \"70.9\", \"71.9\", \"72.3\", \"72.4\", \"72.4\", \"72.4\", \"72.6\", \"72.6\", \"72.7\", \"72.7\", \"72.7\", \"72.8\", \"72.9\", \"73.0\", \"73.4\", \"73.5\", \"73.5\", \"73.5\", \"73.7\", \"74.2\", \"74.4\", \"74.4\", \"74.9\", \"75.0\", \"75.0\", \"75.1\", \"75.2\", \"75.2\", \"75.4\", \"75.5\", \"75.6\", \"75.9\", \"76.0\", \"76.0\", \"76.1\", \"76.1\", \"76.5\", \"76.5\", \"76.6\", \"76.7\", \"76.7\", \"76.9\", \"77.0\", \"77.2\", \"77.4\", \"77.7\", \"77.8\", \"77.8\", \"77.9\", \"78.1\", \"78.1\", \"78.1\", \"78.1\", \"78.2\", \"78.2\", \"78.3\", \"78.3\", \"78.4\", \"78.5\", \"78.5\", \"78.6\", \"78.6\", \"78.7\", \"78.7\", \"78.8\", \"79.0\", \"79.1\", \"79.1\", \"79.1\", \"79.4\", \"79.4\", \"79.4\", \"79.5\", \"79.6\", \"79.7\", \"80.0\", \"80.0\", \"80.0\", \"80.1\", \"80.9\", \"81.0\", \"81.1\", \"81.1\", \"81.2\", \"81.2\", \"81.5\", \"81.5\", \"81.5\", \"81.6\", \"81.6\", \"81.6\", \"81.7\", \"81.8\", \"82.0\", \"82.0\", \"82.1\", \"82.2\", \"82.3\", \"82.6\", \"82.6\", \"82.6\", \"82.7\", \"82.8\", \"83.0\", \"83.1\", \"83.2\", \"83.5\", \"83.5\", \"83.6\", \"83.7\", \"83.9\", \"83.9\", \"84.0\", \"84.0\", \"84.0\", \"84.0\", \"84.1\", \"84.1\", \"84.4\", \"84.5\", \"84.6\", \"84.8\", \"85.0\", \"85.2\", \"85.3\", \"85.7\", \"85.8\", \"85.9\", \"86.0\", \"86.2\", \"86.2\", \"86.4\", \"86.4\", \"86.6\", \"87.0\", \"87.5\", \"87.5\", \"88.0\", \"20.0\", \"20.0\", \"28.0\", \"29.2\", \"29.3\", \"32.0\", \"32.7\", \"33.1\", \"35.8\", \"38.3\", \"39.0\", \"39.4\", \"40.1\", \"41.8\", \"41.8\", \"41.9\", \"42.0\", \"42.7\", \"43.2\", \"43.3\", \"43.4\", \"44.0\", \"44.3\", \"44.6\", \"45.2\", \"45.9\", \"46.0\", \"46.5\", \"46.7\", \"46.7\", \"46.9\", \"47.8\", \"47.9\", \"48.2\", \"48.2\", \"48.7\", \"49.2\", \"49.2\", \"49.3\", \"49.9\", \"50.0\", \"50.3\", \"50.3\", \"50.7\", \"50.7\", \"51.1\", \"51.5\", \"51.6\", \"51.9\", \"52.2\", \"52.3\", \"52.5\", \"52.5\", \"52.5\", \"52.7\", \"52.7\", \"52.8\", \"52.9\", \"53.0\", \"53.1\", \"53.4\", \"53.7\", \"53.8\", \"53.9\", \"54.8\", \"54.9\", \"55.2\", \"55.7\", \"55.8\", \"57.2\", \"57.3\", \"57.4\", \"57.6\", \"57.8\", \"57.9\", \"58.0\", \"58.6\", \"58.7\", \"58.8\", \"58.8\", \"58.8\", \"58.8\", \"58.8\", \"59.0\", \"59.1\", \"59.5\", \"59.9\", \"59.9\", \"60.1\", \"60.3\", \"60.3\", \"60.4\", \"60.4\", \"60.4\", \"60.8\", \"60.9\", \"61.0\", \"61.2\", \"61.2\", \"61.3\", \"61.7\", \"62.0\", \"62.6\", \"62.8\", \"63.0\", \"63.2\", \"63.3\", \"63.4\", \"63.5\", \"63.6\", \"63.9\", \"63.9\", \"63.9\", \"64.0\", \"64.1\", \"64.2\", \"64.5\", \"64.7\", \"64.9\", \"65.0\", \"65.1\", \"65.7\", \"65.9\", \"66.2\", \"67.0\", \"67.4\", \"67.4\", \"67.5\", \"67.5\", \"67.5\", \"68.2\", \"68.2\", \"68.4\", \"68.7\", \"69.2\", \"69.9\", \"70.0\", \"70.8\", \"71.1\", \"71.4\", \"71.5\", \"71.9\", \"71.9\", \"72.0\", \"72.5\", \"72.6\", \"72.9\", \"73.3\", \"73.4\", \"73.5\", \"73.5\", \"73.5\", \"73.6\", \"73.7\", \"74.4\", \"75.0\", \"75.3\", \"75.3\", \"75.6\", \"76.6\", \"78.1\", \"78.2\", \"78.5\", \"79.0\", \"79.5\", \"79.8\", \"81.1\", \"82.2\", \"83.2\", \"83.3\", \"84.1\", \"85.1\", \"86.2\", \"86.4\", \"86.7\", \"89.2\", \"89.4\", \"90.8\", \"91.0\", \"17.7\", \"20.0\", \"24.2\", \"28.1\", \"29.9\", \"30.0\", \"33.4\", \"33.9\", \"35.9\", \"36.2\", \"37.6\", \"38.2\", \"41.7\", \"41.9\", \"44.4\", \"44.9\", \"46.3\", \"46.6\", \"47.3\", \"47.9\", \"48.3\", \"48.6\", \"49.2\", \"49.7\", \"50.3\", \"50.4\", \"50.6\", \"50.9\", \"51.2\", \"51.6\", \"51.9\", \"52.1\", \"52.1\", \"52.4\", \"52.8\", \"53.2\", \"53.3\", \"53.3\", \"53.6\", \"53.8\", \"54.0\", \"54.1\", \"54.6\", \"54.7\", \"55.7\", \"55.8\", \"56.0\", \"56.1\", \"56.2\", \"56.2\", \"56.3\", \"56.4\", \"56.5\", \"56.9\", \"57.1\", \"57.1\", \"57.2\", \"57.2\", \"57.4\", \"57.4\", \"57.9\", \"58.8\", \"59.2\", \"59.3\", \"60.0\", \"60.1\", \"60.5\", \"60.7\", \"61.0\", \"61.1\", \"61.3\", \"61.3\", \"61.5\", \"61.6\", \"61.8\", \"61.8\", \"61.8\", \"61.9\", \"62.2\", \"62.2\", \"62.4\", \"62.7\", \"63.0\", \"63.1\", \"63.3\", \"63.5\", \"64.3\", \"65.1\", \"65.2\", \"65.4\", \"65.8\", \"65.9\", \"66.0\", \"66.0\", \"66.1\", \"66.8\", \"67.0\", \"67.1\", \"67.2\", \"67.3\", \"67.8\", \"67.8\", \"67.8\", \"68.5\", \"68.6\", \"68.7\", \"68.7\", \"68.8\", \"69.3\", \"69.3\", \"69.5\", \"69.8\", \"70.3\", \"70.7\", \"71.1\", \"71.2\", \"71.4\", \"71.4\", \"71.4\", \"71.7\", \"72.3\", \"72.4\", \"72.5\", \"72.9\", \"73.3\", \"73.4\", \"73.6\", \"73.8\", \"73.9\", \"74.1\", \"74.3\", \"74.9\", \"75.0\", \"75.1\", \"75.2\", \"75.2\", \"75.3\", \"75.3\", \"75.4\", \"76.3\", \"76.5\", \"76.6\", \"76.7\", \"76.9\", \"77.0\", \"77.5\", \"78.0\", \"78.1\", \"78.3\", \"78.3\", \"78.4\", \"79.3\", \"79.7\", \"79.8\", \"79.9\", \"80.2\", \"80.2\", \"80.5\", \"81.2\", \"81.4\", \"81.9\", \"82.5\", \"83.1\", \"83.3\", \"83.8\", \"83.9\", \"85.8\", \"88.0\", \"88.3\", \"88.4\", \"89.4\", \"89.4\", \"90.7\", \"90.8\", \"91.0\", \"91.3\", \"92.9\", \"93.2\", \"96.4\", \"Afghanistan\", \"Albania\", \"Algeria\", \"Angola\", \"Argentina\", \"Armenia\", \"Australia\", \"Austria\", \"Azerbaijan\", \"Bahamas\", \"Bahrain\", \"Bangladesh\", \"Barbados\", \"Belarus\", \"Belgium\", \"Belize\", \"Benin\", \"Bhutan\", \"Bolivia\", \"Bosnia and Herzegovina\", \"Botswana\", \"Brazil\", \"Brunei Darussalam\", \"Bulgaria\", \"Burkina Faso\", \"Burma\", \"Burundi\", \"Cabo Verde\", \"Cambodia\", \"Cameroon\", \"Canada\", \"Central African Republic\", \"Chad\", \"Chile\", \"China\", \"Colombia\", \"Comoros\", \"Congo, Democratic Republic of the Congo\", \"Congo, Republic of\", \"Costa Rica\", \"Croatia\", \"Cuba\", \"Cyprus\", \"Czech Republic\", \"C\\u00f4te d'Ivoire\", \"Denmark\", \"Djibouti\", \"Dominica\", \"Dominican Republic\", \"Ecuador\", \"Egypt\", \"El Salvador\", \"Equatorial Guinea\", \"Eritrea\", \"Estonia\", \"Eswatini\", \"Ethiopia\", \"Fiji\", \"Finland\", \"France\", \"Gabon\", \"Gambia\", \"Georgia\", \"Germany\", \"Ghana\", \"Greece\", \"Guatemala\", \"Guinea\", \"Guinea-Bissau\", \"Guyana\", \"Haiti\", \"Honduras\", \"Hong Kong\", \"Hungary\", \"Iceland\", \"India\", \"Indonesia\", \"Iran\", \"Ireland\", \"Israel\", \"Italy\", \"Jamaica\", \"Japan\", \"Jordan\", \"Kazakhstan\", \"Kenya\", \"Kiribati\", \"Korea, South\", \"Kosovo\", \"Kuwait\", \"Kyrgyz Republic\", \"Laos\", \"Latvia\", \"Lebanon\", \"Lesotho\", \"Liberia\", \"Lithuania\", \"Luxembourg\", \"Macau\", \"Macedonia\", \"Madagascar\", \"Malawi\", \"Malaysia\", \"Maldives\", \"Mali\", \"Malta\", \"Mauritania\", \"Mauritius\", \"Mexico\", \"Micronesia\", \"Moldova\", \"Mongolia\", \"Montenegro\", \"Morocco\", \"Mozambique\", \"Namibia\", \"Nepal\", \"Netherlands\", \"New Zealand\", \"Nicaragua\", \"Niger\", \"Nigeria\", \"Norway\", \"Oman\", \"Pakistan\", \"Panama\", \"Papua New Guinea\", \"Paraguay\", \"Peru\", \"Philippines\", \"Poland\", \"Portugal\", \"Qatar\", \"Romania\", \"Russia\", \"Rwanda\", \"Saint Lucia\", \"Saint Vincent and the Grenadines\", \"Samoa\", \"Saudi Arabia\", \"Senegal\", \"Serbia\", \"Seychelles\", \"Sierra Leone\", \"Singapore\", \"Slovakia\", \"Slovenia\", \"Solomon Islands\", \"South Africa\", \"Spain\", \"Sri Lanka\", \"Sudan\", \"Suriname\", \"Sweden\", \"Switzerland\", \"S\\u00e3o Tom\\u00e9 and Pr\\u00edncipe\", \"Taiwan \", \"Tajikistan\", \"Tanzania\", \"Thailand\", \"Timor-Leste\", \"Togo\", \"Tonga\", \"Trinidad and Tobago\", \"Tunisia\", \"Turkey\", \"Turkmenistan\", \"Uganda\", \"Ukraine\", \"United Arab Emirates\", \"United Kingdom\", \"United States\", \"Uruguay\", \"Uzbekistan\", \"Vanuatu\", \"Venezuela\", \"Vietnam\", \"Zambia\", \"Zimbabwe\", \"Americas\", \"Asia-Pacific\", \"Europe\", \"Middle East and North Africa\", \"Sub-Saharan Africa\"], \"marker\": {\"coloraxis\": \"coloraxis\", \"colors\": [166.0, 159.0, 76.0, 174.0, 169.0, 161.0, 118.0, 168.0, 145.0, 155.0, 135.0, 67.0, 176.0, 133.0, 179.0, 160.0, 136.0, 130.0, 137.0, 156.0, 146.0, 127.0, 110.99999999999999, 157.0, 140.0, 141.0, 119.0, 81.0, 120.0, 109.0, 121.0, 82.0, 178.00000000000003, 123.0, 134.0, 116.0, 165.0, 131.0, 96.0, 105.0, 151.0, 152.0, 170.0, 55.0, 113.0, 171.0, 94.0, 162.0, 73.0, 72.0, 112.0, 39.0, 150.0, 177.0, 114.0, 167.0, 158.0, 103.0, 148.0, 175.0, 124.0, 173.0, 32.0, 139.0, 51.0, 125.0, 144.0, 143.0, 117.0, 129.0, 138.0, 100.0, 38.0, 122.0, 108.0, 78.0, 60.0, 147.0, 172.0, 153.0, 95.0, 126.0, 89.0, 107.0, 164.0, 102.0, 49.0, 90.99999999999999, 115.0, 104.0, 85.0, 69.0, 75.0, 98.0, 163.0, 97.0, 70.0, 40.0, 79.0, 90.0, 154.0, 128.0, 50.0, 74.0, 93.0, 68.0, 56.0, 59.0, 30.000000000000004, 29.0, 149.0, 47.0, 101.0, 142.0, 71.0, 106.00000000000001, 66.0, 84.0, 87.0, 61.0, 53.0, 110.0, 22.0, 33.0, 77.0, 83.0, 99.0, 43.0, 26.0, 28.0, 36.0, 54.0, 62.99999999999999, 9.0, 27.0, 92.0, 48.0, 24.0, 41.0, 86.0, 65.0, 15.000000000000002, 35.0, 7.0, 31.0, 23.0, 64.0, 19.0, 46.0, 17.0, 42.0, 62.0, 58.0, 80.0, 44.0, 13.0, 13.999999999999998, 21.0, 20.0, 6.0, 57.0, 37.0, 45.0, 12.0, 8.0, 88.0, 11.0, 10.0, 4.0, 132.0, 5.0, 52.0, 25.0, 16.0, 18.0, 34.0, 3.0, 2.0, 1.0, 179.0, 157.0, 156.0, 165.0, 166.0, 147.0, 140.0, 155.0, 148.0, 137.0, 177.0, 162.0, 144.0, 146.0, 60.0, 167.0, 110.99999999999999, 98.0, 163.0, 153.0, 178.00000000000003, 109.0, 120.0, 143.0, 104.0, 122.0, 173.0, 160.0, 128.0, 136.0, 108.0, 70.0, 139.0, 121.0, 68.0, 101.0, 115.0, 138.0, 94.0, 134.0, 90.0, 59.0, 100.0, 161.0, 129.0, 175.0, 114.0, 131.0, 74.0, 107.0, 169.0, 130.0, 85.0, 40.0, 93.0, 164.0, 97.0, 170.0, 81.0, 132.0, 78.0, 79.0, 99.0, 171.0, 116.0, 142.0, 112.0, 102.0, 43.0, 26.0, 150.0, 49.0, 66.0, 125.0, 16.0, 48.0, 32.0, 34.0, 62.99999999999999, 12.0, 151.0, 152.0, 113.0, 77.0, 8.0, 56.0, 88.0, 47.0, 126.0, 24.0, 154.0, 135.0, 90.99999999999999, 76.0, 117.0, 41.0, 67.0, 51.0, 28.0, 86.0, 110.0, 65.0, 22.0, 123.0, 33.0, 36.0, 84.0, 71.0, 158.0, 106.00000000000001, 50.0, 25.0, 105.0, 172.0, 15.000000000000002, 89.0, 118.0, 87.0, 69.0, 95.0, 9.0, 141.0, 168.0, 35.0, 119.0, 7.0, 52.0, 31.0, 23.0, 103.0, 54.0, 92.0, 11.0, 64.0, 19.0, 29.0, 46.0, 55.0, 159.0, 176.0, 17.0, 39.0, 42.0, 124.0, 62.0, 83.0, 61.0, 75.0, 82.0, 58.0, 174.0, 45.0, 38.0, 145.0, 80.0, 44.0, 13.0, 73.0, 13.999999999999998, 10.0, 18.0, 21.0, 20.0, 53.0, 4.0, 2.0, 72.0, 149.0, 30.000000000000004, 133.0, 96.0, 27.0, 127.0, 1.0, 5.0, 6.0, 57.0, 3.0, 37.0, 178.00000000000003, 164.0, 179.0, 85.0, 167.0, 93.0, 174.0, 75.0, 176.0, 160.0, 97.0, 117.0, 161.0, 131.0, 129.0, 157.0, 163.0, 134.0, 159.0, 175.0, 50.0, 86.0, 62.0, 114.0, 71.0, 17.0, 138.0, 154.0, 158.0, 147.0, 148.0, 145.0, 136.0, 170.0, 151.0, 77.0, 68.0, 122.0, 56.0, 171.0, 34.0, 125.0, 20.0, 168.0, 155.0, 80.0, 119.0, 144.0, 150.0, 103.0, 96.0, 78.0, 106.00000000000001, 98.0, 53.0, 52.0, 24.0, 173.0, 118.0, 84.0, 65.0, 26.0, 127.0, 19.0, 123.0, 120.0, 61.0, 73.0, 107.0, 15.000000000000002, 88.0, 29.0, 89.0, 57.0, 70.0, 137.0, 66.0, 140.0, 116.0, 142.0, 156.0, 172.0, 115.0, 166.0, 102.0, 44.0, 109.0, 67.0, 110.0, 124.0, 13.0, 152.0, 169.0, 72.0, 25.0, 10.0, 48.0, 135.0, 58.0, 41.0, 90.0, 113.0, 143.0, 128.0, 105.0, 87.0, 90.99999999999999, 130.0, 45.0, 21.0, 46.0, 60.0, 43.0, 153.0, 11.0, 100.0, 42.0, 64.0, 51.0, 18.0, 27.0, 139.0, 28.0, 94.0, 83.0, 146.0, 69.0, 162.0, 132.0, 76.0, 121.0, 36.0, 37.0, 31.0, 38.0, 108.0, 177.0, 141.0, 54.0, 47.0, 33.0, 149.0, 40.0, 133.0, 4.0, 101.0, 81.0, 35.0, 92.0, 165.0, 55.0, 7.0, 39.0, 8.0, 22.0, 126.0, 104.0, 6.0, 112.0, 16.0, 23.0, 82.0, 49.0, 30.000000000000004, 74.0, 79.0, 9.0, 32.0, 95.0, 110.99999999999999, 5.0, 99.0, 59.0, 13.999999999999998, 3.0, 1.0, 12.0, 62.99999999999999, 2.0, 177.0, 178.00000000000003, 161.0, 159.0, 105.0, 164.0, 175.0, 179.0, 135.0, 143.0, 174.0, 176.0, 153.0, 168.0, 145.0, 167.0, 95.0, 94.0, 114.0, 154.0, 165.0, 137.0, 152.0, 83.0, 162.0, 158.0, 160.0, 121.0, 110.99999999999999, 96.0, 89.0, 118.0, 166.0, 116.0, 139.0, 157.0, 142.0, 117.0, 77.0, 103.0, 146.0, 170.0, 120.0, 169.0, 156.0, 130.0, 107.0, 131.0, 100.0, 32.0, 151.0, 148.0, 109.0, 93.0, 129.0, 163.0, 124.0, 84.0, 90.0, 149.0, 150.0, 173.0, 132.0, 113.0, 34.0, 110.0, 172.0, 86.0, 78.0, 64.0, 70.0, 65.0, 85.0, 171.0, 123.0, 53.0, 136.0, 119.0, 155.0, 101.0, 127.0, 37.0, 81.0, 42.0, 87.0, 128.0, 102.0, 134.0, 73.0, 46.0, 99.0, 144.0, 126.0, 68.0, 147.0, 57.0, 97.0, 41.0, 61.0, 122.0, 66.0, 45.0, 112.0, 76.0, 133.0, 74.0, 36.0, 17.0, 52.0, 56.0, 60.0, 67.0, 75.0, 72.0, 138.0, 28.0, 54.0, 49.0, 27.0, 80.0, 90.99999999999999, 23.0, 140.0, 69.0, 92.0, 79.0, 50.0, 51.0, 59.0, 106.00000000000001, 40.0, 31.0, 104.0, 115.0, 21.0, 88.0, 15.000000000000002, 108.0, 4.0, 38.0, 55.0, 18.0, 125.0, 44.0, 82.0, 35.0, 39.0, 48.0, 47.0, 141.0, 98.0, 58.0, 62.0, 25.0, 9.0, 62.99999999999999, 33.0, 30.000000000000004, 71.0, 13.0, 8.0, 43.0, 6.0, 24.0, 12.0, 22.0, 16.0, 19.0, 5.0, 11.0, 20.0, 26.0, 13.999999999999998, 2.0, 3.0, 29.0, 7.0, 10.0, 1.0, 152.0, 52.0, 171.0, 156.0, 148.0, 47.0, 5.0, 31.0, 60.0, 76.0, 54.0, 121.0, 67.0, 104.0, 48.0, 123.0, 127.0, 74.0, 173.0, 83.0, 36.0, 150.0, 62.99999999999999, 37.0, 96.0, 139.0, 162.0, 73.0, 105.0, 145.0, 8.0, 161.0, 159.0, 18.0, 100.0, 49.0, 124.0, 157.0, 176.0, 61.0, 86.0, 178.00000000000003, 44.0, 23.0, 78.0, 13.999999999999998, 169.0, 72.0, 89.0, 170.0, 144.0, 84.0, 174.0, 177.0, 15.000000000000002, 132.0, 137.0, 81.0, 20.0, 71.0, 118.0, 146.0, 16.0, 24.0, 109.0, 106.00000000000001, 77.0, 120.0, 135.0, 113.0, 143.0, 93.0, 1.0, 64.0, 11.0, 129.0, 56.0, 155.0, 6.0, 27.0, 80.0, 39.0, 30.000000000000004, 53.0, 59.0, 130.0, 168.0, 29.0, 51.0, 90.0, 79.0, 110.0, 35.0, 154.0, 142.0, 160.0, 21.0, 17.0, 34.0, 33.0, 114.0, 153.0, 22.0, 141.0, 103.0, 41.0, 119.0, 25.0, 66.0, 149.0, 97.0, 126.0, 92.0, 75.0, 163.0, 99.0, 136.0, 13.0, 3.0, 107.0, 151.0, 110.99999999999999, 26.0, 88.0, 131.0, 50.0, 101.0, 85.0, 45.0, 70.0, 46.0, 62.0, 28.0, 42.0, 98.0, 32.0, 38.0, 55.0, 82.0, 90.99999999999999, 117.0, 69.0, 87.0, 167.0, 2.0, 65.0, 58.0, 133.0, 102.0, 57.0, 115.0, 166.0, 165.0, 19.0, 4.0, 134.0, 10.0, 122.0, 94.0, 43.0, 172.0, 158.0, 108.0, 112.0, 125.0, 68.0, 164.0, 95.0, 147.0, 9.0, 7.0, 12.0, 40.0, 140.0, 116.0, 179.0, 128.0, 138.0, 175.0, 80.82382550335572, 82.26508802952257, 45.72483110345742, 82.86287313432837, 122.93328359381135]}, \"name\": \"\", \"parents\": [\"Sub-Saharan Africa/Sudan/52.1/59.0/56.9\", \"Sub-Saharan Africa/Chad/28.1/43.2/82.3\", \"Americas/Bahamas/68.5/67.5/78.1\", \"Sub-Saharan Africa/Equatorial Guinea/37.6/32.7/83.7\", \"Sub-Saharan Africa/Djibouti/54.7/60.4/72.7\", \"Sub-Saharan Africa/Central African Republic/24.2/40.1/72.3\", \"Sub-Saharan Africa/Gabon/52.1/53.0/80.0\", \"Asia-Pacific/Kiribati/41.9/50.7/81.1\", \"Sub-Saharan Africa/Cameroon/44.4/47.8/84.0\", \"Middle East and North Africa/Iran/62.2/50.7/60.1\", \"Sub-Saharan Africa/Guinea-Bissau/35.9/61.2/78.1\", \"Americas/Barbados/69.8/59.9/78.3\", \"Sub-Saharan Africa/Congo, Republic of/38.2/35.8/82.6\", \"Asia-Pacific/Solomon Islands/68.6/72.0/86.0\", \"Americas/Venezuela/33.9/28.0/0.0\", \"Sub-Saharan Africa/Liberia/50.6/38.3/68.9\", \"Asia-Pacific/Nepal/61.8/47.9/69.4\", \"Sub-Saharan Africa/Kenya/55.8/63.4/72.7\", \"Sub-Saharan Africa/Ethiopia/48.6/58.0/60.8\", \"Sub-Saharan Africa/Angola/55.7/58.8/55.4\", \"Sub-Saharan Africa/Gambia/54.0/67.4/62.4\", \"Sub-Saharan Africa/Benin/62.4/53.8/86.4\", \"Sub-Saharan Africa/Nigeria/51.2/83.3/65.0\", \"Sub-Saharan Africa/Congo, Democratic Republic of the Congo/53.2/41.9/49.1\", \"Asia-Pacific/Uzbekistan/72.5/58.7/58.9\", \"Asia-Pacific/Maldives/78.3/70.8/81.0\", \"Sub-Saharan Africa/Mauritania/61.9/51.5/81.2\", \"Asia-Pacific/Fiji/63.0/72.9/73.5\", \"Sub-Saharan Africa/Guinea/54.6/54.9/66.4\", \"Sub-Saharan Africa/Ghana/56.5/59.9/66.3\", \"Asia-Pacific/Bangladesh/50.9/68.2/69.9\", \"Asia-Pacific/Samoa/77.0/78.2/83.5\", \"Americas/Cuba/20.0/20.0/65.6\", \"Americas/Belize/61.8/54.8/78.7\", \"Sub-Saharan Africa/S\\u00e3o Tom\\u00e9 and Pr\\u00edncipe/65.1/42.7/70.5\", \"Asia-Pacific/Vanuatu/52.4/58.8/75.0\", \"Americas/Suriname/48.3/73.5/56.0\", \"Asia-Pacific/Pakistan/56.1/41.8/72.6\", \"Sub-Saharan Africa/Burkina Faso/51.6/52.3/86.2\", \"Asia-Pacific/Cambodia/29.9/63.0/79.4\", \"Sub-Saharan Africa/Niger/56.3/48.2/76.7\", \"Asia-Pacific/Afghanistan/49.2/60.4/76.7\", \"Americas/Ecuador/54.1/48.2/73.5\", \"Americas/Saint Vincent and the Grenadines/76.5/73.5/82.2\", \"Americas/Guyana/59.3/62.0/76.9\", \"Middle East and North Africa/Algeria/61.6/49.9/74.9\", \"Sub-Saharan Africa/Tanzania/46.6/66.2/70.4\", \"Sub-Saharan Africa/Burundi/50.3/67.5/62.2\", \"Sub-Saharan Africa/Cabo Verde/65.2/55.7/84.1\", \"Americas/Dominica/70.7/60.4/85.7\", \"Americas/Trinidad and Tobago/67.8/75.6/75.1\", \"Americas/Jamaica/78.0/73.6/82.6\", \"Americas/Brazil/57.9/51.9/75.5\", \"Sub-Saharan Africa/Eritrea/17.7/70.0/61.0\", \"Sub-Saharan Africa/Madagascar/47.3/44.6/72.4\", \"Sub-Saharan Africa/Sierra Leone/44.9/29.3/65.0\", \"Sub-Saharan Africa/Togo/50.4/46.7/79.1\", \"Sub-Saharan Africa/Mali/53.8/52.2/81.6\", \"Americas/Argentina/56.4/46.9/60.2\", \"Sub-Saharan Africa/Zimbabwe/33.4/43.3/72.4\", \"Sub-Saharan Africa/Comoros/57.2/60.3/82.8\", \"Americas/Bolivia/58.8/52.9/68.8\", \"Sub-Saharan Africa/Rwanda/56.2/82.2/76.1\", \"Asia-Pacific/Burma/52.8/65.7/69.6\", \"Europe/Kosovo/73.8/64.9/78.3\", \"Middle East and North Africa/Tunisia/76.7/50.3/76.0\", \"Middle East and North Africa/Egypt/65.9/51.6/62.3\", \"Americas/Haiti/36.2/62.6/66.5\", \"Sub-Saharan Africa/Senegal/53.3/39.4/78.2\", \"Asia-Pacific/India/57.1/41.8/72.4\", \"Sub-Saharan Africa/Zambia/71.1/46.0/70.3\", \"Asia-Pacific/China/56.2/64.2/71.9\", \"Americas/Saint Lucia/76.3/69.2/83.9\", \"Asia-Pacific/Tajikistan/67.3/49.2/68.5\", \"Asia-Pacific/Tonga/75.3/69.9/69.4\", \"Sub-Saharan Africa/C\\u00f4te d'Ivoire/61.0/52.5/74.2\", \"Asia-Pacific/Azerbaijan/69.5/63.9/63.0\", \"Europe/Ukraine/66.1/46.7/58.6\", \"Asia-Pacific/Timor-Leste/60.5/58.8/79.5\", \"Sub-Saharan Africa/Malawi/41.7/64.0/65.5\", \"Sub-Saharan Africa/Uganda/46.3/83.2/80.1\", \"Asia-Pacific/Mongolia/66.0/75.0/77.8\", \"Americas/Dominican Republic/51.9/57.6/79.7\", \"Americas/Nicaragua/56.0/55.8/72.7\", \"Asia-Pacific/Turkmenistan/30.0/20.0/73.4\", \"Sub-Saharan Africa/South Africa/64.3/59.1/75.2\", \"Americas/Colombia/71.4/78.5/75.6\", \"Middle East and North Africa/Saudi Arabia/72.3/63.3/78.1\", \"Asia-Pacific/Sri Lanka/75.1/58.8/70.1\", \"Europe/Belarus/75.0/75.3/67.0\", \"Americas/Paraguay/61.5/29.2/72.8\", \"Europe/Serbia/72.9/67.4/80.0\", \"Middle East and North Africa/Morocco/70.3/33.1/83.5\", \"Europe/Russia/78.4/52.5/65.1\", \"Sub-Saharan Africa/Mozambique/57.1/42.0/65.4\", \"Europe/Moldova/67.0/39.0/73.5\", \"Asia-Pacific/Philippines/61.3/57.9/69.6\", \"Americas/Uruguay/74.3/71.9/72.9\", \"Asia-Pacific/Kyrgyz Republic/73.4/79.8/74.4\", \"Middle East and North Africa/Kuwait/57.4/61.7/70.6\", \"Middle East and North Africa/Lebanon/47.9/46.5/78.1\", \"Asia-Pacific/Vietnam/63.5/62.8/68.9\", \"Americas/Panama/73.6/43.4/79.4\", \"Asia-Pacific/Bhutan/68.7/79.5/72.6\", \"Americas/Honduras/56.9/32.0/73.0\", \"Europe/Turkey/66.0/49.2/70.0\", \"Asia-Pacific/Indonesia/69.3/49.3/77.4\", \"Asia-Pacific/Kazakhstan/73.9/86.2/70.9\", \"Asia-Pacific/Japan/80.5/79.0/85.9\", \"Asia-Pacific/Korea, South/91.3/57.4/82.0\", \"Asia-Pacific/Micronesia/57.4/71.9/85.8\", \"Europe/Armenia/78.3/71.4/77.8\", \"Asia-Pacific/Papua New Guinea/62.2/72.6/70.0\", \"Sub-Saharan Africa/Lesotho/53.3/58.8/75.0\", \"Europe/France/81.2/45.2/79.1\", \"Europe/Greece/74.1/52.5/79.1\", \"Americas/Mexico/67.8/58.6/75.9\", \"Americas/El Salvador/57.2/53.1/79.0\", \"Sub-Saharan Africa/Seychelles/63.3/63.2/80.0\", \"Americas/Costa Rica/67.2/55.2/83.2\", \"Middle East and North Africa/Jordan/61.8/52.7/85.0\", \"Asia-Pacific/Laos/60.1/60.1/78.5\", \"Asia-Pacific/Malaysia/83.9/74.4/78.6\", \"Europe/Macedonia/80.2/71.5/78.7\", \"Americas/Guatemala/53.6/48.7/77.0\", \"Europe/Bosnia and Herzegovina/49.7/67.0/83.1\", \"Sub-Saharan Africa/Namibia/65.8/85.1/74.4\", \"Asia-Pacific/Thailand/82.5/63.9/75.2\", \"Europe/Norway/89.4/53.7/75.4\", \"Middle East and North Africa/Qatar/71.2/65.9/78.4\", \"Sub-Saharan Africa/Botswana/68.7/68.2/78.8\", \"Middle East and North Africa/Bahrain/71.4/71.1/81.6\", \"Asia-Pacific/Brunei Darussalam/80.2/90.8/76.5\", \"Middle East and North Africa/United Arab Emirates/79.9/81.1/80.9\", \"Middle East and North Africa/Israel/71.4/65.1/86.2\", \"Europe/Montenegro/73.3/73.4/81.6\", \"Europe/Belgium/78.1/61.0/76.1\", \"Europe/Germany/83.3/52.8/77.9\", \"Europe/Malta/67.1/61.3/78.2\", \"Europe/Croatia/60.7/44.0/78.5\", \"Europe/Slovakia/61.3/53.4/78.6\", \"Europe/Estonia/75.3/57.2/79.6\", \"Europe/Latvia/77.5/73.3/81.1\", \"Europe/United Kingdom/92.9/73.5/81.2\", \"Europe/Austria/74.9/68.7/81.5\", \"Europe/Czech Republic/72.4/78.1/81.5\", \"Europe/Hungary/61.1/64.7/81.8\", \"Europe/Sweden/88.0/53.9/82.0\", \"Europe/Poland/65.4/63.9/82.1\", \"Europe/Luxembourg/68.8/45.9/82.6\", \"Europe/Romania/63.1/64.5/82.7\", \"Europe/Portugal/79.7/44.3/83.0\", \"Europe/Slovenia/79.3/61.2/83.6\", \"Europe/Italy/71.7/51.1/84.0\", \"Europe/Cyprus/76.9/59.5/84.0\", \"Europe/Netherlands/81.4/60.3/84.0\", \"Europe/Denmark/90.7/86.4/84.1\", \"Europe/Lithuania/75.2/63.6/84.6\", \"Europe/Finland/89.4/50.3/84.8\", \"Europe/Ireland/83.1/75.3/87.0\", \"Europe/Spain/66.8/57.8/87.5\", \"Europe/Bulgaria/62.7/68.4/88.0\", \"Americas/Peru/67.8/63.5/83.9\", \"Americas/United States/83.8/89.4/76.6\", \"Americas/Canada/81.9/73.7/77.2\", \"Middle East and North Africa/Oman/75.2/57.3/77.7\", \"Europe/Iceland/88.4/64.1/81.7\", \"Asia-Pacific/Taiwan /93.2/60.9/84.4\", \"Europe/Switzerland/75.4/72.5/85.2\", \"Sub-Saharan Africa/Eswatini/59.2/67.5/73.7\", \"Asia-Pacific/Australia/88.3/84.1/86.6\", \"Europe/Albania/69.3/52.7/81.5\", \"Sub-Saharan Africa/Mauritius/79.8/60.8/79.4\", \"Europe/Georgia/85.8/76.6/76.0\", \"Americas/Chile/76.6/65.0/84.5\", \"Asia-Pacific/Macau/60.0/50.0/76.5\", \"Asia-Pacific/New Zealand/91.0/86.7/87.5\", \"Asia-Pacific/Singapore/90.8/91.0/85.3\", \"Asia-Pacific/Hong Kong/96.4/89.2/86.4\", \"Americas/Venezuela/33.9/28.0\", \"Sub-Saharan Africa/Congo, Democratic Republic of the Congo/53.2/41.9\", \"Sub-Saharan Africa/Angola/55.7/58.8\", \"Americas/Suriname/48.3/73.5\", \"Sub-Saharan Africa/Sudan/52.1/59.0\", \"Europe/Ukraine/66.1/46.7\", \"Asia-Pacific/Uzbekistan/72.5/58.7\", \"Middle East and North Africa/Iran/62.2/50.7\", \"Americas/Argentina/56.4/46.9\", \"Sub-Saharan Africa/Ethiopia/48.6/58.0\", \"Sub-Saharan Africa/Eritrea/17.7/70.0\", \"Sub-Saharan Africa/Burundi/50.3/67.5\", \"Middle East and North Africa/Egypt/65.9/51.6\", \"Sub-Saharan Africa/Gambia/54.0/67.4\", \"Asia-Pacific/Azerbaijan/69.5/63.9\", \"Sub-Saharan Africa/Sierra Leone/44.9/29.3\", \"Sub-Saharan Africa/Nigeria/51.2/83.3\", \"Europe/Russia/78.4/52.5\", \"Sub-Saharan Africa/Mozambique/57.1/42.0\", \"Sub-Saharan Africa/Malawi/41.7/64.0\", \"Americas/Cuba/20.0/20.0\", \"Sub-Saharan Africa/Ghana/56.5/59.9\", \"Sub-Saharan Africa/Guinea/54.6/54.9\", \"Americas/Haiti/36.2/62.6\", \"Europe/Belarus/75.0/75.3\", \"Asia-Pacific/Tajikistan/67.3/49.2\", \"Americas/Bolivia/58.8/52.9\", \"Sub-Saharan Africa/Liberia/50.6/38.3\", \"Asia-Pacific/Vietnam/63.5/62.8\", \"Asia-Pacific/Nepal/61.8/47.9\", \"Asia-Pacific/Tonga/75.3/69.9\", \"Asia-Pacific/Philippines/61.3/57.9\", \"Asia-Pacific/Burma/52.8/65.7\", \"Asia-Pacific/Bangladesh/50.9/68.2\", \"Europe/Turkey/66.0/49.2\", \"Asia-Pacific/Papua New Guinea/62.2/72.6\", \"Asia-Pacific/Sri Lanka/75.1/58.8\", \"Sub-Saharan Africa/Zambia/71.1/46.0\", \"Sub-Saharan Africa/Tanzania/46.6/66.2\", \"Sub-Saharan Africa/S\\u00e3o Tom\\u00e9 and Pr\\u00edncipe/65.1/42.7\", \"Middle East and North Africa/Kuwait/57.4/61.7\", \"Asia-Pacific/Kazakhstan/73.9/86.2\", \"Asia-Pacific/China/56.2/64.2\", \"Sub-Saharan Africa/Central African Republic/24.2/40.1\", \"Asia-Pacific/India/57.1/41.8\", \"Sub-Saharan Africa/Zimbabwe/33.4/43.3\", \"Sub-Saharan Africa/Madagascar/47.3/44.6\", \"Asia-Pacific/Pakistan/56.1/41.8\", \"Asia-Pacific/Bhutan/68.7/79.5\", \"Americas/Nicaragua/56.0/55.8\", \"Sub-Saharan Africa/Djibouti/54.7/60.4\", \"Sub-Saharan Africa/Kenya/55.8/63.4\", \"Americas/Paraguay/61.5/29.2\", \"Americas/Uruguay/74.3/71.9\", \"Americas/Honduras/56.9/32.0\", \"Asia-Pacific/Turkmenistan/30.0/20.0\", \"Europe/Moldova/67.0/39.0\", \"Americas/Ecuador/54.1/48.2\", \"Asia-Pacific/Fiji/63.0/72.9\", \"Sub-Saharan Africa/Eswatini/59.2/67.5\", \"Sub-Saharan Africa/C\\u00f4te d'Ivoire/61.0/52.5\", \"Asia-Pacific/Kyrgyz Republic/73.4/79.8\", \"Sub-Saharan Africa/Namibia/65.8/85.1\", \"Middle East and North Africa/Algeria/61.6/49.9\", \"Asia-Pacific/Vanuatu/52.4/58.8\", \"Sub-Saharan Africa/Lesotho/53.3/58.8\", \"Americas/Trinidad and Tobago/67.8/75.6\", \"Sub-Saharan Africa/South Africa/64.3/59.1\", \"Asia-Pacific/Thailand/82.5/63.9\", \"Europe/Norway/89.4/53.7\", \"Americas/Brazil/57.9/51.9\", \"Americas/Colombia/71.4/78.5\", \"Americas/Mexico/67.8/58.6\", \"Middle East and North Africa/Tunisia/76.7/50.3\", \"Europe/Georgia/85.8/76.6\", \"Europe/Belgium/78.1/61.0\", \"Sub-Saharan Africa/Rwanda/56.2/82.2\", \"Asia-Pacific/Macau/60.0/50.0\", \"Asia-Pacific/Brunei Darussalam/80.2/90.8\", \"Americas/United States/83.8/89.4\", \"Sub-Saharan Africa/Niger/56.3/48.2\", \"Asia-Pacific/Afghanistan/49.2/60.4\", \"Americas/Guyana/59.3/62.0\", \"Americas/Guatemala/53.6/48.7\", \"Americas/Canada/81.9/73.7\", \"Asia-Pacific/Indonesia/69.3/49.3\", \"Middle East and North Africa/Oman/75.2/57.3\", \"Europe/Armenia/78.3/71.4\", \"Asia-Pacific/Mongolia/66.0/75.0\", \"Europe/Germany/83.3/52.8\", \"Middle East and North Africa/Lebanon/47.9/46.5\", \"Sub-Saharan Africa/Guinea-Bissau/35.9/61.2\", \"Middle East and North Africa/Saudi Arabia/72.3/63.3\", \"Americas/Bahamas/68.5/67.5\", \"Sub-Saharan Africa/Senegal/53.3/39.4\", \"Europe/Malta/67.1/61.3\", \"Americas/Barbados/69.8/59.9\", \"Europe/Kosovo/73.8/64.9\", \"Middle East and North Africa/Qatar/71.2/65.9\", \"Europe/Croatia/60.7/44.0\", \"Asia-Pacific/Laos/60.1/60.1\", \"Europe/Slovakia/61.3/53.4\", \"Asia-Pacific/Malaysia/83.9/74.4\", \"Americas/Belize/61.8/54.8\", \"Europe/Macedonia/80.2/71.5\", \"Sub-Saharan Africa/Botswana/68.7/68.2\", \"Americas/El Salvador/57.2/53.1\", \"Europe/France/81.2/45.2\", \"Sub-Saharan Africa/Togo/50.4/46.7\", \"Europe/Greece/74.1/52.5\", \"Americas/Panama/73.6/43.4\", \"Sub-Saharan Africa/Mauritius/79.8/60.8\", \"Asia-Pacific/Cambodia/29.9/63.0\", \"Asia-Pacific/Timor-Leste/60.5/58.8\", \"Europe/Estonia/75.3/57.2\", \"Americas/Dominican Republic/51.9/57.6\", \"Sub-Saharan Africa/Gabon/52.1/53.0\", \"Sub-Saharan Africa/Seychelles/63.3/63.2\", \"Europe/Serbia/72.9/67.4\", \"Sub-Saharan Africa/Uganda/46.3/83.2\", \"Middle East and North Africa/United Arab Emirates/79.9/81.1\", \"Asia-Pacific/Maldives/78.3/70.8\", \"Asia-Pacific/Kiribati/41.9/50.7\", \"Europe/Latvia/77.5/73.3\", \"Sub-Saharan Africa/Mauritania/61.9/51.5\", \"Europe/United Kingdom/92.9/73.5\", \"Europe/Albania/69.3/52.7\", \"Europe/Austria/74.9/68.7\", \"Europe/Czech Republic/72.4/78.1\", \"Sub-Saharan Africa/Mali/53.8/52.2\", \"Middle East and North Africa/Bahrain/71.4/71.1\", \"Europe/Montenegro/73.3/73.4\", \"Europe/Iceland/88.4/64.1\", \"Europe/Hungary/61.1/64.7\", \"Europe/Sweden/88.0/53.9\", \"Asia-Pacific/Korea, South/91.3/57.4\", \"Europe/Poland/65.4/63.9\", \"Americas/Saint Vincent and the Grenadines/76.5/73.5\", \"Sub-Saharan Africa/Chad/28.1/43.2\", \"Sub-Saharan Africa/Congo, Republic of/38.2/35.8\", \"Europe/Luxembourg/68.8/45.9\", \"Americas/Jamaica/78.0/73.6\", \"Europe/Romania/63.1/64.5\", \"Sub-Saharan Africa/Comoros/57.2/60.3\", \"Europe/Portugal/79.7/44.3\", \"Europe/Bosnia and Herzegovina/49.7/67.0\", \"Americas/Costa Rica/67.2/55.2\", \"Middle East and North Africa/Morocco/70.3/33.1\", \"Asia-Pacific/Samoa/77.0/78.2\", \"Europe/Slovenia/79.3/61.2\", \"Sub-Saharan Africa/Equatorial Guinea/37.6/32.7\", \"Americas/Peru/67.8/63.5\", \"Americas/Saint Lucia/76.3/69.2\", \"Sub-Saharan Africa/Cameroon/44.4/47.8\", \"Europe/Italy/71.7/51.1\", \"Europe/Cyprus/76.9/59.5\", \"Europe/Netherlands/81.4/60.3\", \"Sub-Saharan Africa/Cabo Verde/65.2/55.7\", \"Europe/Denmark/90.7/86.4\", \"Asia-Pacific/Taiwan /93.2/60.9\", \"Americas/Chile/76.6/65.0\", \"Europe/Lithuania/75.2/63.6\", \"Europe/Finland/89.4/50.3\", \"Middle East and North Africa/Jordan/61.8/52.7\", \"Europe/Switzerland/75.4/72.5\", \"Asia-Pacific/Singapore/90.8/91.0\", \"Americas/Dominica/70.7/60.4\", \"Asia-Pacific/Micronesia/57.4/71.9\", \"Asia-Pacific/Japan/80.5/79.0\", \"Asia-Pacific/Solomon Islands/68.6/72.0\", \"Sub-Saharan Africa/Burkina Faso/51.6/52.3\", \"Middle East and North Africa/Israel/71.4/65.1\", \"Sub-Saharan Africa/Benin/62.4/53.8\", \"Asia-Pacific/Hong Kong/96.4/89.2\", \"Asia-Pacific/Australia/88.3/84.1\", \"Europe/Ireland/83.1/75.3\", \"Europe/Spain/66.8/57.8\", \"Asia-Pacific/New Zealand/91.0/86.7\", \"Europe/Bulgaria/62.7/68.4\", \"Americas/Cuba/20.0\", \"Asia-Pacific/Turkmenistan/30.0\", \"Americas/Venezuela/33.9\", \"Americas/Paraguay/61.5\", \"Sub-Saharan Africa/Sierra Leone/44.9\", \"Americas/Honduras/56.9\", \"Sub-Saharan Africa/Equatorial Guinea/37.6\", \"Middle East and North Africa/Morocco/70.3\", \"Sub-Saharan Africa/Congo, Republic of/38.2\", \"Sub-Saharan Africa/Liberia/50.6\", \"Europe/Moldova/67.0\", \"Sub-Saharan Africa/Senegal/53.3\", \"Sub-Saharan Africa/Central African Republic/24.2\", \"Asia-Pacific/Pakistan/56.1\", \"Asia-Pacific/India/57.1\", \"Sub-Saharan Africa/Congo, Democratic Republic of the Congo/53.2\", \"Sub-Saharan Africa/Mozambique/57.1\", \"Sub-Saharan Africa/S\\u00e3o Tom\\u00e9 and Pr\\u00edncipe/65.1\", \"Sub-Saharan Africa/Chad/28.1\", \"Sub-Saharan Africa/Zimbabwe/33.4\", \"Americas/Panama/73.6\", \"Europe/Croatia/60.7\", \"Europe/Portugal/79.7\", \"Sub-Saharan Africa/Madagascar/47.3\", \"Europe/France/81.2\", \"Europe/Luxembourg/68.8\", \"Sub-Saharan Africa/Zambia/71.1\", \"Middle East and North Africa/Lebanon/47.9\", \"Sub-Saharan Africa/Togo/50.4\", \"Europe/Ukraine/66.1\", \"Americas/Argentina/56.4\", \"Sub-Saharan Africa/Cameroon/44.4\", \"Asia-Pacific/Nepal/61.8\", \"Americas/Ecuador/54.1\", \"Sub-Saharan Africa/Niger/56.3\", \"Americas/Guatemala/53.6\", \"Europe/Turkey/66.0\", \"Asia-Pacific/Tajikistan/67.3\", \"Asia-Pacific/Indonesia/69.3\", \"Middle East and North Africa/Algeria/61.6\", \"Asia-Pacific/Macau/60.0\", \"Middle East and North Africa/Tunisia/76.7\", \"Europe/Finland/89.4\", \"Asia-Pacific/Kiribati/41.9\", \"Middle East and North Africa/Iran/62.2\", \"Europe/Italy/71.7\", \"Sub-Saharan Africa/Mauritania/61.9\", \"Middle East and North Africa/Egypt/65.9\", \"Americas/Brazil/57.9\", \"Sub-Saharan Africa/Mali/53.8\", \"Sub-Saharan Africa/Burkina Faso/51.6\", \"Sub-Saharan Africa/C\\u00f4te d'Ivoire/61.0\", \"Europe/Greece/74.1\", \"Europe/Russia/78.4\", \"Middle East and North Africa/Jordan/61.8\", \"Europe/Albania/69.3\", \"Europe/Germany/83.3\", \"Americas/Bolivia/58.8\", \"Sub-Saharan Africa/Gabon/52.1\", \"Americas/El Salvador/57.2\", \"Europe/Slovakia/61.3\", \"Europe/Norway/89.4\", \"Sub-Saharan Africa/Benin/62.4\", \"Europe/Sweden/88.0\", \"Americas/Belize/61.8\", \"Sub-Saharan Africa/Guinea/54.6\", \"Americas/Costa Rica/67.2\", \"Sub-Saharan Africa/Cabo Verde/65.2\", \"Americas/Nicaragua/56.0\", \"Europe/Estonia/75.3\", \"Middle East and North Africa/Oman/75.2\", \"Asia-Pacific/Korea, South/91.3\", \"Americas/Dominican Republic/51.9\", \"Europe/Spain/66.8\", \"Asia-Pacific/Philippines/61.3\", \"Sub-Saharan Africa/Ethiopia/48.6\", \"Americas/Mexico/67.8\", \"Asia-Pacific/Uzbekistan/72.5\", \"Asia-Pacific/Vanuatu/52.4\", \"Sub-Saharan Africa/Lesotho/53.3\", \"Sub-Saharan Africa/Angola/55.7\", \"Asia-Pacific/Timor-Leste/60.5\", \"Asia-Pacific/Sri Lanka/75.1\", \"Sub-Saharan Africa/Sudan/52.1\", \"Sub-Saharan Africa/South Africa/64.3\", \"Europe/Cyprus/76.9\", \"Sub-Saharan Africa/Ghana/56.5\", \"Americas/Barbados/69.8\", \"Asia-Pacific/Laos/60.1\", \"Sub-Saharan Africa/Comoros/57.2\", \"Europe/Netherlands/81.4\", \"Asia-Pacific/Afghanistan/49.2\", \"Sub-Saharan Africa/Djibouti/54.7\", \"Americas/Dominica/70.7\", \"Sub-Saharan Africa/Mauritius/79.8\", \"Asia-Pacific/Taiwan /93.2\", \"Europe/Belgium/78.1\", \"Sub-Saharan Africa/Guinea-Bissau/35.9\", \"Europe/Slovenia/79.3\", \"Europe/Malta/67.1\", \"Middle East and North Africa/Kuwait/57.4\", \"Americas/Guyana/59.3\", \"Americas/Haiti/36.2\", \"Asia-Pacific/Vietnam/63.5\", \"Asia-Pacific/Cambodia/29.9\", \"Sub-Saharan Africa/Seychelles/63.3\", \"Middle East and North Africa/Saudi Arabia/72.3\", \"Sub-Saharan Africa/Kenya/55.8\", \"Americas/Peru/67.8\", \"Europe/Lithuania/75.2\", \"Europe/Poland/65.4\", \"Asia-Pacific/Azerbaijan/69.5\", \"Asia-Pacific/Thailand/82.5\", \"Sub-Saharan Africa/Malawi/41.7\", \"Europe/Iceland/88.4\", \"Asia-Pacific/China/56.2\", \"Europe/Romania/63.1\", \"Europe/Hungary/61.1\", \"Europe/Kosovo/73.8\", \"Americas/Chile/76.6\", \"Middle East and North Africa/Israel/71.4\", \"Asia-Pacific/Burma/52.8\", \"Middle East and North Africa/Qatar/71.2\", \"Sub-Saharan Africa/Tanzania/46.6\", \"Europe/Bosnia and Herzegovina/49.7\", \"Sub-Saharan Africa/Gambia/54.0\", \"Europe/Serbia/72.9\", \"Sub-Saharan Africa/Burundi/50.3\", \"Sub-Saharan Africa/Eswatini/59.2\", \"Americas/Bahamas/68.5\", \"Asia-Pacific/Bangladesh/50.9\", \"Sub-Saharan Africa/Botswana/68.7\", \"Europe/Bulgaria/62.7\", \"Europe/Austria/74.9\", \"Americas/Saint Lucia/76.3\", \"Asia-Pacific/Tonga/75.3\", \"Sub-Saharan Africa/Eritrea/17.7\", \"Asia-Pacific/Maldives/78.3\", \"Middle East and North Africa/Bahrain/71.4\", \"Europe/Armenia/78.3\", \"Europe/Macedonia/80.2\", \"Asia-Pacific/Micronesia/57.4\", \"Americas/Uruguay/74.3\", \"Asia-Pacific/Solomon Islands/68.6\", \"Europe/Switzerland/75.4\", \"Asia-Pacific/Papua New Guinea/62.2\", \"Asia-Pacific/Fiji/63.0\", \"Europe/Latvia/77.5\", \"Europe/Montenegro/73.3\", \"Americas/Suriname/48.3\", \"Americas/Saint Vincent and the Grenadines/76.5\", \"Europe/United Kingdom/92.9\", \"Americas/Jamaica/78.0\", \"Americas/Canada/81.9\", \"Asia-Pacific/Malaysia/83.9\", \"Asia-Pacific/Mongolia/66.0\", \"Europe/Belarus/75.0\", \"Europe/Ireland/83.1\", \"Americas/Trinidad and Tobago/67.8\", \"Europe/Georgia/85.8\", \"Europe/Czech Republic/72.4\", \"Asia-Pacific/Samoa/77.0\", \"Americas/Colombia/71.4\", \"Asia-Pacific/Japan/80.5\", \"Asia-Pacific/Bhutan/68.7\", \"Asia-Pacific/Kyrgyz Republic/73.4\", \"Middle East and North Africa/United Arab Emirates/79.9\", \"Sub-Saharan Africa/Rwanda/56.2\", \"Sub-Saharan Africa/Uganda/46.3\", \"Sub-Saharan Africa/Nigeria/51.2\", \"Asia-Pacific/Australia/88.3\", \"Sub-Saharan Africa/Namibia/65.8\", \"Asia-Pacific/Kazakhstan/73.9\", \"Europe/Denmark/90.7\", \"Asia-Pacific/New Zealand/91.0\", \"Asia-Pacific/Hong Kong/96.4\", \"Americas/United States/83.8\", \"Asia-Pacific/Brunei Darussalam/80.2\", \"Asia-Pacific/Singapore/90.8\", \"Sub-Saharan Africa/Eritrea\", \"Americas/Cuba\", \"Sub-Saharan Africa/Central African Republic\", \"Sub-Saharan Africa/Chad\", \"Asia-Pacific/Cambodia\", \"Asia-Pacific/Turkmenistan\", \"Sub-Saharan Africa/Zimbabwe\", \"Americas/Venezuela\", \"Sub-Saharan Africa/Guinea-Bissau\", \"Americas/Haiti\", \"Sub-Saharan Africa/Equatorial Guinea\", \"Sub-Saharan Africa/Congo, Republic of\", \"Sub-Saharan Africa/Malawi\", \"Asia-Pacific/Kiribati\", \"Sub-Saharan Africa/Cameroon\", \"Sub-Saharan Africa/Sierra Leone\", \"Sub-Saharan Africa/Uganda\", \"Sub-Saharan Africa/Tanzania\", \"Sub-Saharan Africa/Madagascar\", \"Middle East and North Africa/Lebanon\", \"Americas/Suriname\", \"Sub-Saharan Africa/Ethiopia\", \"Asia-Pacific/Afghanistan\", \"Europe/Bosnia and Herzegovina\", \"Sub-Saharan Africa/Burundi\", \"Sub-Saharan Africa/Togo\", \"Sub-Saharan Africa/Liberia\", \"Asia-Pacific/Bangladesh\", \"Sub-Saharan Africa/Nigeria\", \"Sub-Saharan Africa/Burkina Faso\", \"Americas/Dominican Republic\", \"Sub-Saharan Africa/Gabon\", \"Sub-Saharan Africa/Sudan\", \"Asia-Pacific/Vanuatu\", \"Asia-Pacific/Burma\", \"Sub-Saharan Africa/Congo, Democratic Republic of the Congo\", \"Sub-Saharan Africa/Lesotho\", \"Sub-Saharan Africa/Senegal\", \"Americas/Guatemala\", \"Sub-Saharan Africa/Mali\", \"Sub-Saharan Africa/Gambia\", \"Americas/Ecuador\", \"Sub-Saharan Africa/Guinea\", \"Sub-Saharan Africa/Djibouti\", \"Sub-Saharan Africa/Angola\", \"Sub-Saharan Africa/Kenya\", \"Americas/Nicaragua\", \"Asia-Pacific/Pakistan\", \"Asia-Pacific/China\", \"Sub-Saharan Africa/Rwanda\", \"Sub-Saharan Africa/Niger\", \"Americas/Argentina\", \"Sub-Saharan Africa/Ghana\", \"Americas/Honduras\", \"Asia-Pacific/India\", \"Sub-Saharan Africa/Mozambique\", \"Sub-Saharan Africa/Comoros\", \"Americas/El Salvador\", \"Middle East and North Africa/Kuwait\", \"Asia-Pacific/Micronesia\", \"Americas/Brazil\", \"Americas/Bolivia\", \"Sub-Saharan Africa/Eswatini\", \"Americas/Guyana\", \"Asia-Pacific/Macau\", \"Asia-Pacific/Laos\", \"Asia-Pacific/Timor-Leste\", \"Europe/Croatia\", \"Sub-Saharan Africa/C\\u00f4te d'Ivoire\", \"Europe/Hungary\", \"Asia-Pacific/Philippines\", \"Europe/Slovakia\", \"Americas/Paraguay\", \"Middle East and North Africa/Algeria\", \"Americas/Belize\", \"Middle East and North Africa/Jordan\", \"Asia-Pacific/Nepal\", \"Sub-Saharan Africa/Mauritania\", \"Middle East and North Africa/Iran\", \"Asia-Pacific/Papua New Guinea\", \"Sub-Saharan Africa/Benin\", \"Europe/Bulgaria\", \"Asia-Pacific/Fiji\", \"Europe/Romania\", \"Sub-Saharan Africa/Seychelles\", \"Asia-Pacific/Vietnam\", \"Sub-Saharan Africa/South Africa\", \"Sub-Saharan Africa/S\\u00e3o Tom\\u00e9 and Pr\\u00edncipe\", \"Sub-Saharan Africa/Cabo Verde\", \"Europe/Poland\", \"Sub-Saharan Africa/Namibia\", \"Middle East and North Africa/Egypt\", \"Asia-Pacific/Mongolia\", \"Europe/Turkey\", \"Europe/Ukraine\", \"Europe/Spain\", \"Europe/Moldova\", \"Europe/Malta\", \"Americas/Costa Rica\", \"Asia-Pacific/Tajikistan\", \"Americas/Mexico\", \"Americas/Peru\", \"Americas/Trinidad and Tobago\", \"Americas/Bahamas\", \"Asia-Pacific/Solomon Islands\", \"Asia-Pacific/Bhutan\", \"Sub-Saharan Africa/Botswana\", \"Europe/Luxembourg\", \"Europe/Albania\", \"Asia-Pacific/Indonesia\", \"Asia-Pacific/Azerbaijan\", \"Americas/Barbados\", \"Middle East and North Africa/Morocco\", \"Americas/Dominica\", \"Sub-Saharan Africa/Zambia\", \"Middle East and North Africa/Qatar\", \"Middle East and North Africa/Bahrain\", \"Americas/Colombia\", \"Middle East and North Africa/Israel\", \"Europe/Italy\", \"Middle East and North Africa/Saudi Arabia\", \"Europe/Czech Republic\", \"Asia-Pacific/Uzbekistan\", \"Europe/Serbia\", \"Europe/Montenegro\", \"Asia-Pacific/Kyrgyz Republic\", \"Americas/Panama\", \"Europe/Kosovo\", \"Asia-Pacific/Kazakhstan\", \"Europe/Greece\", \"Americas/Uruguay\", \"Europe/Austria\", \"Europe/Belarus\", \"Asia-Pacific/Sri Lanka\", \"Europe/Lithuania\", \"Middle East and North Africa/Oman\", \"Europe/Estonia\", \"Asia-Pacific/Tonga\", \"Europe/Switzerland\", \"Americas/Saint Lucia\", \"Americas/Saint Vincent and the Grenadines\", \"Americas/Chile\", \"Middle East and North Africa/Tunisia\", \"Europe/Cyprus\", \"Asia-Pacific/Samoa\", \"Europe/Latvia\", \"Americas/Jamaica\", \"Europe/Belgium\", \"Europe/Armenia\", \"Asia-Pacific/Maldives\", \"Europe/Russia\", \"Europe/Slovenia\", \"Europe/Portugal\", \"Sub-Saharan Africa/Mauritius\", \"Middle East and North Africa/United Arab Emirates\", \"Asia-Pacific/Brunei Darussalam\", \"Europe/Macedonia\", \"Asia-Pacific/Japan\", \"Europe/France\", \"Europe/Netherlands\", \"Americas/Canada\", \"Asia-Pacific/Thailand\", \"Europe/Ireland\", \"Europe/Germany\", \"Americas/United States\", \"Asia-Pacific/Malaysia\", \"Europe/Georgia\", \"Europe/Sweden\", \"Asia-Pacific/Australia\", \"Europe/Iceland\", \"Europe/Finland\", \"Europe/Norway\", \"Europe/Denmark\", \"Asia-Pacific/Singapore\", \"Asia-Pacific/New Zealand\", \"Asia-Pacific/Korea, South\", \"Europe/United Kingdom\", \"Asia-Pacific/Taiwan \", \"Asia-Pacific/Hong Kong\", \"Asia-Pacific\", \"Europe\", \"Middle East and North Africa\", \"Sub-Saharan Africa\", \"Americas\", \"Europe\", \"Asia-Pacific\", \"Europe\", \"Asia-Pacific\", \"Americas\", \"Middle East and North Africa\", \"Asia-Pacific\", \"Americas\", \"Europe\", \"Europe\", \"Americas\", \"Sub-Saharan Africa\", \"Asia-Pacific\", \"Americas\", \"Europe\", \"Sub-Saharan Africa\", \"Americas\", \"Asia-Pacific\", \"Europe\", \"Sub-Saharan Africa\", \"Asia-Pacific\", \"Sub-Saharan Africa\", \"Sub-Saharan Africa\", \"Asia-Pacific\", \"Sub-Saharan Africa\", \"Americas\", \"Sub-Saharan Africa\", \"Sub-Saharan Africa\", \"Americas\", \"Asia-Pacific\", \"Americas\", \"Sub-Saharan Africa\", \"Sub-Saharan Africa\", \"Sub-Saharan Africa\", \"Americas\", \"Europe\", \"Americas\", \"Europe\", \"Europe\", \"Sub-Saharan Africa\", \"Europe\", \"Sub-Saharan Africa\", \"Americas\", \"Americas\", \"Americas\", \"Middle East and North Africa\", \"Americas\", \"Sub-Saharan Africa\", \"Sub-Saharan Africa\", \"Europe\", \"Sub-Saharan Africa\", \"Sub-Saharan Africa\", \"Asia-Pacific\", \"Europe\", \"Europe\", \"Sub-Saharan Africa\", \"Sub-Saharan Africa\", \"Europe\", \"Europe\", \"Sub-Saharan Africa\", \"Europe\", \"Americas\", \"Sub-Saharan Africa\", \"Sub-Saharan Africa\", \"Americas\", \"Americas\", \"Americas\", \"Asia-Pacific\", \"Europe\", \"Europe\", \"Asia-Pacific\", \"Asia-Pacific\", \"Middle East and North Africa\", \"Europe\", \"Middle East and North Africa\", \"Europe\", \"Americas\", \"Asia-Pacific\", \"Middle East and North Africa\", \"Asia-Pacific\", \"Sub-Saharan Africa\", \"Asia-Pacific\", \"Asia-Pacific\", \"Europe\", \"Middle East and North Africa\", \"Asia-Pacific\", \"Asia-Pacific\", \"Europe\", \"Middle East and North Africa\", \"Sub-Saharan Africa\", \"Sub-Saharan Africa\", \"Europe\", \"Europe\", \"Asia-Pacific\", \"Europe\", \"Sub-Saharan Africa\", \"Sub-Saharan Africa\", \"Asia-Pacific\", \"Asia-Pacific\", \"Sub-Saharan Africa\", \"Europe\", \"Sub-Saharan Africa\", \"Sub-Saharan Africa\", \"Americas\", \"Asia-Pacific\", \"Europe\", \"Asia-Pacific\", \"Europe\", \"Middle East and North Africa\", \"Sub-Saharan Africa\", \"Sub-Saharan Africa\", \"Asia-Pacific\", \"Europe\", \"Asia-Pacific\", \"Americas\", \"Sub-Saharan Africa\", \"Sub-Saharan Africa\", \"Europe\", \"Middle East and North Africa\", \"Asia-Pacific\", \"Americas\", \"Asia-Pacific\", \"Americas\", \"Americas\", \"Asia-Pacific\", \"Europe\", \"Europe\", \"Middle East and North Africa\", \"Europe\", \"Europe\", \"Sub-Saharan Africa\", \"Americas\", \"Americas\", \"Asia-Pacific\", \"Middle East and North Africa\", \"Sub-Saharan Africa\", \"Europe\", \"Sub-Saharan Africa\", \"Sub-Saharan Africa\", \"Asia-Pacific\", \"Europe\", \"Europe\", \"Asia-Pacific\", \"Sub-Saharan Africa\", \"Europe\", \"Asia-Pacific\", \"Sub-Saharan Africa\", \"Americas\", \"Europe\", \"Europe\", \"Sub-Saharan Africa\", \"Asia-Pacific\", \"Asia-Pacific\", \"Sub-Saharan Africa\", \"Asia-Pacific\", \"Asia-Pacific\", \"Sub-Saharan Africa\", \"Asia-Pacific\", \"Americas\", \"Middle East and North Africa\", \"Europe\", \"Asia-Pacific\", \"Sub-Saharan Africa\", \"Europe\", \"Middle East and North Africa\", \"Europe\", \"Americas\", \"Americas\", \"Asia-Pacific\", \"Asia-Pacific\", \"Americas\", \"Asia-Pacific\", \"Sub-Saharan Africa\", \"Sub-Saharan Africa\", \"\", \"\", \"\", \"\", \"\"], \"type\": \"sunburst\", \"values\": [47.7, 49.9, 62.9, 41.0, 47.1, 49.1, 56.3, 47.3, 52.4, 51.1, 54.0, 64.7, 39.7, 54.6, 25.9, 49.7, 53.8, 55.1, 53.6, 50.6, 52.4, 55.3, 57.3, 50.3, 53.3, 53.2, 55.7, 62.2, 55.7, 57.5, 55.6, 62.2, 27.8, 55.4, 54.0, 56.4, 48.1, 55.0, 59.4, 57.8, 51.6, 51.5, 46.9, 65.8, 56.8, 46.2, 60.2, 48.9, 63.1, 63.6, 57.0, 68.6, 51.9, 38.9, 56.6, 47.5, 50.3, 58.1, 52.2, 40.4, 55.4, 42.3, 71.1, 53.6, 67.0, 55.4, 52.5, 52.7, 56.3, 55.2, 53.6, 58.4, 68.7, 55.6, 57.7, 62.4, 65.4, 52.3, 44.2, 51.4, 59.7, 55.4, 61.0, 57.7, 48.4, 58.3, 67.3, 60.7, 56.4, 57.9, 61.8, 63.9, 62.9, 58.9, 48.6, 59.1, 63.8, 68.6, 62.3, 60.8, 51.1, 55.3, 67.2, 62.9, 60.2, 64.6, 65.8, 65.4, 72.1, 72.3, 51.9, 67.7, 58.4, 53.1, 63.8, 57.7, 64.7, 61.8, 61.4, 65.3, 66.5, 57.4, 74.0, 71.1, 62.6, 61.9, 58.7, 68.3, 73.0, 72.6, 69.5, 66.4, 65.1, 77.6, 72.8, 60.5, 67.3, 73.5, 68.6, 61.4, 65.0, 76.6, 70.4, 78.9, 72.0, 73.7, 65.0, 75.2, 67.8, 75.9, 68.6, 65.3, 65.5, 62.2, 68.1, 76.8, 76.7, 74.2, 74.9, 80.5, 65.7, 69.0, 67.8, 76.8, 77.7, 61.0, 77.1, 77.3, 81.9, 54.7, 80.9, 66.5, 73.0, 75.9, 75.4, 71.0, 84.4, 89.4, 90.2, 25.9, 50.3, 50.6, 48.1, 47.7, 52.3, 53.3, 51.1, 52.2, 53.6, 38.9, 48.9, 52.5, 52.4, 65.4, 47.5, 57.3, 58.9, 48.6, 51.4, 27.8, 57.5, 55.7, 52.7, 57.9, 55.6, 42.3, 49.7, 55.3, 53.8, 57.7, 63.8, 53.6, 55.6, 64.6, 58.4, 56.4, 53.6, 60.2, 54.0, 60.8, 65.4, 58.4, 49.1, 55.2, 40.4, 56.6, 55.0, 62.9, 57.7, 47.1, 55.1, 61.8, 68.6, 60.2, 48.4, 59.1, 46.9, 62.2, 54.7, 62.4, 62.3, 58.7, 46.2, 56.4, 53.1, 57.0, 58.3, 68.3, 73.0, 51.9, 67.3, 64.7, 55.4, 75.9, 67.3, 71.1, 71.0, 65.1, 76.8, 51.6, 51.5, 56.8, 62.6, 77.7, 65.8, 61.0, 67.7, 55.4, 73.5, 51.1, 54.0, 60.7, 62.9, 56.3, 68.6, 64.7, 67.0, 72.6, 61.4, 57.4, 65.0, 74.0, 55.4, 71.1, 69.5, 61.8, 63.8, 50.3, 57.7, 67.2, 73.0, 57.8, 44.2, 76.6, 61.0, 56.3, 61.4, 63.9, 59.7, 77.6, 53.2, 47.3, 70.4, 55.7, 78.9, 66.5, 72.0, 73.7, 58.1, 66.4, 60.5, 77.1, 65.0, 75.2, 72.3, 67.8, 65.8, 49.9, 39.7, 75.9, 68.6, 68.6, 55.4, 65.3, 61.9, 65.3, 62.9, 62.2, 65.5, 41.0, 67.8, 68.7, 52.4, 62.2, 68.1, 76.8, 63.1, 76.7, 77.3, 75.4, 74.2, 74.9, 66.5, 81.9, 89.4, 63.6, 51.9, 72.1, 54.6, 59.4, 72.8, 55.3, 90.2, 80.9, 80.5, 65.7, 84.4, 69.0, 27.8, 48.4, 25.9, 61.8, 47.5, 60.2, 41.0, 62.9, 39.7, 49.7, 59.1, 56.3, 49.1, 55.0, 55.2, 50.3, 48.6, 54.0, 49.9, 40.4, 67.2, 61.4, 65.3, 56.6, 63.8, 75.9, 53.6, 51.1, 50.3, 52.3, 52.2, 52.4, 53.8, 46.9, 51.6, 62.6, 64.6, 55.6, 65.8, 46.2, 71.0, 55.4, 74.9, 47.3, 51.1, 62.2, 55.7, 52.5, 51.9, 58.1, 59.4, 62.4, 57.7, 58.9, 66.5, 66.5, 73.5, 42.3, 56.3, 61.8, 65.0, 73.0, 55.3, 75.2, 55.4, 55.7, 65.3, 63.1, 57.7, 76.6, 61.0, 72.3, 61.0, 65.7, 63.8, 53.6, 64.7, 53.3, 56.4, 53.1, 50.6, 44.2, 56.4, 47.7, 58.3, 68.1, 57.5, 64.7, 57.4, 55.4, 76.8, 51.5, 47.1, 63.6, 73.0, 77.3, 67.3, 54.0, 65.5, 68.6, 60.8, 56.8, 52.7, 55.3, 57.8, 61.4, 60.7, 55.1, 67.8, 74.2, 67.8, 65.4, 68.3, 51.4, 77.1, 58.4, 68.6, 65.0, 67.0, 75.4, 72.8, 53.6, 72.6, 60.2, 61.9, 52.4, 63.9, 48.9, 54.7, 62.9, 55.6, 69.5, 69.0, 72.0, 68.7, 57.7, 38.9, 53.2, 66.4, 67.7, 71.1, 51.9, 68.6, 54.6, 81.9, 58.4, 62.2, 70.4, 60.5, 48.1, 65.8, 78.9, 68.6, 77.7, 74.0, 55.4, 57.9, 80.5, 57.0, 75.9, 73.7, 62.2, 67.3, 72.1, 62.9, 62.3, 77.6, 71.1, 59.7, 57.3, 80.9, 58.7, 65.4, 76.7, 84.4, 90.2, 76.8, 65.1, 89.4, 38.9, 27.8, 49.1, 49.9, 57.8, 48.4, 40.4, 25.9, 54.0, 52.7, 41.0, 39.7, 51.4, 47.3, 52.4, 47.5, 59.7, 60.2, 56.6, 51.1, 48.1, 53.6, 51.5, 61.9, 48.9, 50.3, 49.7, 55.6, 57.3, 59.4, 61.0, 56.3, 47.7, 56.4, 53.6, 50.3, 53.1, 56.3, 62.6, 58.1, 52.4, 46.9, 55.7, 47.1, 50.6, 55.1, 57.7, 55.0, 58.4, 71.1, 51.6, 52.2, 57.5, 60.2, 55.2, 48.6, 55.4, 61.8, 60.8, 51.9, 51.9, 42.3, 54.7, 56.8, 71.0, 57.4, 44.2, 61.4, 62.4, 65.0, 63.8, 65.0, 61.8, 46.2, 55.4, 66.5, 53.8, 55.7, 51.1, 58.4, 55.3, 69.0, 62.2, 68.6, 61.4, 55.3, 58.3, 54.0, 63.1, 67.8, 58.7, 52.5, 55.4, 64.6, 52.3, 65.7, 59.1, 68.6, 65.3, 55.6, 64.7, 67.8, 57.0, 62.9, 54.6, 62.9, 69.5, 75.9, 66.5, 65.8, 65.4, 64.7, 62.9, 63.6, 53.6, 72.6, 66.4, 67.3, 72.8, 62.2, 60.7, 73.7, 53.3, 63.9, 60.5, 62.3, 67.2, 67.0, 65.4, 57.7, 68.6, 72.0, 57.9, 56.4, 74.2, 61.0, 76.6, 57.7, 81.9, 68.7, 65.8, 75.4, 55.4, 68.1, 62.2, 70.4, 68.6, 67.3, 67.7, 53.2, 58.9, 65.5, 65.3, 73.0, 77.6, 65.1, 71.1, 72.1, 63.8, 76.8, 77.7, 68.3, 80.5, 73.5, 76.8, 74.0, 75.9, 75.2, 80.9, 77.1, 74.9, 73.0, 76.7, 89.4, 84.4, 72.3, 78.9, 77.3, 90.2, 51.5, 66.5, 46.2, 50.6, 52.2, 67.7, 80.9, 72.0, 65.4, 62.9, 66.4, 55.6, 64.7, 57.9, 67.3, 55.4, 55.3, 62.9, 42.3, 61.9, 69.5, 51.9, 65.1, 69.0, 59.4, 53.6, 48.9, 63.1, 57.8, 52.4, 77.7, 49.1, 49.9, 75.4, 58.4, 67.3, 55.4, 50.3, 39.7, 65.3, 61.4, 27.8, 68.1, 73.7, 62.4, 76.7, 47.1, 63.6, 61.0, 46.9, 52.5, 61.8, 41.0, 38.9, 76.6, 54.7, 53.6, 62.2, 74.9, 63.8, 56.3, 52.4, 75.9, 73.5, 57.5, 57.7, 62.6, 55.7, 54.0, 56.8, 52.7, 60.2, 90.2, 65.0, 77.1, 55.2, 65.8, 51.1, 80.5, 72.8, 62.2, 68.6, 72.1, 66.5, 65.4, 55.1, 47.3, 72.3, 67.0, 60.8, 62.3, 57.4, 70.4, 51.1, 53.1, 49.7, 74.2, 75.9, 71.0, 71.1, 56.6, 51.4, 74.0, 53.2, 58.1, 68.6, 55.7, 73.0, 64.7, 51.9, 59.1, 55.4, 60.5, 62.9, 48.6, 58.7, 53.8, 76.8, 84.4, 57.7, 51.6, 57.3, 73.0, 61.0, 55.0, 67.2, 58.4, 61.8, 67.8, 63.8, 67.8, 65.3, 72.6, 68.6, 58.9, 71.1, 68.7, 65.8, 62.2, 60.7, 56.3, 63.9, 61.4, 47.5, 89.4, 65.0, 65.5, 54.6, 58.3, 65.7, 56.4, 47.7, 48.1, 75.2, 81.9, 54.0, 77.3, 55.6, 60.2, 68.3, 44.2, 50.3, 57.7, 57.0, 55.4, 64.6, 48.4, 59.7, 52.3, 77.6, 78.9, 76.8, 68.6, 53.3, 56.4, 25.9, 55.3, 53.6, 40.4, 1907.1999999999998, 2601.4000000000005, 3019.5999999999995, 857.6, 2546.5999999999995]}],\n",
       "                        {\"coloraxis\": {\"cmid\": 81.44116570926786, \"colorbar\": {\"title\": {\"text\": \"World_Rank\"}}, \"colorscale\": [[0.0, \"rgb(103,0,31)\"], [0.1, \"rgb(178,24,43)\"], [0.2, \"rgb(214,96,77)\"], [0.3, \"rgb(244,165,130)\"], [0.4, \"rgb(253,219,199)\"], [0.5, \"rgb(247,247,247)\"], [0.6, \"rgb(209,229,240)\"], [0.7, \"rgb(146,197,222)\"], [0.8, \"rgb(67,147,195)\"], [0.9, \"rgb(33,102,172)\"], [1.0, \"rgb(5,48,97)\"]]}, \"legend\": {\"tracegroupgap\": 0}, \"margin\": {\"t\": 60}, \"template\": {\"data\": {\"bar\": [{\"error_x\": {\"color\": \"#2a3f5f\"}, \"error_y\": {\"color\": \"#2a3f5f\"}, \"marker\": {\"line\": {\"color\": \"#E5ECF6\", \"width\": 0.5}}, \"type\": \"bar\"}], \"barpolar\": [{\"marker\": {\"line\": {\"color\": \"#E5ECF6\", \"width\": 0.5}}, \"type\": \"barpolar\"}], \"carpet\": [{\"aaxis\": {\"endlinecolor\": \"#2a3f5f\", \"gridcolor\": \"white\", \"linecolor\": \"white\", \"minorgridcolor\": \"white\", \"startlinecolor\": \"#2a3f5f\"}, \"baxis\": {\"endlinecolor\": \"#2a3f5f\", \"gridcolor\": \"white\", \"linecolor\": \"white\", \"minorgridcolor\": \"white\", \"startlinecolor\": \"#2a3f5f\"}, \"type\": \"carpet\"}], \"choropleth\": [{\"colorbar\": {\"outlinewidth\": 0, \"ticks\": \"\"}, \"type\": \"choropleth\"}], \"contour\": [{\"colorbar\": {\"outlinewidth\": 0, \"ticks\": \"\"}, \"colorscale\": [[0.0, \"#0d0887\"], [0.1111111111111111, \"#46039f\"], [0.2222222222222222, \"#7201a8\"], [0.3333333333333333, \"#9c179e\"], [0.4444444444444444, \"#bd3786\"], [0.5555555555555556, \"#d8576b\"], [0.6666666666666666, \"#ed7953\"], [0.7777777777777778, \"#fb9f3a\"], [0.8888888888888888, \"#fdca26\"], [1.0, \"#f0f921\"]], \"type\": \"contour\"}], \"contourcarpet\": [{\"colorbar\": {\"outlinewidth\": 0, \"ticks\": \"\"}, \"type\": \"contourcarpet\"}], \"heatmap\": [{\"colorbar\": {\"outlinewidth\": 0, \"ticks\": \"\"}, \"colorscale\": [[0.0, \"#0d0887\"], [0.1111111111111111, \"#46039f\"], [0.2222222222222222, \"#7201a8\"], [0.3333333333333333, \"#9c179e\"], [0.4444444444444444, \"#bd3786\"], [0.5555555555555556, \"#d8576b\"], [0.6666666666666666, \"#ed7953\"], [0.7777777777777778, \"#fb9f3a\"], [0.8888888888888888, \"#fdca26\"], [1.0, \"#f0f921\"]], \"type\": \"heatmap\"}], \"heatmapgl\": [{\"colorbar\": {\"outlinewidth\": 0, \"ticks\": \"\"}, \"colorscale\": [[0.0, \"#0d0887\"], [0.1111111111111111, \"#46039f\"], [0.2222222222222222, \"#7201a8\"], [0.3333333333333333, \"#9c179e\"], [0.4444444444444444, \"#bd3786\"], [0.5555555555555556, \"#d8576b\"], [0.6666666666666666, \"#ed7953\"], [0.7777777777777778, \"#fb9f3a\"], [0.8888888888888888, \"#fdca26\"], [1.0, \"#f0f921\"]], \"type\": \"heatmapgl\"}], \"histogram\": [{\"marker\": {\"colorbar\": {\"outlinewidth\": 0, \"ticks\": \"\"}}, \"type\": \"histogram\"}], \"histogram2d\": [{\"colorbar\": {\"outlinewidth\": 0, \"ticks\": \"\"}, \"colorscale\": [[0.0, \"#0d0887\"], [0.1111111111111111, \"#46039f\"], [0.2222222222222222, \"#7201a8\"], [0.3333333333333333, \"#9c179e\"], [0.4444444444444444, \"#bd3786\"], [0.5555555555555556, \"#d8576b\"], [0.6666666666666666, \"#ed7953\"], [0.7777777777777778, \"#fb9f3a\"], [0.8888888888888888, \"#fdca26\"], [1.0, \"#f0f921\"]], \"type\": \"histogram2d\"}], \"histogram2dcontour\": [{\"colorbar\": {\"outlinewidth\": 0, \"ticks\": \"\"}, \"colorscale\": [[0.0, \"#0d0887\"], [0.1111111111111111, \"#46039f\"], [0.2222222222222222, \"#7201a8\"], [0.3333333333333333, \"#9c179e\"], [0.4444444444444444, \"#bd3786\"], [0.5555555555555556, \"#d8576b\"], [0.6666666666666666, \"#ed7953\"], [0.7777777777777778, \"#fb9f3a\"], [0.8888888888888888, \"#fdca26\"], [1.0, \"#f0f921\"]], \"type\": \"histogram2dcontour\"}], \"mesh3d\": [{\"colorbar\": {\"outlinewidth\": 0, \"ticks\": \"\"}, \"type\": \"mesh3d\"}], \"parcoords\": [{\"line\": {\"colorbar\": {\"outlinewidth\": 0, \"ticks\": \"\"}}, \"type\": \"parcoords\"}], \"pie\": [{\"automargin\": true, \"type\": \"pie\"}], \"scatter\": [{\"marker\": {\"colorbar\": {\"outlinewidth\": 0, \"ticks\": \"\"}}, \"type\": \"scatter\"}], \"scatter3d\": [{\"line\": {\"colorbar\": {\"outlinewidth\": 0, \"ticks\": \"\"}}, \"marker\": {\"colorbar\": {\"outlinewidth\": 0, \"ticks\": \"\"}}, \"type\": \"scatter3d\"}], \"scattercarpet\": [{\"marker\": {\"colorbar\": {\"outlinewidth\": 0, \"ticks\": \"\"}}, \"type\": \"scattercarpet\"}], \"scattergeo\": [{\"marker\": {\"colorbar\": {\"outlinewidth\": 0, \"ticks\": \"\"}}, \"type\": \"scattergeo\"}], \"scattergl\": [{\"marker\": {\"colorbar\": {\"outlinewidth\": 0, \"ticks\": \"\"}}, \"type\": \"scattergl\"}], \"scattermapbox\": [{\"marker\": {\"colorbar\": {\"outlinewidth\": 0, \"ticks\": \"\"}}, \"type\": \"scattermapbox\"}], \"scatterpolar\": [{\"marker\": {\"colorbar\": {\"outlinewidth\": 0, \"ticks\": \"\"}}, \"type\": \"scatterpolar\"}], \"scatterpolargl\": [{\"marker\": {\"colorbar\": {\"outlinewidth\": 0, \"ticks\": \"\"}}, \"type\": \"scatterpolargl\"}], \"scatterternary\": [{\"marker\": {\"colorbar\": {\"outlinewidth\": 0, \"ticks\": \"\"}}, \"type\": \"scatterternary\"}], \"surface\": [{\"colorbar\": {\"outlinewidth\": 0, \"ticks\": \"\"}, \"colorscale\": [[0.0, \"#0d0887\"], [0.1111111111111111, \"#46039f\"], [0.2222222222222222, \"#7201a8\"], [0.3333333333333333, \"#9c179e\"], [0.4444444444444444, \"#bd3786\"], [0.5555555555555556, \"#d8576b\"], [0.6666666666666666, \"#ed7953\"], [0.7777777777777778, \"#fb9f3a\"], [0.8888888888888888, \"#fdca26\"], [1.0, \"#f0f921\"]], \"type\": \"surface\"}], \"table\": [{\"cells\": {\"fill\": {\"color\": \"#EBF0F8\"}, \"line\": {\"color\": \"white\"}}, \"header\": {\"fill\": {\"color\": \"#C8D4E3\"}, \"line\": {\"color\": \"white\"}}, \"type\": \"table\"}]}, \"layout\": {\"annotationdefaults\": {\"arrowcolor\": \"#2a3f5f\", \"arrowhead\": 0, \"arrowwidth\": 1}, \"coloraxis\": {\"colorbar\": {\"outlinewidth\": 0, \"ticks\": \"\"}}, \"colorscale\": {\"diverging\": [[0, \"#8e0152\"], [0.1, \"#c51b7d\"], [0.2, \"#de77ae\"], [0.3, \"#f1b6da\"], [0.4, \"#fde0ef\"], [0.5, \"#f7f7f7\"], [0.6, \"#e6f5d0\"], [0.7, \"#b8e186\"], [0.8, \"#7fbc41\"], [0.9, \"#4d9221\"], [1, \"#276419\"]], \"sequential\": [[0.0, \"#0d0887\"], [0.1111111111111111, \"#46039f\"], [0.2222222222222222, \"#7201a8\"], [0.3333333333333333, \"#9c179e\"], [0.4444444444444444, \"#bd3786\"], [0.5555555555555556, \"#d8576b\"], [0.6666666666666666, \"#ed7953\"], [0.7777777777777778, \"#fb9f3a\"], [0.8888888888888888, \"#fdca26\"], [1.0, \"#f0f921\"]], \"sequentialminus\": [[0.0, \"#0d0887\"], [0.1111111111111111, \"#46039f\"], [0.2222222222222222, \"#7201a8\"], [0.3333333333333333, \"#9c179e\"], [0.4444444444444444, \"#bd3786\"], [0.5555555555555556, \"#d8576b\"], [0.6666666666666666, \"#ed7953\"], [0.7777777777777778, \"#fb9f3a\"], [0.8888888888888888, \"#fdca26\"], [1.0, \"#f0f921\"]]}, \"colorway\": [\"#636efa\", \"#EF553B\", \"#00cc96\", \"#ab63fa\", \"#FFA15A\", \"#19d3f3\", \"#FF6692\", \"#B6E880\", \"#FF97FF\", \"#FECB52\"], \"font\": {\"color\": \"#2a3f5f\"}, \"geo\": {\"bgcolor\": \"white\", \"lakecolor\": \"white\", \"landcolor\": \"#E5ECF6\", \"showlakes\": true, \"showland\": true, \"subunitcolor\": \"white\"}, \"hoverlabel\": {\"align\": \"left\"}, \"hovermode\": \"closest\", \"mapbox\": {\"style\": \"light\"}, \"paper_bgcolor\": \"white\", \"plot_bgcolor\": \"#E5ECF6\", \"polar\": {\"angularaxis\": {\"gridcolor\": \"white\", \"linecolor\": \"white\", \"ticks\": \"\"}, \"bgcolor\": \"#E5ECF6\", \"radialaxis\": {\"gridcolor\": \"white\", \"linecolor\": \"white\", \"ticks\": \"\"}}, \"scene\": {\"xaxis\": {\"backgroundcolor\": \"#E5ECF6\", \"gridcolor\": \"white\", \"gridwidth\": 2, \"linecolor\": \"white\", \"showbackground\": true, \"ticks\": \"\", \"zerolinecolor\": \"white\"}, \"yaxis\": {\"backgroundcolor\": \"#E5ECF6\", \"gridcolor\": \"white\", \"gridwidth\": 2, \"linecolor\": \"white\", \"showbackground\": true, \"ticks\": \"\", \"zerolinecolor\": \"white\"}, \"zaxis\": {\"backgroundcolor\": \"#E5ECF6\", \"gridcolor\": \"white\", \"gridwidth\": 2, \"linecolor\": \"white\", \"showbackground\": true, \"ticks\": \"\", \"zerolinecolor\": \"white\"}}, \"shapedefaults\": {\"line\": {\"color\": \"#2a3f5f\"}}, \"ternary\": {\"aaxis\": {\"gridcolor\": \"white\", \"linecolor\": \"white\", \"ticks\": \"\"}, \"baxis\": {\"gridcolor\": \"white\", \"linecolor\": \"white\", \"ticks\": \"\"}, \"bgcolor\": \"#E5ECF6\", \"caxis\": {\"gridcolor\": \"white\", \"linecolor\": \"white\", \"ticks\": \"\"}}, \"title\": {\"x\": 0.05}, \"xaxis\": {\"automargin\": true, \"gridcolor\": \"white\", \"linecolor\": \"white\", \"ticks\": \"\", \"title\": {\"standoff\": 15}, \"zerolinecolor\": \"white\", \"zerolinewidth\": 2}, \"yaxis\": {\"automargin\": true, \"gridcolor\": \"white\", \"linecolor\": \"white\", \"ticks\": \"\", \"title\": {\"standoff\": 15}, \"zerolinecolor\": \"white\", \"zerolinewidth\": 2}}}},\n",
       "                        {\"responsive\": true}\n",
       "                    ).then(function(){\n",
       "                            \n",
       "var gd = document.getElementById('d4c4ab20-025c-4e78-9fc4-703f4298e1ee');\n",
       "var x = new MutationObserver(function (mutations, observer) {{\n",
       "        var display = window.getComputedStyle(gd).display;\n",
       "        if (!display || display === 'none') {{\n",
       "            console.log([gd, 'removed!']);\n",
       "            Plotly.purge(gd);\n",
       "            observer.disconnect();\n",
       "        }}\n",
       "}});\n",
       "\n",
       "// Listen for the removal of the full notebook cells\n",
       "var notebookContainer = gd.closest('#notebook-container');\n",
       "if (notebookContainer) {{\n",
       "    x.observe(notebookContainer, {childList: true});\n",
       "}}\n",
       "\n",
       "// Listen for the clearing of the current output cell\n",
       "var outputEl = gd.closest('.output');\n",
       "if (outputEl) {{\n",
       "    x.observe(outputEl, {childList: true});\n",
       "}}\n",
       "\n",
       "                        })\n",
       "                };\n",
       "                });\n",
       "            </script>\n",
       "        </div>"
      ]
     },
     "metadata": {},
     "output_type": "display_data"
    }
   ],
   "source": [
    "fig = px.sunburst(freedoms_df, path=['Region', 'Country_Name', 'Business_Freedom', 'Labor_Freedom','Monetary_Freedom', 'Trade_Freedom'], values='Score2019',\n",
    "                  color='World_Rank', hover_data=['Country_Name'],\n",
    "                  color_continuous_scale='RdBu',\n",
    "                  color_continuous_midpoint=np.average(freedoms_df['World_Rank'], weights=freedoms_df['Score2019']))\n",
    "fig.show()"
   ]
  },
  {
   "cell_type": "code",
   "execution_count": null,
   "metadata": {},
   "outputs": [],
   "source": []
  }
 ],
 "metadata": {
  "kernelspec": {
   "display_name": "Python 3",
   "language": "python",
   "name": "python3"
  },
  "language_info": {
   "codemirror_mode": {
    "name": "ipython",
    "version": 3
   },
   "file_extension": ".py",
   "mimetype": "text/x-python",
   "name": "python",
   "nbconvert_exporter": "python",
   "pygments_lexer": "ipython3",
   "version": "3.7.6"
  }
 },
 "nbformat": 4,
 "nbformat_minor": 4
}
